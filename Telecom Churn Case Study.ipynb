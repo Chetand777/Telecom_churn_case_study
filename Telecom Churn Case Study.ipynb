{
 "cells": [
  {
   "cell_type": "markdown",
   "id": "7e5ee862",
   "metadata": {},
   "source": [
    "# TELECOM CHURN CASE STUDY"
   ]
  },
  {
   "cell_type": "markdown",
   "id": "b3b99e0d",
   "metadata": {},
   "source": [
    "## PROBLEM STATEMENT"
   ]
  },
  {
   "cell_type": "markdown",
   "id": "f96a3526",
   "metadata": {},
   "source": [
    "Problem Statement:\n",
    "In the telecom industry, customers are able to choose from multiple service providers and actively switch from one operator to another. In this highly competitive market, the telecommunications industry experiences an average of 15-25% annual churn rate. Given the fact that it costs 5-10 times more to acquire a new customer than to retain an existing one, customer retention has now become even more important than customer acquisition. For many incumbent operators, retaining high profitable customers is the number one business goal. To reduce customer churn, telecom companies need to predict which customers are at high risk of churn. In this project, you will analyse customer-level data of a leading telecom firm, build predictive models to identify customers at high risk of churn and identify the main indicators of churn. Understanding and defining Churn: There are various ways to define churn, such as: Revenue-based churn Usage-based churn For this project, you will use the usage-based definition to define churn. Usage-based churn: Customers who have not done any usage, either incoming or outgoing - in terms of calls, internet etc. over a period of time. A potential shortcoming of this definition is that when the customer has stopped using the services for a while, it may be too late to take any corrective actions to retain them. For e.g., if you define churn based on a ‘two-months zero usage’ period, predicting churn could be useless since by that time the customer would have already switched to another operator. Business Objective and Data: The dataset contains customer-level information for a span of four consecutive months - June, July, August and September. The months are encoded as 6, 7, 8 and 9, respectively. The business objective is to predict the churn in the last (i.e. the ninth) month using the data (features) from the first three months. To do this task well, understanding the typical customer behaviour during churn will be helpful. Understanding Customer Behaviour During Churn: Customers usually do not decide to switch to another competitor instantly, but rather over a period of time (this is especially applicable to high-value customers). In churn prediction, we assume that there are three phases of customer lifecycle : The ‘good’ phase: In this phase, the customer is happy with the service and behaves as usual. The ‘action’ phase: The customer experience starts to sore in this phase, for e.g. he/she gets a compelling offer from a  competitor, faces unjust charges, becomes unhappy with service quality etc. In this phase, the customer usually shows different behaviour than the ‘good’ months. Also, it is crucial to identify high-churn-risk customers in this phase, since some corrective actions can be taken at this point (such as matching the competitor’s offer/improving the service quality etc.) The ‘churn’ phase: In this phase, the customer is said to have churned. You define churn based on this phase. Also, it is important to note that at the time of prediction (i.e. the action months), this data is not available to you for prediction. Thus, after tagging churn as 1/0 based on this phase, you discard all data corresponding to this phase."
   ]
  },
  {
   "cell_type": "code",
   "execution_count": 180,
   "id": "e83c8d34",
   "metadata": {},
   "outputs": [],
   "source": [
    "# Importing Required Libraries\n",
    "import numpy as np\n",
    "import pandas as pd\n",
    "import matplotlib.pyplot as plt\n",
    "import seaborn as sns\n",
    "%matplotlib inline"
   ]
  },
  {
   "cell_type": "markdown",
   "id": "ededb9cb",
   "metadata": {},
   "source": [
    "### %matplotlib inline command renders the plot inline in notebook and store it."
   ]
  },
  {
   "cell_type": "markdown",
   "id": "12ffdf52",
   "metadata": {},
   "source": [
    "## 1) READING AND UNDERSTANDING THE DATA"
   ]
  },
  {
   "cell_type": "code",
   "execution_count": 181,
   "id": "a19160bc",
   "metadata": {},
   "outputs": [
    {
     "data": {
      "text/html": [
       "<div>\n",
       "<style scoped>\n",
       "    .dataframe tbody tr th:only-of-type {\n",
       "        vertical-align: middle;\n",
       "    }\n",
       "\n",
       "    .dataframe tbody tr th {\n",
       "        vertical-align: top;\n",
       "    }\n",
       "\n",
       "    .dataframe thead th {\n",
       "        text-align: right;\n",
       "    }\n",
       "</style>\n",
       "<table border=\"1\" class=\"dataframe\">\n",
       "  <thead>\n",
       "    <tr style=\"text-align: right;\">\n",
       "      <th></th>\n",
       "      <th>mobile_number</th>\n",
       "      <th>circle_id</th>\n",
       "      <th>loc_og_t2o_mou</th>\n",
       "      <th>std_og_t2o_mou</th>\n",
       "      <th>loc_ic_t2o_mou</th>\n",
       "      <th>last_date_of_month_6</th>\n",
       "      <th>last_date_of_month_7</th>\n",
       "      <th>last_date_of_month_8</th>\n",
       "      <th>last_date_of_month_9</th>\n",
       "      <th>arpu_6</th>\n",
       "      <th>...</th>\n",
       "      <th>sachet_3g_9</th>\n",
       "      <th>fb_user_6</th>\n",
       "      <th>fb_user_7</th>\n",
       "      <th>fb_user_8</th>\n",
       "      <th>fb_user_9</th>\n",
       "      <th>aon</th>\n",
       "      <th>aug_vbc_3g</th>\n",
       "      <th>jul_vbc_3g</th>\n",
       "      <th>jun_vbc_3g</th>\n",
       "      <th>sep_vbc_3g</th>\n",
       "    </tr>\n",
       "  </thead>\n",
       "  <tbody>\n",
       "    <tr>\n",
       "      <th>0</th>\n",
       "      <td>7000842753</td>\n",
       "      <td>109</td>\n",
       "      <td>0.0</td>\n",
       "      <td>0.0</td>\n",
       "      <td>0.0</td>\n",
       "      <td>6/30/2014</td>\n",
       "      <td>7/31/2014</td>\n",
       "      <td>8/31/2014</td>\n",
       "      <td>9/30/2014</td>\n",
       "      <td>197.385</td>\n",
       "      <td>...</td>\n",
       "      <td>0</td>\n",
       "      <td>1.0</td>\n",
       "      <td>1.0</td>\n",
       "      <td>1.0</td>\n",
       "      <td>NaN</td>\n",
       "      <td>968</td>\n",
       "      <td>30.4</td>\n",
       "      <td>0.0</td>\n",
       "      <td>101.20</td>\n",
       "      <td>3.58</td>\n",
       "    </tr>\n",
       "    <tr>\n",
       "      <th>1</th>\n",
       "      <td>7001865778</td>\n",
       "      <td>109</td>\n",
       "      <td>0.0</td>\n",
       "      <td>0.0</td>\n",
       "      <td>0.0</td>\n",
       "      <td>6/30/2014</td>\n",
       "      <td>7/31/2014</td>\n",
       "      <td>8/31/2014</td>\n",
       "      <td>9/30/2014</td>\n",
       "      <td>34.047</td>\n",
       "      <td>...</td>\n",
       "      <td>0</td>\n",
       "      <td>NaN</td>\n",
       "      <td>1.0</td>\n",
       "      <td>1.0</td>\n",
       "      <td>NaN</td>\n",
       "      <td>1006</td>\n",
       "      <td>0.0</td>\n",
       "      <td>0.0</td>\n",
       "      <td>0.00</td>\n",
       "      <td>0.00</td>\n",
       "    </tr>\n",
       "    <tr>\n",
       "      <th>2</th>\n",
       "      <td>7001625959</td>\n",
       "      <td>109</td>\n",
       "      <td>0.0</td>\n",
       "      <td>0.0</td>\n",
       "      <td>0.0</td>\n",
       "      <td>6/30/2014</td>\n",
       "      <td>7/31/2014</td>\n",
       "      <td>8/31/2014</td>\n",
       "      <td>9/30/2014</td>\n",
       "      <td>167.690</td>\n",
       "      <td>...</td>\n",
       "      <td>0</td>\n",
       "      <td>NaN</td>\n",
       "      <td>NaN</td>\n",
       "      <td>NaN</td>\n",
       "      <td>1.0</td>\n",
       "      <td>1103</td>\n",
       "      <td>0.0</td>\n",
       "      <td>0.0</td>\n",
       "      <td>4.17</td>\n",
       "      <td>0.00</td>\n",
       "    </tr>\n",
       "    <tr>\n",
       "      <th>3</th>\n",
       "      <td>7001204172</td>\n",
       "      <td>109</td>\n",
       "      <td>0.0</td>\n",
       "      <td>0.0</td>\n",
       "      <td>0.0</td>\n",
       "      <td>6/30/2014</td>\n",
       "      <td>7/31/2014</td>\n",
       "      <td>8/31/2014</td>\n",
       "      <td>9/30/2014</td>\n",
       "      <td>221.338</td>\n",
       "      <td>...</td>\n",
       "      <td>0</td>\n",
       "      <td>NaN</td>\n",
       "      <td>NaN</td>\n",
       "      <td>NaN</td>\n",
       "      <td>NaN</td>\n",
       "      <td>2491</td>\n",
       "      <td>0.0</td>\n",
       "      <td>0.0</td>\n",
       "      <td>0.00</td>\n",
       "      <td>0.00</td>\n",
       "    </tr>\n",
       "    <tr>\n",
       "      <th>4</th>\n",
       "      <td>7000142493</td>\n",
       "      <td>109</td>\n",
       "      <td>0.0</td>\n",
       "      <td>0.0</td>\n",
       "      <td>0.0</td>\n",
       "      <td>6/30/2014</td>\n",
       "      <td>7/31/2014</td>\n",
       "      <td>8/31/2014</td>\n",
       "      <td>9/30/2014</td>\n",
       "      <td>261.636</td>\n",
       "      <td>...</td>\n",
       "      <td>0</td>\n",
       "      <td>0.0</td>\n",
       "      <td>NaN</td>\n",
       "      <td>NaN</td>\n",
       "      <td>NaN</td>\n",
       "      <td>1526</td>\n",
       "      <td>0.0</td>\n",
       "      <td>0.0</td>\n",
       "      <td>0.00</td>\n",
       "      <td>0.00</td>\n",
       "    </tr>\n",
       "  </tbody>\n",
       "</table>\n",
       "<p>5 rows × 226 columns</p>\n",
       "</div>"
      ],
      "text/plain": [
       "   mobile_number  circle_id  loc_og_t2o_mou  std_og_t2o_mou  loc_ic_t2o_mou  \\\n",
       "0     7000842753        109             0.0             0.0             0.0   \n",
       "1     7001865778        109             0.0             0.0             0.0   \n",
       "2     7001625959        109             0.0             0.0             0.0   \n",
       "3     7001204172        109             0.0             0.0             0.0   \n",
       "4     7000142493        109             0.0             0.0             0.0   \n",
       "\n",
       "  last_date_of_month_6 last_date_of_month_7 last_date_of_month_8  \\\n",
       "0            6/30/2014            7/31/2014            8/31/2014   \n",
       "1            6/30/2014            7/31/2014            8/31/2014   \n",
       "2            6/30/2014            7/31/2014            8/31/2014   \n",
       "3            6/30/2014            7/31/2014            8/31/2014   \n",
       "4            6/30/2014            7/31/2014            8/31/2014   \n",
       "\n",
       "  last_date_of_month_9   arpu_6  ...  sachet_3g_9  fb_user_6  fb_user_7  \\\n",
       "0            9/30/2014  197.385  ...            0        1.0        1.0   \n",
       "1            9/30/2014   34.047  ...            0        NaN        1.0   \n",
       "2            9/30/2014  167.690  ...            0        NaN        NaN   \n",
       "3            9/30/2014  221.338  ...            0        NaN        NaN   \n",
       "4            9/30/2014  261.636  ...            0        0.0        NaN   \n",
       "\n",
       "   fb_user_8  fb_user_9   aon  aug_vbc_3g  jul_vbc_3g  jun_vbc_3g  sep_vbc_3g  \n",
       "0        1.0        NaN   968        30.4         0.0      101.20        3.58  \n",
       "1        1.0        NaN  1006         0.0         0.0        0.00        0.00  \n",
       "2        NaN        1.0  1103         0.0         0.0        4.17        0.00  \n",
       "3        NaN        NaN  2491         0.0         0.0        0.00        0.00  \n",
       "4        NaN        NaN  1526         0.0         0.0        0.00        0.00  \n",
       "\n",
       "[5 rows x 226 columns]"
      ]
     },
     "execution_count": 181,
     "metadata": {},
     "output_type": "execute_result"
    }
   ],
   "source": [
    "# Importing the Telecom Churn dataset\n",
    "data = pd.read_csv('C:\\\\Users\\\\asus\\\\Downloads\\\\Telecom Churn Case Study\\\\telecom_churn_data.csv')\n",
    "data.head()"
   ]
  },
  {
   "cell_type": "code",
   "execution_count": 182,
   "id": "1381870e",
   "metadata": {},
   "outputs": [
    {
     "data": {
      "text/plain": [
       "(99999, 226)"
      ]
     },
     "execution_count": 182,
     "metadata": {},
     "output_type": "execute_result"
    }
   ],
   "source": [
    "# Lets check the shape of the dataset\n",
    "data.shape"
   ]
  },
  {
   "cell_type": "markdown",
   "id": "4fb1f28e",
   "metadata": {},
   "source": [
    "### There are 99,999 rows and 226 columns present in dataset."
   ]
  },
  {
   "cell_type": "code",
   "execution_count": 183,
   "id": "bcf7ac67",
   "metadata": {},
   "outputs": [
    {
     "name": "stdout",
     "output_type": "stream",
     "text": [
      "<class 'pandas.core.frame.DataFrame'>\n",
      "RangeIndex: 99999 entries, 0 to 99998\n",
      "Data columns (total 226 columns):\n",
      " #    Column                    Dtype  \n",
      "---   ------                    -----  \n",
      " 0    mobile_number             int64  \n",
      " 1    circle_id                 int64  \n",
      " 2    loc_og_t2o_mou            float64\n",
      " 3    std_og_t2o_mou            float64\n",
      " 4    loc_ic_t2o_mou            float64\n",
      " 5    last_date_of_month_6      object \n",
      " 6    last_date_of_month_7      object \n",
      " 7    last_date_of_month_8      object \n",
      " 8    last_date_of_month_9      object \n",
      " 9    arpu_6                    float64\n",
      " 10   arpu_7                    float64\n",
      " 11   arpu_8                    float64\n",
      " 12   arpu_9                    float64\n",
      " 13   onnet_mou_6               float64\n",
      " 14   onnet_mou_7               float64\n",
      " 15   onnet_mou_8               float64\n",
      " 16   onnet_mou_9               float64\n",
      " 17   offnet_mou_6              float64\n",
      " 18   offnet_mou_7              float64\n",
      " 19   offnet_mou_8              float64\n",
      " 20   offnet_mou_9              float64\n",
      " 21   roam_ic_mou_6             float64\n",
      " 22   roam_ic_mou_7             float64\n",
      " 23   roam_ic_mou_8             float64\n",
      " 24   roam_ic_mou_9             float64\n",
      " 25   roam_og_mou_6             float64\n",
      " 26   roam_og_mou_7             float64\n",
      " 27   roam_og_mou_8             float64\n",
      " 28   roam_og_mou_9             float64\n",
      " 29   loc_og_t2t_mou_6          float64\n",
      " 30   loc_og_t2t_mou_7          float64\n",
      " 31   loc_og_t2t_mou_8          float64\n",
      " 32   loc_og_t2t_mou_9          float64\n",
      " 33   loc_og_t2m_mou_6          float64\n",
      " 34   loc_og_t2m_mou_7          float64\n",
      " 35   loc_og_t2m_mou_8          float64\n",
      " 36   loc_og_t2m_mou_9          float64\n",
      " 37   loc_og_t2f_mou_6          float64\n",
      " 38   loc_og_t2f_mou_7          float64\n",
      " 39   loc_og_t2f_mou_8          float64\n",
      " 40   loc_og_t2f_mou_9          float64\n",
      " 41   loc_og_t2c_mou_6          float64\n",
      " 42   loc_og_t2c_mou_7          float64\n",
      " 43   loc_og_t2c_mou_8          float64\n",
      " 44   loc_og_t2c_mou_9          float64\n",
      " 45   loc_og_mou_6              float64\n",
      " 46   loc_og_mou_7              float64\n",
      " 47   loc_og_mou_8              float64\n",
      " 48   loc_og_mou_9              float64\n",
      " 49   std_og_t2t_mou_6          float64\n",
      " 50   std_og_t2t_mou_7          float64\n",
      " 51   std_og_t2t_mou_8          float64\n",
      " 52   std_og_t2t_mou_9          float64\n",
      " 53   std_og_t2m_mou_6          float64\n",
      " 54   std_og_t2m_mou_7          float64\n",
      " 55   std_og_t2m_mou_8          float64\n",
      " 56   std_og_t2m_mou_9          float64\n",
      " 57   std_og_t2f_mou_6          float64\n",
      " 58   std_og_t2f_mou_7          float64\n",
      " 59   std_og_t2f_mou_8          float64\n",
      " 60   std_og_t2f_mou_9          float64\n",
      " 61   std_og_t2c_mou_6          float64\n",
      " 62   std_og_t2c_mou_7          float64\n",
      " 63   std_og_t2c_mou_8          float64\n",
      " 64   std_og_t2c_mou_9          float64\n",
      " 65   std_og_mou_6              float64\n",
      " 66   std_og_mou_7              float64\n",
      " 67   std_og_mou_8              float64\n",
      " 68   std_og_mou_9              float64\n",
      " 69   isd_og_mou_6              float64\n",
      " 70   isd_og_mou_7              float64\n",
      " 71   isd_og_mou_8              float64\n",
      " 72   isd_og_mou_9              float64\n",
      " 73   spl_og_mou_6              float64\n",
      " 74   spl_og_mou_7              float64\n",
      " 75   spl_og_mou_8              float64\n",
      " 76   spl_og_mou_9              float64\n",
      " 77   og_others_6               float64\n",
      " 78   og_others_7               float64\n",
      " 79   og_others_8               float64\n",
      " 80   og_others_9               float64\n",
      " 81   total_og_mou_6            float64\n",
      " 82   total_og_mou_7            float64\n",
      " 83   total_og_mou_8            float64\n",
      " 84   total_og_mou_9            float64\n",
      " 85   loc_ic_t2t_mou_6          float64\n",
      " 86   loc_ic_t2t_mou_7          float64\n",
      " 87   loc_ic_t2t_mou_8          float64\n",
      " 88   loc_ic_t2t_mou_9          float64\n",
      " 89   loc_ic_t2m_mou_6          float64\n",
      " 90   loc_ic_t2m_mou_7          float64\n",
      " 91   loc_ic_t2m_mou_8          float64\n",
      " 92   loc_ic_t2m_mou_9          float64\n",
      " 93   loc_ic_t2f_mou_6          float64\n",
      " 94   loc_ic_t2f_mou_7          float64\n",
      " 95   loc_ic_t2f_mou_8          float64\n",
      " 96   loc_ic_t2f_mou_9          float64\n",
      " 97   loc_ic_mou_6              float64\n",
      " 98   loc_ic_mou_7              float64\n",
      " 99   loc_ic_mou_8              float64\n",
      " 100  loc_ic_mou_9              float64\n",
      " 101  std_ic_t2t_mou_6          float64\n",
      " 102  std_ic_t2t_mou_7          float64\n",
      " 103  std_ic_t2t_mou_8          float64\n",
      " 104  std_ic_t2t_mou_9          float64\n",
      " 105  std_ic_t2m_mou_6          float64\n",
      " 106  std_ic_t2m_mou_7          float64\n",
      " 107  std_ic_t2m_mou_8          float64\n",
      " 108  std_ic_t2m_mou_9          float64\n",
      " 109  std_ic_t2f_mou_6          float64\n",
      " 110  std_ic_t2f_mou_7          float64\n",
      " 111  std_ic_t2f_mou_8          float64\n",
      " 112  std_ic_t2f_mou_9          float64\n",
      " 113  std_ic_t2o_mou_6          float64\n",
      " 114  std_ic_t2o_mou_7          float64\n",
      " 115  std_ic_t2o_mou_8          float64\n",
      " 116  std_ic_t2o_mou_9          float64\n",
      " 117  std_ic_mou_6              float64\n",
      " 118  std_ic_mou_7              float64\n",
      " 119  std_ic_mou_8              float64\n",
      " 120  std_ic_mou_9              float64\n",
      " 121  total_ic_mou_6            float64\n",
      " 122  total_ic_mou_7            float64\n",
      " 123  total_ic_mou_8            float64\n",
      " 124  total_ic_mou_9            float64\n",
      " 125  spl_ic_mou_6              float64\n",
      " 126  spl_ic_mou_7              float64\n",
      " 127  spl_ic_mou_8              float64\n",
      " 128  spl_ic_mou_9              float64\n",
      " 129  isd_ic_mou_6              float64\n",
      " 130  isd_ic_mou_7              float64\n",
      " 131  isd_ic_mou_8              float64\n",
      " 132  isd_ic_mou_9              float64\n",
      " 133  ic_others_6               float64\n",
      " 134  ic_others_7               float64\n",
      " 135  ic_others_8               float64\n",
      " 136  ic_others_9               float64\n",
      " 137  total_rech_num_6          int64  \n",
      " 138  total_rech_num_7          int64  \n",
      " 139  total_rech_num_8          int64  \n",
      " 140  total_rech_num_9          int64  \n",
      " 141  total_rech_amt_6          int64  \n",
      " 142  total_rech_amt_7          int64  \n",
      " 143  total_rech_amt_8          int64  \n",
      " 144  total_rech_amt_9          int64  \n",
      " 145  max_rech_amt_6            int64  \n",
      " 146  max_rech_amt_7            int64  \n",
      " 147  max_rech_amt_8            int64  \n",
      " 148  max_rech_amt_9            int64  \n",
      " 149  date_of_last_rech_6       object \n",
      " 150  date_of_last_rech_7       object \n",
      " 151  date_of_last_rech_8       object \n",
      " 152  date_of_last_rech_9       object \n",
      " 153  last_day_rch_amt_6        int64  \n",
      " 154  last_day_rch_amt_7        int64  \n",
      " 155  last_day_rch_amt_8        int64  \n",
      " 156  last_day_rch_amt_9        int64  \n",
      " 157  date_of_last_rech_data_6  object \n",
      " 158  date_of_last_rech_data_7  object \n",
      " 159  date_of_last_rech_data_8  object \n",
      " 160  date_of_last_rech_data_9  object \n",
      " 161  total_rech_data_6         float64\n",
      " 162  total_rech_data_7         float64\n",
      " 163  total_rech_data_8         float64\n",
      " 164  total_rech_data_9         float64\n",
      " 165  max_rech_data_6           float64\n",
      " 166  max_rech_data_7           float64\n",
      " 167  max_rech_data_8           float64\n",
      " 168  max_rech_data_9           float64\n",
      " 169  count_rech_2g_6           float64\n",
      " 170  count_rech_2g_7           float64\n",
      " 171  count_rech_2g_8           float64\n",
      " 172  count_rech_2g_9           float64\n",
      " 173  count_rech_3g_6           float64\n",
      " 174  count_rech_3g_7           float64\n",
      " 175  count_rech_3g_8           float64\n",
      " 176  count_rech_3g_9           float64\n",
      " 177  av_rech_amt_data_6        float64\n",
      " 178  av_rech_amt_data_7        float64\n",
      " 179  av_rech_amt_data_8        float64\n",
      " 180  av_rech_amt_data_9        float64\n",
      " 181  vol_2g_mb_6               float64\n",
      " 182  vol_2g_mb_7               float64\n",
      " 183  vol_2g_mb_8               float64\n",
      " 184  vol_2g_mb_9               float64\n",
      " 185  vol_3g_mb_6               float64\n",
      " 186  vol_3g_mb_7               float64\n",
      " 187  vol_3g_mb_8               float64\n",
      " 188  vol_3g_mb_9               float64\n",
      " 189  arpu_3g_6                 float64\n",
      " 190  arpu_3g_7                 float64\n",
      " 191  arpu_3g_8                 float64\n",
      " 192  arpu_3g_9                 float64\n",
      " 193  arpu_2g_6                 float64\n",
      " 194  arpu_2g_7                 float64\n",
      " 195  arpu_2g_8                 float64\n",
      " 196  arpu_2g_9                 float64\n",
      " 197  night_pck_user_6          float64\n",
      " 198  night_pck_user_7          float64\n",
      " 199  night_pck_user_8          float64\n",
      " 200  night_pck_user_9          float64\n",
      " 201  monthly_2g_6              int64  \n",
      " 202  monthly_2g_7              int64  \n",
      " 203  monthly_2g_8              int64  \n",
      " 204  monthly_2g_9              int64  \n",
      " 205  sachet_2g_6               int64  \n",
      " 206  sachet_2g_7               int64  \n",
      " 207  sachet_2g_8               int64  \n",
      " 208  sachet_2g_9               int64  \n",
      " 209  monthly_3g_6              int64  \n",
      " 210  monthly_3g_7              int64  \n",
      " 211  monthly_3g_8              int64  \n",
      " 212  monthly_3g_9              int64  \n",
      " 213  sachet_3g_6               int64  \n",
      " 214  sachet_3g_7               int64  \n",
      " 215  sachet_3g_8               int64  \n",
      " 216  sachet_3g_9               int64  \n",
      " 217  fb_user_6                 float64\n",
      " 218  fb_user_7                 float64\n",
      " 219  fb_user_8                 float64\n",
      " 220  fb_user_9                 float64\n",
      " 221  aon                       int64  \n",
      " 222  aug_vbc_3g                float64\n",
      " 223  jul_vbc_3g                float64\n",
      " 224  jun_vbc_3g                float64\n",
      " 225  sep_vbc_3g                float64\n",
      "dtypes: float64(179), int64(35), object(12)\n",
      "memory usage: 172.4+ MB\n"
     ]
    }
   ],
   "source": [
    "# Lets check the general information abount the datatypes of the columns\n",
    "data.info('all')"
   ]
  },
  {
   "cell_type": "markdown",
   "id": "dde4b850",
   "metadata": {},
   "source": [
    "### There are 179 columns with float64 datatype, 35 columns with int64 datatype and 12 columns having object datatype."
   ]
  },
  {
   "cell_type": "code",
   "execution_count": 184,
   "id": "a1e81f39",
   "metadata": {},
   "outputs": [
    {
     "data": {
      "text/html": [
       "<div>\n",
       "<style scoped>\n",
       "    .dataframe tbody tr th:only-of-type {\n",
       "        vertical-align: middle;\n",
       "    }\n",
       "\n",
       "    .dataframe tbody tr th {\n",
       "        vertical-align: top;\n",
       "    }\n",
       "\n",
       "    .dataframe thead th {\n",
       "        text-align: right;\n",
       "    }\n",
       "</style>\n",
       "<table border=\"1\" class=\"dataframe\">\n",
       "  <thead>\n",
       "    <tr style=\"text-align: right;\">\n",
       "      <th></th>\n",
       "      <th>mobile_number</th>\n",
       "      <th>circle_id</th>\n",
       "      <th>loc_og_t2o_mou</th>\n",
       "      <th>std_og_t2o_mou</th>\n",
       "      <th>loc_ic_t2o_mou</th>\n",
       "      <th>arpu_6</th>\n",
       "      <th>arpu_7</th>\n",
       "      <th>arpu_8</th>\n",
       "      <th>arpu_9</th>\n",
       "      <th>onnet_mou_6</th>\n",
       "      <th>...</th>\n",
       "      <th>sachet_3g_9</th>\n",
       "      <th>fb_user_6</th>\n",
       "      <th>fb_user_7</th>\n",
       "      <th>fb_user_8</th>\n",
       "      <th>fb_user_9</th>\n",
       "      <th>aon</th>\n",
       "      <th>aug_vbc_3g</th>\n",
       "      <th>jul_vbc_3g</th>\n",
       "      <th>jun_vbc_3g</th>\n",
       "      <th>sep_vbc_3g</th>\n",
       "    </tr>\n",
       "  </thead>\n",
       "  <tbody>\n",
       "    <tr>\n",
       "      <th>count</th>\n",
       "      <td>9.999900e+04</td>\n",
       "      <td>99999.0</td>\n",
       "      <td>98981.0</td>\n",
       "      <td>98981.0</td>\n",
       "      <td>98981.0</td>\n",
       "      <td>99999.000000</td>\n",
       "      <td>99999.000000</td>\n",
       "      <td>99999.000000</td>\n",
       "      <td>99999.000000</td>\n",
       "      <td>96062.000000</td>\n",
       "      <td>...</td>\n",
       "      <td>99999.000000</td>\n",
       "      <td>25153.000000</td>\n",
       "      <td>25571.000000</td>\n",
       "      <td>26339.000000</td>\n",
       "      <td>25922.000000</td>\n",
       "      <td>99999.000000</td>\n",
       "      <td>99999.000000</td>\n",
       "      <td>99999.000000</td>\n",
       "      <td>99999.000000</td>\n",
       "      <td>99999.000000</td>\n",
       "    </tr>\n",
       "    <tr>\n",
       "      <th>mean</th>\n",
       "      <td>7.001207e+09</td>\n",
       "      <td>109.0</td>\n",
       "      <td>0.0</td>\n",
       "      <td>0.0</td>\n",
       "      <td>0.0</td>\n",
       "      <td>282.987358</td>\n",
       "      <td>278.536648</td>\n",
       "      <td>279.154731</td>\n",
       "      <td>261.645069</td>\n",
       "      <td>132.395875</td>\n",
       "      <td>...</td>\n",
       "      <td>0.084581</td>\n",
       "      <td>0.914404</td>\n",
       "      <td>0.908764</td>\n",
       "      <td>0.890808</td>\n",
       "      <td>0.860968</td>\n",
       "      <td>1219.854749</td>\n",
       "      <td>68.170248</td>\n",
       "      <td>66.839062</td>\n",
       "      <td>60.021204</td>\n",
       "      <td>3.299373</td>\n",
       "    </tr>\n",
       "    <tr>\n",
       "      <th>std</th>\n",
       "      <td>6.956694e+05</td>\n",
       "      <td>0.0</td>\n",
       "      <td>0.0</td>\n",
       "      <td>0.0</td>\n",
       "      <td>0.0</td>\n",
       "      <td>328.439770</td>\n",
       "      <td>338.156291</td>\n",
       "      <td>344.474791</td>\n",
       "      <td>341.998630</td>\n",
       "      <td>297.207406</td>\n",
       "      <td>...</td>\n",
       "      <td>0.650457</td>\n",
       "      <td>0.279772</td>\n",
       "      <td>0.287950</td>\n",
       "      <td>0.311885</td>\n",
       "      <td>0.345987</td>\n",
       "      <td>954.733842</td>\n",
       "      <td>267.580450</td>\n",
       "      <td>271.201856</td>\n",
       "      <td>253.938223</td>\n",
       "      <td>32.408353</td>\n",
       "    </tr>\n",
       "    <tr>\n",
       "      <th>min</th>\n",
       "      <td>7.000000e+09</td>\n",
       "      <td>109.0</td>\n",
       "      <td>0.0</td>\n",
       "      <td>0.0</td>\n",
       "      <td>0.0</td>\n",
       "      <td>-2258.709000</td>\n",
       "      <td>-2014.045000</td>\n",
       "      <td>-945.808000</td>\n",
       "      <td>-1899.505000</td>\n",
       "      <td>0.000000</td>\n",
       "      <td>...</td>\n",
       "      <td>0.000000</td>\n",
       "      <td>0.000000</td>\n",
       "      <td>0.000000</td>\n",
       "      <td>0.000000</td>\n",
       "      <td>0.000000</td>\n",
       "      <td>180.000000</td>\n",
       "      <td>0.000000</td>\n",
       "      <td>0.000000</td>\n",
       "      <td>0.000000</td>\n",
       "      <td>0.000000</td>\n",
       "    </tr>\n",
       "    <tr>\n",
       "      <th>25%</th>\n",
       "      <td>7.000606e+09</td>\n",
       "      <td>109.0</td>\n",
       "      <td>0.0</td>\n",
       "      <td>0.0</td>\n",
       "      <td>0.0</td>\n",
       "      <td>93.411500</td>\n",
       "      <td>86.980500</td>\n",
       "      <td>84.126000</td>\n",
       "      <td>62.685000</td>\n",
       "      <td>7.380000</td>\n",
       "      <td>...</td>\n",
       "      <td>0.000000</td>\n",
       "      <td>1.000000</td>\n",
       "      <td>1.000000</td>\n",
       "      <td>1.000000</td>\n",
       "      <td>1.000000</td>\n",
       "      <td>467.000000</td>\n",
       "      <td>0.000000</td>\n",
       "      <td>0.000000</td>\n",
       "      <td>0.000000</td>\n",
       "      <td>0.000000</td>\n",
       "    </tr>\n",
       "    <tr>\n",
       "      <th>50%</th>\n",
       "      <td>7.001205e+09</td>\n",
       "      <td>109.0</td>\n",
       "      <td>0.0</td>\n",
       "      <td>0.0</td>\n",
       "      <td>0.0</td>\n",
       "      <td>197.704000</td>\n",
       "      <td>191.640000</td>\n",
       "      <td>192.080000</td>\n",
       "      <td>176.849000</td>\n",
       "      <td>34.310000</td>\n",
       "      <td>...</td>\n",
       "      <td>0.000000</td>\n",
       "      <td>1.000000</td>\n",
       "      <td>1.000000</td>\n",
       "      <td>1.000000</td>\n",
       "      <td>1.000000</td>\n",
       "      <td>863.000000</td>\n",
       "      <td>0.000000</td>\n",
       "      <td>0.000000</td>\n",
       "      <td>0.000000</td>\n",
       "      <td>0.000000</td>\n",
       "    </tr>\n",
       "    <tr>\n",
       "      <th>75%</th>\n",
       "      <td>7.001812e+09</td>\n",
       "      <td>109.0</td>\n",
       "      <td>0.0</td>\n",
       "      <td>0.0</td>\n",
       "      <td>0.0</td>\n",
       "      <td>371.060000</td>\n",
       "      <td>365.344500</td>\n",
       "      <td>369.370500</td>\n",
       "      <td>353.466500</td>\n",
       "      <td>118.740000</td>\n",
       "      <td>...</td>\n",
       "      <td>0.000000</td>\n",
       "      <td>1.000000</td>\n",
       "      <td>1.000000</td>\n",
       "      <td>1.000000</td>\n",
       "      <td>1.000000</td>\n",
       "      <td>1807.500000</td>\n",
       "      <td>0.000000</td>\n",
       "      <td>0.000000</td>\n",
       "      <td>0.000000</td>\n",
       "      <td>0.000000</td>\n",
       "    </tr>\n",
       "    <tr>\n",
       "      <th>max</th>\n",
       "      <td>7.002411e+09</td>\n",
       "      <td>109.0</td>\n",
       "      <td>0.0</td>\n",
       "      <td>0.0</td>\n",
       "      <td>0.0</td>\n",
       "      <td>27731.088000</td>\n",
       "      <td>35145.834000</td>\n",
       "      <td>33543.624000</td>\n",
       "      <td>38805.617000</td>\n",
       "      <td>7376.710000</td>\n",
       "      <td>...</td>\n",
       "      <td>49.000000</td>\n",
       "      <td>1.000000</td>\n",
       "      <td>1.000000</td>\n",
       "      <td>1.000000</td>\n",
       "      <td>1.000000</td>\n",
       "      <td>4337.000000</td>\n",
       "      <td>12916.220000</td>\n",
       "      <td>9165.600000</td>\n",
       "      <td>11166.210000</td>\n",
       "      <td>2618.570000</td>\n",
       "    </tr>\n",
       "  </tbody>\n",
       "</table>\n",
       "<p>8 rows × 214 columns</p>\n",
       "</div>"
      ],
      "text/plain": [
       "       mobile_number  circle_id  loc_og_t2o_mou  std_og_t2o_mou  \\\n",
       "count   9.999900e+04    99999.0         98981.0         98981.0   \n",
       "mean    7.001207e+09      109.0             0.0             0.0   \n",
       "std     6.956694e+05        0.0             0.0             0.0   \n",
       "min     7.000000e+09      109.0             0.0             0.0   \n",
       "25%     7.000606e+09      109.0             0.0             0.0   \n",
       "50%     7.001205e+09      109.0             0.0             0.0   \n",
       "75%     7.001812e+09      109.0             0.0             0.0   \n",
       "max     7.002411e+09      109.0             0.0             0.0   \n",
       "\n",
       "       loc_ic_t2o_mou        arpu_6        arpu_7        arpu_8        arpu_9  \\\n",
       "count         98981.0  99999.000000  99999.000000  99999.000000  99999.000000   \n",
       "mean              0.0    282.987358    278.536648    279.154731    261.645069   \n",
       "std               0.0    328.439770    338.156291    344.474791    341.998630   \n",
       "min               0.0  -2258.709000  -2014.045000   -945.808000  -1899.505000   \n",
       "25%               0.0     93.411500     86.980500     84.126000     62.685000   \n",
       "50%               0.0    197.704000    191.640000    192.080000    176.849000   \n",
       "75%               0.0    371.060000    365.344500    369.370500    353.466500   \n",
       "max               0.0  27731.088000  35145.834000  33543.624000  38805.617000   \n",
       "\n",
       "        onnet_mou_6  ...   sachet_3g_9     fb_user_6     fb_user_7  \\\n",
       "count  96062.000000  ...  99999.000000  25153.000000  25571.000000   \n",
       "mean     132.395875  ...      0.084581      0.914404      0.908764   \n",
       "std      297.207406  ...      0.650457      0.279772      0.287950   \n",
       "min        0.000000  ...      0.000000      0.000000      0.000000   \n",
       "25%        7.380000  ...      0.000000      1.000000      1.000000   \n",
       "50%       34.310000  ...      0.000000      1.000000      1.000000   \n",
       "75%      118.740000  ...      0.000000      1.000000      1.000000   \n",
       "max     7376.710000  ...     49.000000      1.000000      1.000000   \n",
       "\n",
       "          fb_user_8     fb_user_9           aon    aug_vbc_3g    jul_vbc_3g  \\\n",
       "count  26339.000000  25922.000000  99999.000000  99999.000000  99999.000000   \n",
       "mean       0.890808      0.860968   1219.854749     68.170248     66.839062   \n",
       "std        0.311885      0.345987    954.733842    267.580450    271.201856   \n",
       "min        0.000000      0.000000    180.000000      0.000000      0.000000   \n",
       "25%        1.000000      1.000000    467.000000      0.000000      0.000000   \n",
       "50%        1.000000      1.000000    863.000000      0.000000      0.000000   \n",
       "75%        1.000000      1.000000   1807.500000      0.000000      0.000000   \n",
       "max        1.000000      1.000000   4337.000000  12916.220000   9165.600000   \n",
       "\n",
       "         jun_vbc_3g    sep_vbc_3g  \n",
       "count  99999.000000  99999.000000  \n",
       "mean      60.021204      3.299373  \n",
       "std      253.938223     32.408353  \n",
       "min        0.000000      0.000000  \n",
       "25%        0.000000      0.000000  \n",
       "50%        0.000000      0.000000  \n",
       "75%        0.000000      0.000000  \n",
       "max    11166.210000   2618.570000  \n",
       "\n",
       "[8 rows x 214 columns]"
      ]
     },
     "execution_count": 184,
     "metadata": {},
     "output_type": "execute_result"
    }
   ],
   "source": [
    "# Now lets check the statistical information of numerical columns in dataset\n",
    "data.describe()"
   ]
  },
  {
   "cell_type": "markdown",
   "id": "72a5b266",
   "metadata": {},
   "source": [
    "## 2) DATA CLEANING"
   ]
  },
  {
   "cell_type": "code",
   "execution_count": 185,
   "id": "241419fd",
   "metadata": {},
   "outputs": [],
   "source": [
    "# Lets create a function that returns the null values present in the dataset\n",
    "def MissingVal(Null_Cutoff):\n",
    "    Null = round((data.isnull().sum()/len(data.index))*100)\n",
    "    return Null.loc[Null>Null_Cutoff]"
   ]
  },
  {
   "cell_type": "markdown",
   "id": "2155513c",
   "metadata": {},
   "source": [
    "### The function MissingVal returns the null values present in each column that are above the Null_Cutoff. Null_Cutoff is nothing but the % of null values present in each column."
   ]
  },
  {
   "cell_type": "code",
   "execution_count": 186,
   "id": "51e99499",
   "metadata": {},
   "outputs": [
    {
     "data": {
      "text/plain": [
       "date_of_last_rech_data_6    75.0\n",
       "date_of_last_rech_data_7    74.0\n",
       "date_of_last_rech_data_8    74.0\n",
       "date_of_last_rech_data_9    74.0\n",
       "total_rech_data_6           75.0\n",
       "total_rech_data_7           74.0\n",
       "total_rech_data_8           74.0\n",
       "total_rech_data_9           74.0\n",
       "max_rech_data_6             75.0\n",
       "max_rech_data_7             74.0\n",
       "max_rech_data_8             74.0\n",
       "max_rech_data_9             74.0\n",
       "count_rech_2g_6             75.0\n",
       "count_rech_2g_7             74.0\n",
       "count_rech_2g_8             74.0\n",
       "count_rech_2g_9             74.0\n",
       "count_rech_3g_6             75.0\n",
       "count_rech_3g_7             74.0\n",
       "count_rech_3g_8             74.0\n",
       "count_rech_3g_9             74.0\n",
       "av_rech_amt_data_6          75.0\n",
       "av_rech_amt_data_7          74.0\n",
       "av_rech_amt_data_8          74.0\n",
       "av_rech_amt_data_9          74.0\n",
       "arpu_3g_6                   75.0\n",
       "arpu_3g_7                   74.0\n",
       "arpu_3g_8                   74.0\n",
       "arpu_3g_9                   74.0\n",
       "arpu_2g_6                   75.0\n",
       "arpu_2g_7                   74.0\n",
       "arpu_2g_8                   74.0\n",
       "arpu_2g_9                   74.0\n",
       "night_pck_user_6            75.0\n",
       "night_pck_user_7            74.0\n",
       "night_pck_user_8            74.0\n",
       "night_pck_user_9            74.0\n",
       "fb_user_6                   75.0\n",
       "fb_user_7                   74.0\n",
       "fb_user_8                   74.0\n",
       "fb_user_9                   74.0\n",
       "dtype: float64"
      ]
     },
     "execution_count": 186,
     "metadata": {},
     "output_type": "execute_result"
    }
   ],
   "source": [
    "MissingVal(50)"
   ]
  },
  {
   "cell_type": "markdown",
   "id": "9596a2ff",
   "metadata": {},
   "source": [
    "### The columns with null values greater than 50% are shown above. The columns total_rech_data, max_rech_data, count_rech_2g, count_rech_3g, av_rech_amt_data, arpu_3g, arpu_2g, night_pck_user, fb_user are important for further analysis. We have to impute these columns and drop the remaining column i.e date_of_last_rech_data as it indicates the dates where last recharge was done by customer; not so important."
   ]
  },
  {
   "cell_type": "markdown",
   "id": "1e73617b",
   "metadata": {},
   "source": [
    "### Columns to be imputed contain numerical data. Imputing mean or median in this case will not be relaible. Therefore we will impute 0 in place of missing values."
   ]
  },
  {
   "cell_type": "code",
   "execution_count": 187,
   "id": "c152622d",
   "metadata": {},
   "outputs": [],
   "source": [
    "# Lets make a function that returns imputation of 0 in place of null values in all the columns.  \n",
    "imputedcolslist = [ 'total_rech_data_6', 'total_rech_data_7', 'total_rech_data_8', 'total_rech_data_9', \n",
    "                   'max_rech_data_6', 'max_rech_data_7', 'max_rech_data_8', 'max_rech_data_9', \n",
    "                   'count_rech_2g_6', 'count_rech_2g_7', 'count_rech_2g_8', 'count_rech_2g_9',\n",
    "                   'count_rech_3g_6', 'count_rech_3g_7', 'count_rech_3g_8', 'count_rech_3g_9', \n",
    "                   'av_rech_amt_data_6', 'av_rech_amt_data_7', 'av_rech_amt_data_8', 'av_rech_amt_data_9',\n",
    "                   'arpu_3g_6', 'arpu_3g_7', 'arpu_3g_8', 'arpu_3g_9', \n",
    "                   'arpu_2g_6', 'arpu_2g_7', 'arpu_2g_8', 'arpu_2g_9',\n",
    "                   'night_pck_user_6', 'night_pck_user_7', 'night_pck_user_8', 'night_pck_user_9',\n",
    "                   'fb_user_6', 'fb_user_7', 'fb_user_8', 'fb_user_9' ]         # List of Cols that to be imputed \n",
    "\n",
    "def ImputeCols(Data, ImputedColsList):\n",
    "    for col in imputedcolslist:\n",
    "        data[col].fillna(0, inplace=True)\n",
    "\n",
    "# Lets impute 0 in place of null values in all the columns\n",
    "ImputeCols(data, imputedcolslist)"
   ]
  },
  {
   "cell_type": "code",
   "execution_count": 188,
   "id": "600d67f5",
   "metadata": {},
   "outputs": [
    {
     "data": {
      "text/plain": [
       "date_of_last_rech_data_6    75.0\n",
       "date_of_last_rech_data_7    74.0\n",
       "date_of_last_rech_data_8    74.0\n",
       "date_of_last_rech_data_9    74.0\n",
       "dtype: float64"
      ]
     },
     "execution_count": 188,
     "metadata": {},
     "output_type": "execute_result"
    }
   ],
   "source": [
    "# Now lets check the cols with missing values again\n",
    "MissingVal(50)"
   ]
  },
  {
   "cell_type": "code",
   "execution_count": 189,
   "id": "1585adb4",
   "metadata": {},
   "outputs": [],
   "source": [
    "# We left with 4 cols with missing values contain above 50%. We dont need those cols in our analysis. So, lets drop it.\n",
    "Dropcolslist = ['date_of_last_rech_data_6', 'date_of_last_rech_data_7', \n",
    "                'date_of_last_rech_data_8', 'date_of_last_rech_data_9']    # List of cols that to be dropped.\n",
    "\n",
    "data.drop(Dropcolslist, axis=1, inplace=True)"
   ]
  },
  {
   "cell_type": "code",
   "execution_count": 190,
   "id": "ff7cc230",
   "metadata": {},
   "outputs": [
    {
     "data": {
      "text/plain": [
       "onnet_mou_9         8.0\n",
       "offnet_mou_9        8.0\n",
       "roam_ic_mou_9       8.0\n",
       "roam_og_mou_9       8.0\n",
       "loc_og_t2t_mou_9    8.0\n",
       "loc_og_t2m_mou_9    8.0\n",
       "loc_og_t2f_mou_9    8.0\n",
       "loc_og_t2c_mou_9    8.0\n",
       "loc_og_mou_9        8.0\n",
       "std_og_t2t_mou_9    8.0\n",
       "std_og_t2m_mou_9    8.0\n",
       "std_og_t2f_mou_9    8.0\n",
       "std_og_t2c_mou_9    8.0\n",
       "std_og_mou_9        8.0\n",
       "isd_og_mou_9        8.0\n",
       "spl_og_mou_9        8.0\n",
       "og_others_9         8.0\n",
       "loc_ic_t2t_mou_9    8.0\n",
       "loc_ic_t2m_mou_9    8.0\n",
       "loc_ic_t2f_mou_9    8.0\n",
       "loc_ic_mou_9        8.0\n",
       "std_ic_t2t_mou_9    8.0\n",
       "std_ic_t2m_mou_9    8.0\n",
       "std_ic_t2f_mou_9    8.0\n",
       "std_ic_t2o_mou_9    8.0\n",
       "std_ic_mou_9        8.0\n",
       "spl_ic_mou_9        8.0\n",
       "isd_ic_mou_9        8.0\n",
       "ic_others_9         8.0\n",
       "dtype: float64"
      ]
     },
     "execution_count": 190,
     "metadata": {},
     "output_type": "execute_result"
    }
   ],
   "source": [
    "# Now lets identify the columns with missing values greater than 5%\n",
    "MissingVal(5)"
   ]
  },
  {
   "cell_type": "markdown",
   "id": "5212d3c3",
   "metadata": {},
   "source": [
    "### All the columns above contains suffix 'mou' which is nothing but minutes of usage of voice calls in different conditions such as within the same operator network, outside the operator T network, roaming incomming, outgoing etc. We know that those columns are numerical. Therefore we will impute 0 in place of null values of those columns as dropping those cols will not be appropriate."
   ]
  },
  {
   "cell_type": "code",
   "execution_count": 191,
   "id": "543091ae",
   "metadata": {},
   "outputs": [],
   "source": [
    "# Lets make a function that returns imputation of 0 in place of null values in all the columns.\n",
    "imputedcolslist2 = ['onnet_mou_9', 'offnet_mou_9', 'roam_ic_mou_9', 'roam_og_mou_9',\n",
    "                   'loc_og_t2t_mou_9', 'loc_og_t2m_mou_9', 'loc_og_t2f_mou_9', 'loc_og_t2c_mou_9',\n",
    "                   'loc_og_mou_9', 'std_og_t2t_mou_9', 'std_og_t2m_mou_9', 'std_og_t2f_mou_9', 'std_og_t2c_mou_9',\n",
    "                    'std_og_mou_9', 'isd_og_mou_9', 'spl_og_mou_9', 'og_others_9', 'loc_ic_t2t_mou_9',\n",
    "                   'loc_ic_t2m_mou_9', 'loc_ic_t2f_mou_9', 'loc_ic_mou_9', 'std_ic_t2t_mou_9', \n",
    "                    'std_ic_t2m_mou_9', 'std_ic_t2f_mou_9', 'std_ic_t2o_mou_9', 'std_ic_mou_9',\n",
    "                   'spl_ic_mou_9', 'isd_ic_mou_9', 'ic_others_9']        # List of Cols that to be imputed \n",
    "\n",
    "def ImputeCols(Data, ImputedColsList):\n",
    "    for col in imputedcolslist2:\n",
    "        data[col].fillna(0, inplace=True)\n",
    "\n",
    "# Lets impute 0 in place of null values in all the columns\n",
    "ImputeCols(data, imputedcolslist2)"
   ]
  },
  {
   "cell_type": "code",
   "execution_count": 192,
   "id": "667f65be",
   "metadata": {},
   "outputs": [
    {
     "data": {
      "text/plain": [
       "onnet_mou_6            4.0\n",
       "onnet_mou_7            4.0\n",
       "onnet_mou_8            5.0\n",
       "offnet_mou_6           4.0\n",
       "offnet_mou_7           4.0\n",
       "                      ... \n",
       "ic_others_6            4.0\n",
       "ic_others_7            4.0\n",
       "ic_others_8            5.0\n",
       "date_of_last_rech_8    4.0\n",
       "date_of_last_rech_9    5.0\n",
       "Length: 89, dtype: float64"
      ]
     },
     "execution_count": 192,
     "metadata": {},
     "output_type": "execute_result"
    }
   ],
   "source": [
    "# Now lets identify the cols with missing values greater than 2%\n",
    "MissingVal(2)"
   ]
  },
  {
   "cell_type": "markdown",
   "id": "00d4926a",
   "metadata": {},
   "source": [
    "### All the above columns contain null values greater than 2% and less than 5%. Lets see the missing value data in above cols."
   ]
  },
  {
   "cell_type": "code",
   "execution_count": 193,
   "id": "681be79f",
   "metadata": {},
   "outputs": [
    {
     "data": {
      "text/html": [
       "<div>\n",
       "<style scoped>\n",
       "    .dataframe tbody tr th:only-of-type {\n",
       "        vertical-align: middle;\n",
       "    }\n",
       "\n",
       "    .dataframe tbody tr th {\n",
       "        vertical-align: top;\n",
       "    }\n",
       "\n",
       "    .dataframe thead th {\n",
       "        text-align: right;\n",
       "    }\n",
       "</style>\n",
       "<table border=\"1\" class=\"dataframe\">\n",
       "  <thead>\n",
       "    <tr style=\"text-align: right;\">\n",
       "      <th></th>\n",
       "      <th>onnet_mou_6</th>\n",
       "      <th>onnet_mou_7</th>\n",
       "      <th>onnet_mou_8</th>\n",
       "      <th>offnet_mou_6</th>\n",
       "      <th>offnet_mou_7</th>\n",
       "      <th>offnet_mou_8</th>\n",
       "      <th>roam_ic_mou_6</th>\n",
       "      <th>roam_ic_mou_7</th>\n",
       "      <th>roam_ic_mou_8</th>\n",
       "      <th>roam_og_mou_6</th>\n",
       "      <th>...</th>\n",
       "      <th>spl_ic_mou_7</th>\n",
       "      <th>spl_ic_mou_8</th>\n",
       "      <th>isd_ic_mou_6</th>\n",
       "      <th>isd_ic_mou_7</th>\n",
       "      <th>isd_ic_mou_8</th>\n",
       "      <th>ic_others_6</th>\n",
       "      <th>ic_others_7</th>\n",
       "      <th>ic_others_8</th>\n",
       "      <th>date_of_last_rech_8</th>\n",
       "      <th>date_of_last_rech_9</th>\n",
       "    </tr>\n",
       "  </thead>\n",
       "  <tbody>\n",
       "    <tr>\n",
       "      <th>202</th>\n",
       "      <td>NaN</td>\n",
       "      <td>NaN</td>\n",
       "      <td>NaN</td>\n",
       "      <td>NaN</td>\n",
       "      <td>NaN</td>\n",
       "      <td>NaN</td>\n",
       "      <td>NaN</td>\n",
       "      <td>NaN</td>\n",
       "      <td>NaN</td>\n",
       "      <td>NaN</td>\n",
       "      <td>...</td>\n",
       "      <td>NaN</td>\n",
       "      <td>NaN</td>\n",
       "      <td>NaN</td>\n",
       "      <td>NaN</td>\n",
       "      <td>NaN</td>\n",
       "      <td>NaN</td>\n",
       "      <td>NaN</td>\n",
       "      <td>NaN</td>\n",
       "      <td>NaN</td>\n",
       "      <td>NaN</td>\n",
       "    </tr>\n",
       "    <tr>\n",
       "      <th>275</th>\n",
       "      <td>NaN</td>\n",
       "      <td>NaN</td>\n",
       "      <td>NaN</td>\n",
       "      <td>NaN</td>\n",
       "      <td>NaN</td>\n",
       "      <td>NaN</td>\n",
       "      <td>NaN</td>\n",
       "      <td>NaN</td>\n",
       "      <td>NaN</td>\n",
       "      <td>NaN</td>\n",
       "      <td>...</td>\n",
       "      <td>NaN</td>\n",
       "      <td>NaN</td>\n",
       "      <td>NaN</td>\n",
       "      <td>NaN</td>\n",
       "      <td>NaN</td>\n",
       "      <td>NaN</td>\n",
       "      <td>NaN</td>\n",
       "      <td>NaN</td>\n",
       "      <td>NaN</td>\n",
       "      <td>NaN</td>\n",
       "    </tr>\n",
       "    <tr>\n",
       "      <th>687</th>\n",
       "      <td>NaN</td>\n",
       "      <td>NaN</td>\n",
       "      <td>NaN</td>\n",
       "      <td>NaN</td>\n",
       "      <td>NaN</td>\n",
       "      <td>NaN</td>\n",
       "      <td>NaN</td>\n",
       "      <td>NaN</td>\n",
       "      <td>NaN</td>\n",
       "      <td>NaN</td>\n",
       "      <td>...</td>\n",
       "      <td>NaN</td>\n",
       "      <td>NaN</td>\n",
       "      <td>NaN</td>\n",
       "      <td>NaN</td>\n",
       "      <td>NaN</td>\n",
       "      <td>NaN</td>\n",
       "      <td>NaN</td>\n",
       "      <td>NaN</td>\n",
       "      <td>NaN</td>\n",
       "      <td>NaN</td>\n",
       "    </tr>\n",
       "    <tr>\n",
       "      <th>1206</th>\n",
       "      <td>NaN</td>\n",
       "      <td>NaN</td>\n",
       "      <td>NaN</td>\n",
       "      <td>NaN</td>\n",
       "      <td>NaN</td>\n",
       "      <td>NaN</td>\n",
       "      <td>NaN</td>\n",
       "      <td>NaN</td>\n",
       "      <td>NaN</td>\n",
       "      <td>NaN</td>\n",
       "      <td>...</td>\n",
       "      <td>NaN</td>\n",
       "      <td>NaN</td>\n",
       "      <td>NaN</td>\n",
       "      <td>NaN</td>\n",
       "      <td>NaN</td>\n",
       "      <td>NaN</td>\n",
       "      <td>NaN</td>\n",
       "      <td>NaN</td>\n",
       "      <td>NaN</td>\n",
       "      <td>NaN</td>\n",
       "    </tr>\n",
       "    <tr>\n",
       "      <th>1232</th>\n",
       "      <td>NaN</td>\n",
       "      <td>NaN</td>\n",
       "      <td>NaN</td>\n",
       "      <td>NaN</td>\n",
       "      <td>NaN</td>\n",
       "      <td>NaN</td>\n",
       "      <td>NaN</td>\n",
       "      <td>NaN</td>\n",
       "      <td>NaN</td>\n",
       "      <td>NaN</td>\n",
       "      <td>...</td>\n",
       "      <td>NaN</td>\n",
       "      <td>NaN</td>\n",
       "      <td>NaN</td>\n",
       "      <td>NaN</td>\n",
       "      <td>NaN</td>\n",
       "      <td>NaN</td>\n",
       "      <td>NaN</td>\n",
       "      <td>NaN</td>\n",
       "      <td>NaN</td>\n",
       "      <td>NaN</td>\n",
       "    </tr>\n",
       "    <tr>\n",
       "      <th>...</th>\n",
       "      <td>...</td>\n",
       "      <td>...</td>\n",
       "      <td>...</td>\n",
       "      <td>...</td>\n",
       "      <td>...</td>\n",
       "      <td>...</td>\n",
       "      <td>...</td>\n",
       "      <td>...</td>\n",
       "      <td>...</td>\n",
       "      <td>...</td>\n",
       "      <td>...</td>\n",
       "      <td>...</td>\n",
       "      <td>...</td>\n",
       "      <td>...</td>\n",
       "      <td>...</td>\n",
       "      <td>...</td>\n",
       "      <td>...</td>\n",
       "      <td>...</td>\n",
       "      <td>...</td>\n",
       "      <td>...</td>\n",
       "      <td>...</td>\n",
       "    </tr>\n",
       "    <tr>\n",
       "      <th>96810</th>\n",
       "      <td>NaN</td>\n",
       "      <td>NaN</td>\n",
       "      <td>NaN</td>\n",
       "      <td>NaN</td>\n",
       "      <td>NaN</td>\n",
       "      <td>NaN</td>\n",
       "      <td>NaN</td>\n",
       "      <td>NaN</td>\n",
       "      <td>NaN</td>\n",
       "      <td>NaN</td>\n",
       "      <td>...</td>\n",
       "      <td>NaN</td>\n",
       "      <td>NaN</td>\n",
       "      <td>NaN</td>\n",
       "      <td>NaN</td>\n",
       "      <td>NaN</td>\n",
       "      <td>NaN</td>\n",
       "      <td>NaN</td>\n",
       "      <td>NaN</td>\n",
       "      <td>NaN</td>\n",
       "      <td>NaN</td>\n",
       "    </tr>\n",
       "    <tr>\n",
       "      <th>96966</th>\n",
       "      <td>NaN</td>\n",
       "      <td>NaN</td>\n",
       "      <td>NaN</td>\n",
       "      <td>NaN</td>\n",
       "      <td>NaN</td>\n",
       "      <td>NaN</td>\n",
       "      <td>NaN</td>\n",
       "      <td>NaN</td>\n",
       "      <td>NaN</td>\n",
       "      <td>NaN</td>\n",
       "      <td>...</td>\n",
       "      <td>NaN</td>\n",
       "      <td>NaN</td>\n",
       "      <td>NaN</td>\n",
       "      <td>NaN</td>\n",
       "      <td>NaN</td>\n",
       "      <td>NaN</td>\n",
       "      <td>NaN</td>\n",
       "      <td>NaN</td>\n",
       "      <td>NaN</td>\n",
       "      <td>NaN</td>\n",
       "    </tr>\n",
       "    <tr>\n",
       "      <th>97539</th>\n",
       "      <td>NaN</td>\n",
       "      <td>NaN</td>\n",
       "      <td>NaN</td>\n",
       "      <td>NaN</td>\n",
       "      <td>NaN</td>\n",
       "      <td>NaN</td>\n",
       "      <td>NaN</td>\n",
       "      <td>NaN</td>\n",
       "      <td>NaN</td>\n",
       "      <td>NaN</td>\n",
       "      <td>...</td>\n",
       "      <td>NaN</td>\n",
       "      <td>NaN</td>\n",
       "      <td>NaN</td>\n",
       "      <td>NaN</td>\n",
       "      <td>NaN</td>\n",
       "      <td>NaN</td>\n",
       "      <td>NaN</td>\n",
       "      <td>NaN</td>\n",
       "      <td>NaN</td>\n",
       "      <td>NaN</td>\n",
       "    </tr>\n",
       "    <tr>\n",
       "      <th>97762</th>\n",
       "      <td>NaN</td>\n",
       "      <td>NaN</td>\n",
       "      <td>NaN</td>\n",
       "      <td>NaN</td>\n",
       "      <td>NaN</td>\n",
       "      <td>NaN</td>\n",
       "      <td>NaN</td>\n",
       "      <td>NaN</td>\n",
       "      <td>NaN</td>\n",
       "      <td>NaN</td>\n",
       "      <td>...</td>\n",
       "      <td>NaN</td>\n",
       "      <td>NaN</td>\n",
       "      <td>NaN</td>\n",
       "      <td>NaN</td>\n",
       "      <td>NaN</td>\n",
       "      <td>NaN</td>\n",
       "      <td>NaN</td>\n",
       "      <td>NaN</td>\n",
       "      <td>NaN</td>\n",
       "      <td>NaN</td>\n",
       "    </tr>\n",
       "    <tr>\n",
       "      <th>97810</th>\n",
       "      <td>NaN</td>\n",
       "      <td>NaN</td>\n",
       "      <td>NaN</td>\n",
       "      <td>NaN</td>\n",
       "      <td>NaN</td>\n",
       "      <td>NaN</td>\n",
       "      <td>NaN</td>\n",
       "      <td>NaN</td>\n",
       "      <td>NaN</td>\n",
       "      <td>NaN</td>\n",
       "      <td>...</td>\n",
       "      <td>NaN</td>\n",
       "      <td>NaN</td>\n",
       "      <td>NaN</td>\n",
       "      <td>NaN</td>\n",
       "      <td>NaN</td>\n",
       "      <td>NaN</td>\n",
       "      <td>NaN</td>\n",
       "      <td>NaN</td>\n",
       "      <td>NaN</td>\n",
       "      <td>NaN</td>\n",
       "    </tr>\n",
       "  </tbody>\n",
       "</table>\n",
       "<p>381 rows × 89 columns</p>\n",
       "</div>"
      ],
      "text/plain": [
       "       onnet_mou_6  onnet_mou_7  onnet_mou_8  offnet_mou_6  offnet_mou_7  \\\n",
       "202            NaN          NaN          NaN           NaN           NaN   \n",
       "275            NaN          NaN          NaN           NaN           NaN   \n",
       "687            NaN          NaN          NaN           NaN           NaN   \n",
       "1206           NaN          NaN          NaN           NaN           NaN   \n",
       "1232           NaN          NaN          NaN           NaN           NaN   \n",
       "...            ...          ...          ...           ...           ...   \n",
       "96810          NaN          NaN          NaN           NaN           NaN   \n",
       "96966          NaN          NaN          NaN           NaN           NaN   \n",
       "97539          NaN          NaN          NaN           NaN           NaN   \n",
       "97762          NaN          NaN          NaN           NaN           NaN   \n",
       "97810          NaN          NaN          NaN           NaN           NaN   \n",
       "\n",
       "       offnet_mou_8  roam_ic_mou_6  roam_ic_mou_7  roam_ic_mou_8  \\\n",
       "202             NaN            NaN            NaN            NaN   \n",
       "275             NaN            NaN            NaN            NaN   \n",
       "687             NaN            NaN            NaN            NaN   \n",
       "1206            NaN            NaN            NaN            NaN   \n",
       "1232            NaN            NaN            NaN            NaN   \n",
       "...             ...            ...            ...            ...   \n",
       "96810           NaN            NaN            NaN            NaN   \n",
       "96966           NaN            NaN            NaN            NaN   \n",
       "97539           NaN            NaN            NaN            NaN   \n",
       "97762           NaN            NaN            NaN            NaN   \n",
       "97810           NaN            NaN            NaN            NaN   \n",
       "\n",
       "       roam_og_mou_6  ...  spl_ic_mou_7  spl_ic_mou_8  isd_ic_mou_6  \\\n",
       "202              NaN  ...           NaN           NaN           NaN   \n",
       "275              NaN  ...           NaN           NaN           NaN   \n",
       "687              NaN  ...           NaN           NaN           NaN   \n",
       "1206             NaN  ...           NaN           NaN           NaN   \n",
       "1232             NaN  ...           NaN           NaN           NaN   \n",
       "...              ...  ...           ...           ...           ...   \n",
       "96810            NaN  ...           NaN           NaN           NaN   \n",
       "96966            NaN  ...           NaN           NaN           NaN   \n",
       "97539            NaN  ...           NaN           NaN           NaN   \n",
       "97762            NaN  ...           NaN           NaN           NaN   \n",
       "97810            NaN  ...           NaN           NaN           NaN   \n",
       "\n",
       "       isd_ic_mou_7  isd_ic_mou_8  ic_others_6  ic_others_7  ic_others_8  \\\n",
       "202             NaN           NaN          NaN          NaN          NaN   \n",
       "275             NaN           NaN          NaN          NaN          NaN   \n",
       "687             NaN           NaN          NaN          NaN          NaN   \n",
       "1206            NaN           NaN          NaN          NaN          NaN   \n",
       "1232            NaN           NaN          NaN          NaN          NaN   \n",
       "...             ...           ...          ...          ...          ...   \n",
       "96810           NaN           NaN          NaN          NaN          NaN   \n",
       "96966           NaN           NaN          NaN          NaN          NaN   \n",
       "97539           NaN           NaN          NaN          NaN          NaN   \n",
       "97762           NaN           NaN          NaN          NaN          NaN   \n",
       "97810           NaN           NaN          NaN          NaN          NaN   \n",
       "\n",
       "       date_of_last_rech_8  date_of_last_rech_9  \n",
       "202                    NaN                  NaN  \n",
       "275                    NaN                  NaN  \n",
       "687                    NaN                  NaN  \n",
       "1206                   NaN                  NaN  \n",
       "1232                   NaN                  NaN  \n",
       "...                    ...                  ...  \n",
       "96810                  NaN                  NaN  \n",
       "96966                  NaN                  NaN  \n",
       "97539                  NaN                  NaN  \n",
       "97762                  NaN                  NaN  \n",
       "97810                  NaN                  NaN  \n",
       "\n",
       "[381 rows x 89 columns]"
      ]
     },
     "execution_count": 193,
     "metadata": {},
     "output_type": "execute_result"
    }
   ],
   "source": [
    "# Viewing the null value data\n",
    "colslist3 = list(MissingVal(2).index)\n",
    "data[data[colslist3].isnull().all(axis=1)][colslist3]"
   ]
  },
  {
   "cell_type": "markdown",
   "id": "c9038819",
   "metadata": {},
   "source": [
    "### All the above cols contain data about customer of months 6,7 and 8. Those cols contain missing values greater than 2% i.e more than 2% data of customer of months 6,7 and 8 are missing. We will drop those missing records as the missing % is small, dropping those records will not affect further analysis."
   ]
  },
  {
   "cell_type": "code",
   "execution_count": 194,
   "id": "622e06a5",
   "metadata": {},
   "outputs": [
    {
     "data": {
      "text/plain": [
       "(99618, 222)"
      ]
     },
     "execution_count": 194,
     "metadata": {},
     "output_type": "execute_result"
    }
   ],
   "source": [
    "# Lets drop the missing records\n",
    "data = data[~data[colslist3].isnull().all(axis=1)]\n",
    "data.shape"
   ]
  },
  {
   "cell_type": "code",
   "execution_count": 195,
   "id": "8a887f33",
   "metadata": {},
   "outputs": [
    {
     "data": {
      "text/plain": [
       "onnet_mou_6            4.0\n",
       "onnet_mou_7            3.0\n",
       "onnet_mou_8            5.0\n",
       "offnet_mou_6           4.0\n",
       "offnet_mou_7           3.0\n",
       "                      ... \n",
       "ic_others_6            4.0\n",
       "ic_others_7            3.0\n",
       "ic_others_8            5.0\n",
       "date_of_last_rech_8    3.0\n",
       "date_of_last_rech_9    4.0\n",
       "Length: 89, dtype: float64"
      ]
     },
     "execution_count": 195,
     "metadata": {},
     "output_type": "execute_result"
    }
   ],
   "source": [
    "# Checking above cols agin with null values\n",
    "MissingVal(2)"
   ]
  },
  {
   "cell_type": "markdown",
   "id": "b5cdab9d",
   "metadata": {},
   "source": [
    "### We can see here, the above cols still contains null values greater than 2% with decreased level than earlier. We will impute those null values with 0."
   ]
  },
  {
   "cell_type": "code",
   "execution_count": 196,
   "id": "7944d150",
   "metadata": {},
   "outputs": [],
   "source": [
    "# First remove date cols from colslist3 and then impute 0 in place of nulls in all other cols\n",
    "colslist3.remove('date_of_last_rech_8')\n",
    "colslist3.remove('date_of_last_rech_9')\n",
    "\n",
    "def ImputeCols(Data, ImputedColsList):\n",
    "    for col in colslist3:\n",
    "        data[col].fillna(0, inplace=True)\n",
    "\n",
    "\n",
    "ImputeCols(data, colslist3)"
   ]
  },
  {
   "cell_type": "code",
   "execution_count": 197,
   "id": "5edee52d",
   "metadata": {},
   "outputs": [
    {
     "data": {
      "text/plain": [
       "loc_og_t2o_mou          1.0\n",
       "std_og_t2o_mou          1.0\n",
       "loc_ic_t2o_mou          1.0\n",
       "last_date_of_month_8    1.0\n",
       "last_date_of_month_9    1.0\n",
       "date_of_last_rech_6     1.0\n",
       "date_of_last_rech_7     1.0\n",
       "date_of_last_rech_8     3.0\n",
       "date_of_last_rech_9     4.0\n",
       "dtype: float64"
      ]
     },
     "execution_count": 197,
     "metadata": {},
     "output_type": "execute_result"
    }
   ],
   "source": [
    "# Checking remaining cols with null values\n",
    "MissingVal(0)"
   ]
  },
  {
   "cell_type": "markdown",
   "id": "730d5f66",
   "metadata": {},
   "source": [
    "### We left with above cols that contain null values greater than 0% and less than 2% except date cols. Lets check the value counts for each of above col."
   ]
  },
  {
   "cell_type": "code",
   "execution_count": 198,
   "id": "c0e46efb",
   "metadata": {},
   "outputs": [],
   "source": [
    "# Make a list of above cols\n",
    "colslist4 = list(MissingVal(0).index)\n",
    "\n",
    "# Make a function that returns value counts for each of above col\n",
    "def val_count(Data, ColsList):\n",
    "    for col in colslist4:\n",
    "        print(col)\n",
    "        print(data[col].value_counts())\n",
    "        print()"
   ]
  },
  {
   "cell_type": "code",
   "execution_count": 199,
   "id": "0385140d",
   "metadata": {},
   "outputs": [
    {
     "name": "stdout",
     "output_type": "stream",
     "text": [
      "loc_og_t2o_mou\n",
      "0.0    98981\n",
      "Name: loc_og_t2o_mou, dtype: int64\n",
      "\n",
      "std_og_t2o_mou\n",
      "0.0    98981\n",
      "Name: std_og_t2o_mou, dtype: int64\n",
      "\n",
      "loc_ic_t2o_mou\n",
      "0.0    98981\n",
      "Name: loc_ic_t2o_mou, dtype: int64\n",
      "\n",
      "last_date_of_month_8\n",
      "8/31/2014    98867\n",
      "Name: last_date_of_month_8, dtype: int64\n",
      "\n",
      "last_date_of_month_9\n",
      "9/30/2014    98321\n",
      "Name: last_date_of_month_9, dtype: int64\n",
      "\n",
      "date_of_last_rech_6\n",
      "6/30/2014    16959\n",
      "6/29/2014    12915\n",
      "6/27/2014    11154\n",
      "6/28/2014     9483\n",
      "6/26/2014     5523\n",
      "6/25/2014     4886\n",
      "6/17/2014     4135\n",
      "6/24/2014     4118\n",
      "6/14/2014     3826\n",
      "6/21/2014     3742\n",
      "6/23/2014     2902\n",
      "6/18/2014     2735\n",
      "6/12/2014     2493\n",
      "6/22/2014     2342\n",
      "6/13/2014     2132\n",
      "6/19/2014     2004\n",
      "6/20/2014     1801\n",
      "6/16/2014     1115\n",
      "6/15/2014      867\n",
      "6/11/2014      574\n",
      "6/8/2014       507\n",
      "6/5/2014       315\n",
      "6/7/2014       312\n",
      "6/10/2014      274\n",
      "6/3/2014       227\n",
      "6/1/2014       209\n",
      "6/9/2014       196\n",
      "6/6/2014       159\n",
      "6/4/2014       126\n",
      "6/2/2014       105\n",
      "Name: date_of_last_rech_6, dtype: int64\n",
      "\n",
      "date_of_last_rech_7\n",
      "7/31/2014    17288\n",
      "7/30/2014    13858\n",
      "7/25/2014     9400\n",
      "7/29/2014     9052\n",
      "7/28/2014     7496\n",
      "7/27/2014     5909\n",
      "7/26/2014     5376\n",
      "7/24/2014     3998\n",
      "7/19/2014     3057\n",
      "7/22/2014     2969\n",
      "7/20/2014     2892\n",
      "7/17/2014     2737\n",
      "7/16/2014     2457\n",
      "7/23/2014     2295\n",
      "7/21/2014     1639\n",
      "7/15/2014     1552\n",
      "7/18/2014     1280\n",
      "7/10/2014      858\n",
      "7/9/2014       823\n",
      "7/12/2014      729\n",
      "7/14/2014      441\n",
      "7/11/2014      408\n",
      "7/13/2014      324\n",
      "7/6/2014       313\n",
      "7/4/2014       251\n",
      "7/8/2014       195\n",
      "7/7/2014       153\n",
      "7/3/2014       146\n",
      "7/5/2014       125\n",
      "7/1/2014        74\n",
      "7/2/2014        62\n",
      "Name: date_of_last_rech_7, dtype: int64\n",
      "\n",
      "date_of_last_rech_8\n",
      "8/31/2014    14706\n",
      "8/30/2014    11707\n",
      "8/29/2014    10057\n",
      "8/28/2014     9816\n",
      "8/26/2014     9297\n",
      "8/24/2014     7722\n",
      "8/25/2014     7655\n",
      "8/27/2014     5688\n",
      "8/22/2014     2017\n",
      "8/20/2014     1986\n",
      "8/23/2014     1806\n",
      "8/19/2014     1590\n",
      "8/21/2014     1347\n",
      "8/18/2014     1027\n",
      "8/9/2014       984\n",
      "8/5/2014       943\n",
      "8/14/2014      890\n",
      "8/15/2014      813\n",
      "8/16/2014      756\n",
      "8/17/2014      735\n",
      "8/12/2014      716\n",
      "8/13/2014      705\n",
      "8/8/2014       676\n",
      "8/6/2014       618\n",
      "8/11/2014      555\n",
      "8/7/2014       447\n",
      "8/10/2014      361\n",
      "8/1/2014       254\n",
      "8/2/2014       206\n",
      "8/4/2014       170\n",
      "8/3/2014       127\n",
      "Name: date_of_last_rech_8, dtype: int64\n",
      "\n",
      "date_of_last_rech_9\n",
      "9/29/2014    22623\n",
      "9/30/2014    21713\n",
      "9/28/2014    10601\n",
      "9/27/2014     6473\n",
      "9/26/2014     6282\n",
      "9/25/2014     5617\n",
      "9/24/2014     3224\n",
      "9/21/2014     2888\n",
      "9/20/2014     2579\n",
      "9/23/2014     2435\n",
      "9/22/2014     1617\n",
      "9/19/2014     1109\n",
      "9/16/2014      889\n",
      "9/17/2014      753\n",
      "9/18/2014      653\n",
      "9/14/2014      608\n",
      "9/11/2014      555\n",
      "9/15/2014      535\n",
      "9/10/2014      481\n",
      "9/12/2014      443\n",
      "9/13/2014      440\n",
      "9/9/2014       434\n",
      "9/6/2014       434\n",
      "9/2/2014       429\n",
      "9/3/2014       338\n",
      "9/5/2014       295\n",
      "9/8/2014       257\n",
      "9/4/2014       202\n",
      "9/7/2014       199\n",
      "9/1/2014       133\n",
      "Name: date_of_last_rech_9, dtype: int64\n",
      "\n"
     ]
    }
   ],
   "source": [
    "val_count(data, colslist4)"
   ]
  },
  {
   "cell_type": "markdown",
   "id": "cfe34b23",
   "metadata": {},
   "source": [
    "### We can see there are only one value present in loc_og_t2o_mou, std_og_t2o_mou, loc_ic_t2o_mou, last_date_of_month_8, last_date_of_month_9 columns. Less than 1% values in above mensioned columns are null. So we will drop those columns as there are all zeroes present. In columns date_of_last_rech_6, date_of_last_rech_7, date_of_last_rech_8, date_of_last_rech_9 we will impute the respective mode values."
   ]
  },
  {
   "cell_type": "code",
   "execution_count": 200,
   "id": "bdde099f",
   "metadata": {},
   "outputs": [],
   "source": [
    "# Make a list of above cols\n",
    "colslist5 = list(MissingVal(0).index)\n",
    "\n",
    "def ImputeCols(Data, ImputedColsList):\n",
    "    for col in colslist5:\n",
    "        data[col].fillna(data[col].mode()[0], inplace=True)\n",
    "\n",
    "\n",
    "ImputeCols(data, colslist5)"
   ]
  },
  {
   "cell_type": "code",
   "execution_count": 201,
   "id": "9d7aa9ee",
   "metadata": {},
   "outputs": [
    {
     "data": {
      "text/plain": [
       "Index(['loc_og_t2o_mou', 'std_og_t2o_mou', 'loc_ic_t2o_mou',\n",
       "       'std_og_t2c_mou_6', 'std_og_t2c_mou_7', 'std_og_t2c_mou_8',\n",
       "       'std_og_t2c_mou_9', 'std_ic_t2o_mou_6', 'std_ic_t2o_mou_7',\n",
       "       'std_ic_t2o_mou_8', 'std_ic_t2o_mou_9'],\n",
       "      dtype='object')"
      ]
     },
     "execution_count": 201,
     "metadata": {},
     "output_type": "execute_result"
    }
   ],
   "source": [
    "# Lets check the columns with all the values zero\n",
    "col_zer0 = data.columns[(data==0).all()]\n",
    "col_zer0"
   ]
  },
  {
   "cell_type": "code",
   "execution_count": 202,
   "id": "357f778a",
   "metadata": {},
   "outputs": [],
   "source": [
    "# Lets drop the above columns\n",
    "data.drop(col_zer0, axis=1, inplace=True)"
   ]
  },
  {
   "cell_type": "code",
   "execution_count": 203,
   "id": "ed5b486d",
   "metadata": {},
   "outputs": [
    {
     "data": {
      "text/plain": [
       "(99618, 211)"
      ]
     },
     "execution_count": 203,
     "metadata": {},
     "output_type": "execute_result"
    }
   ],
   "source": [
    "data.shape"
   ]
  },
  {
   "cell_type": "markdown",
   "id": "5eaa93f1",
   "metadata": {},
   "source": [
    "### We left with 211 features in dataset after dropping the unwanted."
   ]
  },
  {
   "cell_type": "code",
   "execution_count": 204,
   "id": "af2a2fed",
   "metadata": {},
   "outputs": [
    {
     "name": "stdout",
     "output_type": "stream",
     "text": [
      "<class 'pandas.core.frame.DataFrame'>\n",
      "Int64Index: 99618 entries, 0 to 99998\n",
      "Data columns (total 211 columns):\n",
      " #    Column                Dtype  \n",
      "---   ------                -----  \n",
      " 0    mobile_number         int64  \n",
      " 1    circle_id             int64  \n",
      " 2    last_date_of_month_6  object \n",
      " 3    last_date_of_month_7  object \n",
      " 4    last_date_of_month_8  object \n",
      " 5    last_date_of_month_9  object \n",
      " 6    arpu_6                float64\n",
      " 7    arpu_7                float64\n",
      " 8    arpu_8                float64\n",
      " 9    arpu_9                float64\n",
      " 10   onnet_mou_6           float64\n",
      " 11   onnet_mou_7           float64\n",
      " 12   onnet_mou_8           float64\n",
      " 13   onnet_mou_9           float64\n",
      " 14   offnet_mou_6          float64\n",
      " 15   offnet_mou_7          float64\n",
      " 16   offnet_mou_8          float64\n",
      " 17   offnet_mou_9          float64\n",
      " 18   roam_ic_mou_6         float64\n",
      " 19   roam_ic_mou_7         float64\n",
      " 20   roam_ic_mou_8         float64\n",
      " 21   roam_ic_mou_9         float64\n",
      " 22   roam_og_mou_6         float64\n",
      " 23   roam_og_mou_7         float64\n",
      " 24   roam_og_mou_8         float64\n",
      " 25   roam_og_mou_9         float64\n",
      " 26   loc_og_t2t_mou_6      float64\n",
      " 27   loc_og_t2t_mou_7      float64\n",
      " 28   loc_og_t2t_mou_8      float64\n",
      " 29   loc_og_t2t_mou_9      float64\n",
      " 30   loc_og_t2m_mou_6      float64\n",
      " 31   loc_og_t2m_mou_7      float64\n",
      " 32   loc_og_t2m_mou_8      float64\n",
      " 33   loc_og_t2m_mou_9      float64\n",
      " 34   loc_og_t2f_mou_6      float64\n",
      " 35   loc_og_t2f_mou_7      float64\n",
      " 36   loc_og_t2f_mou_8      float64\n",
      " 37   loc_og_t2f_mou_9      float64\n",
      " 38   loc_og_t2c_mou_6      float64\n",
      " 39   loc_og_t2c_mou_7      float64\n",
      " 40   loc_og_t2c_mou_8      float64\n",
      " 41   loc_og_t2c_mou_9      float64\n",
      " 42   loc_og_mou_6          float64\n",
      " 43   loc_og_mou_7          float64\n",
      " 44   loc_og_mou_8          float64\n",
      " 45   loc_og_mou_9          float64\n",
      " 46   std_og_t2t_mou_6      float64\n",
      " 47   std_og_t2t_mou_7      float64\n",
      " 48   std_og_t2t_mou_8      float64\n",
      " 49   std_og_t2t_mou_9      float64\n",
      " 50   std_og_t2m_mou_6      float64\n",
      " 51   std_og_t2m_mou_7      float64\n",
      " 52   std_og_t2m_mou_8      float64\n",
      " 53   std_og_t2m_mou_9      float64\n",
      " 54   std_og_t2f_mou_6      float64\n",
      " 55   std_og_t2f_mou_7      float64\n",
      " 56   std_og_t2f_mou_8      float64\n",
      " 57   std_og_t2f_mou_9      float64\n",
      " 58   std_og_mou_6          float64\n",
      " 59   std_og_mou_7          float64\n",
      " 60   std_og_mou_8          float64\n",
      " 61   std_og_mou_9          float64\n",
      " 62   isd_og_mou_6          float64\n",
      " 63   isd_og_mou_7          float64\n",
      " 64   isd_og_mou_8          float64\n",
      " 65   isd_og_mou_9          float64\n",
      " 66   spl_og_mou_6          float64\n",
      " 67   spl_og_mou_7          float64\n",
      " 68   spl_og_mou_8          float64\n",
      " 69   spl_og_mou_9          float64\n",
      " 70   og_others_6           float64\n",
      " 71   og_others_7           float64\n",
      " 72   og_others_8           float64\n",
      " 73   og_others_9           float64\n",
      " 74   total_og_mou_6        float64\n",
      " 75   total_og_mou_7        float64\n",
      " 76   total_og_mou_8        float64\n",
      " 77   total_og_mou_9        float64\n",
      " 78   loc_ic_t2t_mou_6      float64\n",
      " 79   loc_ic_t2t_mou_7      float64\n",
      " 80   loc_ic_t2t_mou_8      float64\n",
      " 81   loc_ic_t2t_mou_9      float64\n",
      " 82   loc_ic_t2m_mou_6      float64\n",
      " 83   loc_ic_t2m_mou_7      float64\n",
      " 84   loc_ic_t2m_mou_8      float64\n",
      " 85   loc_ic_t2m_mou_9      float64\n",
      " 86   loc_ic_t2f_mou_6      float64\n",
      " 87   loc_ic_t2f_mou_7      float64\n",
      " 88   loc_ic_t2f_mou_8      float64\n",
      " 89   loc_ic_t2f_mou_9      float64\n",
      " 90   loc_ic_mou_6          float64\n",
      " 91   loc_ic_mou_7          float64\n",
      " 92   loc_ic_mou_8          float64\n",
      " 93   loc_ic_mou_9          float64\n",
      " 94   std_ic_t2t_mou_6      float64\n",
      " 95   std_ic_t2t_mou_7      float64\n",
      " 96   std_ic_t2t_mou_8      float64\n",
      " 97   std_ic_t2t_mou_9      float64\n",
      " 98   std_ic_t2m_mou_6      float64\n",
      " 99   std_ic_t2m_mou_7      float64\n",
      " 100  std_ic_t2m_mou_8      float64\n",
      " 101  std_ic_t2m_mou_9      float64\n",
      " 102  std_ic_t2f_mou_6      float64\n",
      " 103  std_ic_t2f_mou_7      float64\n",
      " 104  std_ic_t2f_mou_8      float64\n",
      " 105  std_ic_t2f_mou_9      float64\n",
      " 106  std_ic_mou_6          float64\n",
      " 107  std_ic_mou_7          float64\n",
      " 108  std_ic_mou_8          float64\n",
      " 109  std_ic_mou_9          float64\n",
      " 110  total_ic_mou_6        float64\n",
      " 111  total_ic_mou_7        float64\n",
      " 112  total_ic_mou_8        float64\n",
      " 113  total_ic_mou_9        float64\n",
      " 114  spl_ic_mou_6          float64\n",
      " 115  spl_ic_mou_7          float64\n",
      " 116  spl_ic_mou_8          float64\n",
      " 117  spl_ic_mou_9          float64\n",
      " 118  isd_ic_mou_6          float64\n",
      " 119  isd_ic_mou_7          float64\n",
      " 120  isd_ic_mou_8          float64\n",
      " 121  isd_ic_mou_9          float64\n",
      " 122  ic_others_6           float64\n",
      " 123  ic_others_7           float64\n",
      " 124  ic_others_8           float64\n",
      " 125  ic_others_9           float64\n",
      " 126  total_rech_num_6      int64  \n",
      " 127  total_rech_num_7      int64  \n",
      " 128  total_rech_num_8      int64  \n",
      " 129  total_rech_num_9      int64  \n",
      " 130  total_rech_amt_6      int64  \n",
      " 131  total_rech_amt_7      int64  \n",
      " 132  total_rech_amt_8      int64  \n",
      " 133  total_rech_amt_9      int64  \n",
      " 134  max_rech_amt_6        int64  \n",
      " 135  max_rech_amt_7        int64  \n",
      " 136  max_rech_amt_8        int64  \n",
      " 137  max_rech_amt_9        int64  \n",
      " 138  date_of_last_rech_6   object \n",
      " 139  date_of_last_rech_7   object \n",
      " 140  date_of_last_rech_8   object \n",
      " 141  date_of_last_rech_9   object \n",
      " 142  last_day_rch_amt_6    int64  \n",
      " 143  last_day_rch_amt_7    int64  \n",
      " 144  last_day_rch_amt_8    int64  \n",
      " 145  last_day_rch_amt_9    int64  \n",
      " 146  total_rech_data_6     float64\n",
      " 147  total_rech_data_7     float64\n",
      " 148  total_rech_data_8     float64\n",
      " 149  total_rech_data_9     float64\n",
      " 150  max_rech_data_6       float64\n",
      " 151  max_rech_data_7       float64\n",
      " 152  max_rech_data_8       float64\n",
      " 153  max_rech_data_9       float64\n",
      " 154  count_rech_2g_6       float64\n",
      " 155  count_rech_2g_7       float64\n",
      " 156  count_rech_2g_8       float64\n",
      " 157  count_rech_2g_9       float64\n",
      " 158  count_rech_3g_6       float64\n",
      " 159  count_rech_3g_7       float64\n",
      " 160  count_rech_3g_8       float64\n",
      " 161  count_rech_3g_9       float64\n",
      " 162  av_rech_amt_data_6    float64\n",
      " 163  av_rech_amt_data_7    float64\n",
      " 164  av_rech_amt_data_8    float64\n",
      " 165  av_rech_amt_data_9    float64\n",
      " 166  vol_2g_mb_6           float64\n",
      " 167  vol_2g_mb_7           float64\n",
      " 168  vol_2g_mb_8           float64\n",
      " 169  vol_2g_mb_9           float64\n",
      " 170  vol_3g_mb_6           float64\n",
      " 171  vol_3g_mb_7           float64\n",
      " 172  vol_3g_mb_8           float64\n",
      " 173  vol_3g_mb_9           float64\n",
      " 174  arpu_3g_6             float64\n",
      " 175  arpu_3g_7             float64\n",
      " 176  arpu_3g_8             float64\n",
      " 177  arpu_3g_9             float64\n",
      " 178  arpu_2g_6             float64\n",
      " 179  arpu_2g_7             float64\n",
      " 180  arpu_2g_8             float64\n",
      " 181  arpu_2g_9             float64\n",
      " 182  night_pck_user_6      float64\n",
      " 183  night_pck_user_7      float64\n",
      " 184  night_pck_user_8      float64\n",
      " 185  night_pck_user_9      float64\n",
      " 186  monthly_2g_6          int64  \n",
      " 187  monthly_2g_7          int64  \n",
      " 188  monthly_2g_8          int64  \n",
      " 189  monthly_2g_9          int64  \n",
      " 190  sachet_2g_6           int64  \n",
      " 191  sachet_2g_7           int64  \n",
      " 192  sachet_2g_8           int64  \n",
      " 193  sachet_2g_9           int64  \n",
      " 194  monthly_3g_6          int64  \n",
      " 195  monthly_3g_7          int64  \n",
      " 196  monthly_3g_8          int64  \n",
      " 197  monthly_3g_9          int64  \n",
      " 198  sachet_3g_6           int64  \n",
      " 199  sachet_3g_7           int64  \n",
      " 200  sachet_3g_8           int64  \n",
      " 201  sachet_3g_9           int64  \n",
      " 202  fb_user_6             float64\n",
      " 203  fb_user_7             float64\n",
      " 204  fb_user_8             float64\n",
      " 205  fb_user_9             float64\n",
      " 206  aon                   int64  \n",
      " 207  aug_vbc_3g            float64\n",
      " 208  jul_vbc_3g            float64\n",
      " 209  jun_vbc_3g            float64\n",
      " 210  sep_vbc_3g            float64\n",
      "dtypes: float64(168), int64(35), object(8)\n",
      "memory usage: 161.1+ MB\n"
     ]
    }
   ],
   "source": [
    "# Checking the general information about the columns\n",
    "data.info(all)"
   ]
  },
  {
   "cell_type": "markdown",
   "id": "50e4bedb",
   "metadata": {},
   "source": [
    "### There are columns jun_vbc_3g, jul_vbc_3g, aug_vbc_3g, sep_vbc_3g have not standard naming. So we have to rename those columns."
   ]
  },
  {
   "cell_type": "code",
   "execution_count": 205,
   "id": "697761dc",
   "metadata": {},
   "outputs": [],
   "source": [
    "# Renaming the columns\n",
    "colsrename = {'jun_vbc_3g':'vbc_3g_6', 'jul_vbc_3g':'vbc_3g_7', 'aug_vbc_3g':'vbc_3g_8', 'sep_vbc_3g':'vbc_3g_9'}\n",
    "\n",
    "data.rename(columns=colsrename, inplace=True)"
   ]
  },
  {
   "cell_type": "markdown",
   "id": "8dd4063c",
   "metadata": {},
   "source": [
    "### The columns vol_2g_mb_6, vol_2g_mb_7, vol_2g_mb_8, vol_2g_mb_9 and columns vol_3g_mb_6, vol_3g_mb_7, vol_3g_mb_8, vol_3g_mb_9 represents the mobile internet usage volume in MB. We will derive a new feature 'Vol_data_MB' which will cover all the information of above columns."
   ]
  },
  {
   "cell_type": "code",
   "execution_count": 206,
   "id": "f866a090",
   "metadata": {},
   "outputs": [],
   "source": [
    "# Lets derive new Variable\n",
    "data['Vol_data_MB_6'] = data['vol_2g_mb_6']+data['vol_3g_mb_6'].astype(int)\n",
    "data['Vol_data_MB_7'] = data['vol_2g_mb_7']+data['vol_3g_mb_7'].astype(int)\n",
    "data['Vol_data_MB_8'] = data['vol_2g_mb_8']+data['vol_3g_mb_8'].astype(int)\n",
    "data['Vol_data_MB_9'] = data['vol_2g_mb_9']+data['vol_3g_mb_9'].astype(int)"
   ]
  },
  {
   "cell_type": "markdown",
   "id": "2f17e642",
   "metadata": {},
   "source": [
    "### We have columns total_rech_num_6, total_rech_num_7, total_rech_num_8, total_rech_num_9 and columns total_rech_amt_6, total_rech_amt_7, total_rech_amt_8, total_rech_amt_9. So we can derive new feature 'total_avg_rech_amt' ."
   ]
  },
  {
   "cell_type": "code",
   "execution_count": 207,
   "id": "468d79f7",
   "metadata": {},
   "outputs": [],
   "source": [
    "# Lets derive new variable\n",
    "data['total_avg_rech_amt_6'] = (data['total_rech_amt_6'])/(data['total_rech_num_6']+1)\n",
    "data['total_avg_rech_amt_7'] = (data['total_rech_amt_7'])/(data['total_rech_num_7']+1)\n",
    "data['total_avg_rech_amt_8'] = (data['total_rech_amt_8'])/(data['total_rech_num_8']+1)\n",
    "data['total_avg_rech_amt_9'] = (data['total_rech_amt_9'])/(data['total_rech_num_9']+1)"
   ]
  },
  {
   "cell_type": "markdown",
   "id": "540159c5",
   "metadata": {},
   "source": [
    "### There are columns count_rech_2g_6, count_rech_2g_7, count_rech_2g_8, count_rech_2g_9 and columns count_rech_3g_6, count_rech_3g_7, count_rech_3g_8, count_rech_3g_9. So we can derive new feature 'total_rech_count'. "
   ]
  },
  {
   "cell_type": "code",
   "execution_count": 208,
   "id": "7d9a6d53",
   "metadata": {},
   "outputs": [],
   "source": [
    "# Lets derive new variable\n",
    "data['total_rech_count_6'] = data['count_rech_2g_6']+data['count_rech_3g_6'].astype(int)\n",
    "data['total_rech_count_7'] = data['count_rech_2g_7']+data['count_rech_3g_7'].astype(int)\n",
    "data['total_rech_count_8'] = data['count_rech_2g_8']+data['count_rech_3g_8'].astype(int)\n",
    "data['total_rech_count_9'] = data['count_rech_2g_9']+data['count_rech_3g_9'].astype(int)"
   ]
  },
  {
   "cell_type": "markdown",
   "id": "97a5d184",
   "metadata": {},
   "source": [
    "### We derived the columns total_avg_rech_amt_6, total_avg_rech_amt_7, total_avg_rech_amt_8, total_avg_rech_amt_9 and total_rech_count_6, total_rech_count_7, total_rech_count_8, total_rech_count_9. From above columns we can calculate 'total_rech_amt_data' .\n"
   ]
  },
  {
   "cell_type": "code",
   "execution_count": 209,
   "id": "d12285b1",
   "metadata": {},
   "outputs": [],
   "source": [
    "# Lets derive new variable\n",
    "data['total_rech_amt_data_6'] = data['total_avg_rech_amt_6']*data['total_rech_count_6']\n",
    "data['total_rech_amt_data_7'] = data['total_avg_rech_amt_7']*data['total_rech_count_7']\n",
    "data['total_rech_amt_data_8'] = data['total_avg_rech_amt_8']*data['total_rech_count_8']\n",
    "data['total_rech_amt_data_9'] = data['total_avg_rech_amt_9']*data['total_rech_count_9']"
   ]
  },
  {
   "cell_type": "markdown",
   "id": "a040dcb8",
   "metadata": {},
   "source": [
    "### We have columns total_rech_amt_6, total_rech_amt_7, total_rech_amt_8, total_rech_amt_9 and columns total_rech_amt_data_6, total_rech_amt_data_7, total_rech_amt_data_8, total_rech_amt_data_9. If we add these two features we get 'total_monthly_rech'."
   ]
  },
  {
   "cell_type": "code",
   "execution_count": 210,
   "id": "d859a1f2",
   "metadata": {},
   "outputs": [],
   "source": [
    "data['total_monthly_rech_6'] = data['total_rech_amt_6'] + data['total_rech_amt_data_6']\n",
    "data['total_monthly_rech_7'] = data['total_rech_amt_7'] + data['total_rech_amt_data_7']\n",
    "data['total_monthly_rech_8'] = data['total_rech_amt_8'] + data['total_rech_amt_data_8']\n",
    "data['total_monthly_rech_9'] = data['total_rech_amt_9'] + data['total_rech_amt_data_9']"
   ]
  },
  {
   "cell_type": "code",
   "execution_count": 211,
   "id": "ec5d2499",
   "metadata": {},
   "outputs": [
    {
     "data": {
      "text/plain": [
       "Vol_data_MB_6            0\n",
       "Vol_data_MB_7            0\n",
       "Vol_data_MB_8            0\n",
       "Vol_data_MB_9            0\n",
       "total_avg_rech_amt_6     0\n",
       "total_avg_rech_amt_7     0\n",
       "total_avg_rech_amt_8     0\n",
       "total_avg_rech_amt_9     0\n",
       "total_rech_count_6       0\n",
       "total_rech_count_7       0\n",
       "total_rech_count_8       0\n",
       "total_rech_count_9       0\n",
       "total_rech_amt_data_6    0\n",
       "total_rech_amt_data_7    0\n",
       "total_rech_amt_data_8    0\n",
       "total_rech_amt_data_9    0\n",
       "total_monthly_rech_6     0\n",
       "total_monthly_rech_7     0\n",
       "total_monthly_rech_8     0\n",
       "total_monthly_rech_9     0\n",
       "dtype: int64"
      ]
     },
     "execution_count": 211,
     "metadata": {},
     "output_type": "execute_result"
    }
   ],
   "source": [
    "# Lets check if null values are present in derived columns\n",
    "colslistderived = ['Vol_data_MB_6', 'Vol_data_MB_7', 'Vol_data_MB_8', 'Vol_data_MB_9',\n",
    "                  'total_avg_rech_amt_6', 'total_avg_rech_amt_7', 'total_avg_rech_amt_8', 'total_avg_rech_amt_9',\n",
    "                  'total_rech_count_6', 'total_rech_count_7', 'total_rech_count_8', 'total_rech_count_9',\n",
    "                  'total_rech_amt_data_6', 'total_rech_amt_data_7', 'total_rech_amt_data_8', 'total_rech_amt_data_9',\n",
    "                  'total_monthly_rech_6', 'total_monthly_rech_7', 'total_monthly_rech_8', 'total_monthly_rech_9']\n",
    "\n",
    "data[colslistderived].isnull().sum()"
   ]
  },
  {
   "cell_type": "markdown",
   "id": "f2fd5594",
   "metadata": {},
   "source": [
    "### We can see there are null values present in some columns. We will impute 0 in place of null values."
   ]
  },
  {
   "cell_type": "code",
   "execution_count": 212,
   "id": "2241c320",
   "metadata": {},
   "outputs": [],
   "source": [
    "# Lets impute the missing values columns\n",
    "\n",
    "def ImputeCols(Data, ImputedColsList):\n",
    "    for col in colslistderived:\n",
    "        data[col].fillna(0, inplace=True)\n",
    "\n",
    "\n",
    "ImputeCols(data, colslistderived)"
   ]
  },
  {
   "cell_type": "markdown",
   "id": "57e1fc0b",
   "metadata": {},
   "source": [
    "### We know that the customers who have recharged with an amount more than or equal to X, where X is the 70th percentile of the average recharge amount in the first two months, i.e. the good phase are high value customers. Lets filter out those customers."
   ]
  },
  {
   "cell_type": "code",
   "execution_count": 213,
   "id": "b93ee96a",
   "metadata": {},
   "outputs": [
    {
     "name": "stdout",
     "output_type": "stream",
     "text": [
      "Length of HVCust: 29895\n",
      "% of HVCust: 30.009636812624223\n"
     ]
    }
   ],
   "source": [
    "# Finding high value customers\n",
    "\n",
    "# The first two months are of good phase. Lets calculate the avg rech amt of good phase\n",
    "good_phs_avg = (data['total_monthly_rech_6'] + data['total_monthly_rech_7'])/2\n",
    "\n",
    "# Lets calculate the 70th % of good phase\n",
    "cutoff70 = np.percentile(good_phs_avg, 70)\n",
    "\n",
    "# Lets apply the condition for high value cust\n",
    "high_val_cust = data[good_phs_avg >= cutoff70]\n",
    "\n",
    "\n",
    "# Lets check the length and % of high value cust\n",
    "print('Length of HVCust:', len(high_val_cust))\n",
    "print('% of HVCust:', len(high_val_cust)/data.shape[0]*100)"
   ]
  },
  {
   "cell_type": "markdown",
   "id": "9e84de37",
   "metadata": {},
   "source": [
    "### There are 30% high value customers who have recharged with an amount more than or equal to 70% of avg recharge amount of good phase."
   ]
  },
  {
   "cell_type": "markdown",
   "id": "63655459",
   "metadata": {},
   "source": [
    "### We are interested to find churn customers out of all high valued customers. We will now tag the churned customers (churn=1, else 0) based on the fourth month as per the following definition: Those who have not made any calls (either incoming or outgoing) and have not used mobile internet even once in the churn phase. We need total_ic_mou_9, total_og_mou_9, vol_2g_mb_9, vol_3g_mb_9 columns to tag churners."
   ]
  },
  {
   "cell_type": "code",
   "execution_count": 214,
   "id": "1231419b",
   "metadata": {},
   "outputs": [],
   "source": [
    "# Lets create a function that returns the number of churners\n",
    "def churned_cust(Data):\n",
    "    features = ['total_ic_mou_9', 'total_og_mou_9', 'vol_2g_mb_9', 'vol_3g_mb_9']\n",
    "    flag = ~data[[feature for feature in features]].any(axis=1)\n",
    "    flag = flag.map({True:1, False:0})\n",
    "    return flag"
   ]
  },
  {
   "cell_type": "code",
   "execution_count": 215,
   "id": "860eaac0",
   "metadata": {},
   "outputs": [
    {
     "name": "stdout",
     "output_type": "stream",
     "text": [
      "Length of churners: 2531\n",
      "% of churners: 8.466298712159224\n"
     ]
    },
    {
     "name": "stderr",
     "output_type": "stream",
     "text": [
      "C:\\Users\\asus\\AppData\\Local\\Temp/ipykernel_5480/417713241.py:2: SettingWithCopyWarning: \n",
      "A value is trying to be set on a copy of a slice from a DataFrame.\n",
      "Try using .loc[row_indexer,col_indexer] = value instead\n",
      "\n",
      "See the caveats in the documentation: https://pandas.pydata.org/pandas-docs/stable/user_guide/indexing.html#returning-a-view-versus-a-copy\n",
      "  high_val_cust['churn'] = churned_cust(high_val_cust)\n"
     ]
    }
   ],
   "source": [
    "# Lets create a new column 'churn' in high_val_cust data to represent the churners\n",
    "high_val_cust['churn'] = churned_cust(high_val_cust)\n",
    "\n",
    "# # Lets check the length and % of churners\n",
    "print('Length of churners:', len(high_val_cust[high_val_cust.churn == 1]))\n",
    "print('% of churners:', len(high_val_cust[high_val_cust.churn == 1])/high_val_cust.shape[0]*100)"
   ]
  },
  {
   "cell_type": "markdown",
   "id": "a92f8927",
   "metadata": {},
   "source": [
    "### There are 8.5% of churners present in high value customers."
   ]
  },
  {
   "cell_type": "markdown",
   "id": "b6784ef7",
   "metadata": {},
   "source": [
    "## 3) EDA"
   ]
  },
  {
   "cell_type": "code",
   "execution_count": 216,
   "id": "776a3b62",
   "metadata": {},
   "outputs": [
    {
     "data": {
      "text/plain": [
       "['last_date_of_month',\n",
       " 'arpu',\n",
       " 'onnet_mou',\n",
       " 'offnet_mou',\n",
       " 'roam_ic_mou',\n",
       " 'roam_og_mou',\n",
       " 'loc_og_t2t_mou',\n",
       " 'loc_og_t2m_mou',\n",
       " 'loc_og_t2f_mou',\n",
       " 'loc_og_t2c_mou',\n",
       " 'loc_og_mou',\n",
       " 'std_og_t2t_mou',\n",
       " 'std_og_t2m_mou',\n",
       " 'std_og_t2f_mou',\n",
       " 'std_og_mou',\n",
       " 'isd_og_mou',\n",
       " 'spl_og_mou',\n",
       " 'og_others',\n",
       " 'total_og_mou',\n",
       " 'loc_ic_t2t_mou',\n",
       " 'loc_ic_t2m_mou',\n",
       " 'loc_ic_t2f_mou',\n",
       " 'loc_ic_mou',\n",
       " 'std_ic_t2t_mou',\n",
       " 'std_ic_t2m_mou',\n",
       " 'std_ic_t2f_mou',\n",
       " 'std_ic_mou',\n",
       " 'total_ic_mou',\n",
       " 'spl_ic_mou',\n",
       " 'isd_ic_mou',\n",
       " 'ic_others',\n",
       " 'total_rech_num',\n",
       " 'total_rech_amt',\n",
       " 'max_rech_amt',\n",
       " 'date_of_last_rech',\n",
       " 'last_day_rch_amt',\n",
       " 'total_rech_data',\n",
       " 'max_rech_data',\n",
       " 'count_rech_2g',\n",
       " 'count_rech_3g',\n",
       " 'av_rech_amt_data',\n",
       " 'vol_2g_mb',\n",
       " 'vol_3g_mb',\n",
       " 'arpu_3g',\n",
       " 'arpu_2g',\n",
       " 'night_pck_user',\n",
       " 'monthly_2g',\n",
       " 'sachet_2g',\n",
       " 'monthly_3g',\n",
       " 'sachet_3g',\n",
       " 'fb_user',\n",
       " 'vbc_3g',\n",
       " 'Vol_data_MB',\n",
       " 'total_avg_rech_amt',\n",
       " 'total_rech_count',\n",
       " 'total_rech_amt_data',\n",
       " 'total_monthly_rech']"
      ]
     },
     "execution_count": 216,
     "metadata": {},
     "output_type": "execute_result"
    }
   ],
   "source": [
    "# Filtering the common monthly columns for each month\n",
    "common_cols = high_val_cust.filter(regex ='_7').columns\n",
    "monthly_cols = [item.strip('_7') for item in common_cols]\n",
    "monthly_cols"
   ]
  },
  {
   "cell_type": "markdown",
   "id": "5f986e4f",
   "metadata": {},
   "source": [
    "### Those are the common columns present for all months."
   ]
  },
  {
   "cell_type": "code",
   "execution_count": 217,
   "id": "0a02bdc8",
   "metadata": {},
   "outputs": [
    {
     "name": "stderr",
     "output_type": "stream",
     "text": [
      "C:\\Users\\asus\\anaconda3\\lib\\site-packages\\pandas\\core\\frame.py:4906: SettingWithCopyWarning: \n",
      "A value is trying to be set on a copy of a slice from a DataFrame\n",
      "\n",
      "See the caveats in the documentation: https://pandas.pydata.org/pandas-docs/stable/user_guide/indexing.html#returning-a-view-versus-a-copy\n",
      "  return super().drop(\n"
     ]
    }
   ],
   "source": [
    "# Removing all the attributes corresponding to the 9th month from high value cust data\n",
    "col_list_9 = high_val_cust.filter(regex=('_9')).columns\n",
    "high_val_cust.drop(col_list_9,axis=1,inplace=True)"
   ]
  },
  {
   "cell_type": "code",
   "execution_count": 218,
   "id": "d30457a0",
   "metadata": {},
   "outputs": [
    {
     "data": {
      "text/plain": [
       "['last_date_of_month_6',\n",
       " 'arpu_6',\n",
       " 'onnet_mou_6',\n",
       " 'offnet_mou_6',\n",
       " 'roam_ic_mou_6',\n",
       " 'roam_og_mou_6',\n",
       " 'loc_og_t2t_mou_6',\n",
       " 'loc_og_t2m_mou_6',\n",
       " 'loc_og_t2f_mou_6',\n",
       " 'loc_og_t2c_mou_6',\n",
       " 'loc_og_mou_6',\n",
       " 'std_og_t2t_mou_6',\n",
       " 'std_og_t2m_mou_6',\n",
       " 'std_og_t2f_mou_6',\n",
       " 'std_og_mou_6',\n",
       " 'isd_og_mou_6',\n",
       " 'spl_og_mou_6',\n",
       " 'og_others_6',\n",
       " 'total_og_mou_6',\n",
       " 'loc_ic_t2t_mou_6',\n",
       " 'loc_ic_t2m_mou_6',\n",
       " 'loc_ic_t2f_mou_6',\n",
       " 'loc_ic_mou_6',\n",
       " 'std_ic_t2t_mou_6',\n",
       " 'std_ic_t2m_mou_6',\n",
       " 'std_ic_t2f_mou_6',\n",
       " 'std_ic_mou_6',\n",
       " 'total_ic_mou_6',\n",
       " 'spl_ic_mou_6',\n",
       " 'isd_ic_mou_6',\n",
       " 'ic_others_6',\n",
       " 'total_rech_num_6',\n",
       " 'total_rech_amt_6',\n",
       " 'max_rech_amt_6',\n",
       " 'date_of_last_rech_6',\n",
       " 'last_day_rch_amt_6',\n",
       " 'total_rech_data_6',\n",
       " 'max_rech_data_6',\n",
       " 'count_rech_2g_6',\n",
       " 'count_rech_3g_6',\n",
       " 'av_rech_amt_data_6',\n",
       " 'vol_2g_mb_6',\n",
       " 'vol_3g_mb_6',\n",
       " 'arpu_3g_6',\n",
       " 'arpu_2g_6',\n",
       " 'night_pck_user_6',\n",
       " 'monthly_2g_6',\n",
       " 'sachet_2g_6',\n",
       " 'monthly_3g_6',\n",
       " 'sachet_3g_6',\n",
       " 'fb_user_6',\n",
       " 'vbc_3g_6',\n",
       " 'Vol_data_MB_6',\n",
       " 'total_avg_rech_amt_6',\n",
       " 'total_rech_count_6',\n",
       " 'total_rech_amt_data_6',\n",
       " 'total_monthly_rech_6',\n",
       " 'last_date_of_month_7',\n",
       " 'arpu_7',\n",
       " 'onnet_mou_7',\n",
       " 'offnet_mou_7',\n",
       " 'roam_ic_mou_7',\n",
       " 'roam_og_mou_7',\n",
       " 'loc_og_t2t_mou_7',\n",
       " 'loc_og_t2m_mou_7',\n",
       " 'loc_og_t2f_mou_7',\n",
       " 'loc_og_t2c_mou_7',\n",
       " 'loc_og_mou_7',\n",
       " 'std_og_t2t_mou_7',\n",
       " 'std_og_t2m_mou_7',\n",
       " 'std_og_t2f_mou_7',\n",
       " 'std_og_mou_7',\n",
       " 'isd_og_mou_7',\n",
       " 'spl_og_mou_7',\n",
       " 'og_others_7',\n",
       " 'total_og_mou_7',\n",
       " 'loc_ic_t2t_mou_7',\n",
       " 'loc_ic_t2m_mou_7',\n",
       " 'loc_ic_t2f_mou_7',\n",
       " 'loc_ic_mou_7',\n",
       " 'std_ic_t2t_mou_7',\n",
       " 'std_ic_t2m_mou_7',\n",
       " 'std_ic_t2f_mou_7',\n",
       " 'std_ic_mou_7',\n",
       " 'total_ic_mou_7',\n",
       " 'spl_ic_mou_7',\n",
       " 'isd_ic_mou_7',\n",
       " 'ic_others_7',\n",
       " 'total_rech_num_7',\n",
       " 'total_rech_amt_7',\n",
       " 'max_rech_amt_7',\n",
       " 'date_of_last_rech_7',\n",
       " 'last_day_rch_amt_7',\n",
       " 'total_rech_data_7',\n",
       " 'max_rech_data_7',\n",
       " 'count_rech_2g_7',\n",
       " 'count_rech_3g_7',\n",
       " 'av_rech_amt_data_7',\n",
       " 'vol_2g_mb_7',\n",
       " 'vol_3g_mb_7',\n",
       " 'arpu_3g_7',\n",
       " 'arpu_2g_7',\n",
       " 'night_pck_user_7',\n",
       " 'monthly_2g_7',\n",
       " 'sachet_2g_7',\n",
       " 'monthly_3g_7',\n",
       " 'sachet_3g_7',\n",
       " 'fb_user_7',\n",
       " 'vbc_3g_7',\n",
       " 'Vol_data_MB_7',\n",
       " 'total_avg_rech_amt_7',\n",
       " 'total_rech_count_7',\n",
       " 'total_rech_amt_data_7',\n",
       " 'total_monthly_rech_7',\n",
       " 'last_date_of_month_8',\n",
       " 'arpu_8',\n",
       " 'onnet_mou_8',\n",
       " 'offnet_mou_8',\n",
       " 'roam_ic_mou_8',\n",
       " 'roam_og_mou_8',\n",
       " 'loc_og_t2t_mou_8',\n",
       " 'loc_og_t2m_mou_8',\n",
       " 'loc_og_t2f_mou_8',\n",
       " 'loc_og_t2c_mou_8',\n",
       " 'loc_og_mou_8',\n",
       " 'std_og_t2t_mou_8',\n",
       " 'std_og_t2m_mou_8',\n",
       " 'std_og_t2f_mou_8',\n",
       " 'std_og_mou_8',\n",
       " 'isd_og_mou_8',\n",
       " 'spl_og_mou_8',\n",
       " 'og_others_8',\n",
       " 'total_og_mou_8',\n",
       " 'loc_ic_t2t_mou_8',\n",
       " 'loc_ic_t2m_mou_8',\n",
       " 'loc_ic_t2f_mou_8',\n",
       " 'loc_ic_mou_8',\n",
       " 'std_ic_t2t_mou_8',\n",
       " 'std_ic_t2m_mou_8',\n",
       " 'std_ic_t2f_mou_8',\n",
       " 'std_ic_mou_8',\n",
       " 'total_ic_mou_8',\n",
       " 'spl_ic_mou_8',\n",
       " 'isd_ic_mou_8',\n",
       " 'ic_others_8',\n",
       " 'total_rech_num_8',\n",
       " 'total_rech_amt_8',\n",
       " 'max_rech_amt_8',\n",
       " 'date_of_last_rech_8',\n",
       " 'last_day_rch_amt_8',\n",
       " 'total_rech_data_8',\n",
       " 'max_rech_data_8',\n",
       " 'count_rech_2g_8',\n",
       " 'count_rech_3g_8',\n",
       " 'av_rech_amt_data_8',\n",
       " 'vol_2g_mb_8',\n",
       " 'vol_3g_mb_8',\n",
       " 'arpu_3g_8',\n",
       " 'arpu_2g_8',\n",
       " 'night_pck_user_8',\n",
       " 'monthly_2g_8',\n",
       " 'sachet_2g_8',\n",
       " 'monthly_3g_8',\n",
       " 'sachet_3g_8',\n",
       " 'fb_user_8',\n",
       " 'vbc_3g_8',\n",
       " 'Vol_data_MB_8',\n",
       " 'total_avg_rech_amt_8',\n",
       " 'total_rech_count_8',\n",
       " 'total_rech_amt_data_8',\n",
       " 'total_monthly_rech_8']"
      ]
     },
     "execution_count": 218,
     "metadata": {},
     "output_type": "execute_result"
    }
   ],
   "source": [
    "# Obtaining the list of all the monthly columns 6,7,8\n",
    "allmonthlycols = [C + N for N in ['_6','_7','_8'] for C in monthly_cols]\n",
    "allmonthlycols"
   ]
  },
  {
   "cell_type": "markdown",
   "id": "a64ee693",
   "metadata": {},
   "source": [
    "### All the features for months 6,7 and 8 are listed above. Still, there are some features other than monthly cols."
   ]
  },
  {
   "cell_type": "code",
   "execution_count": 219,
   "id": "40dfdf56",
   "metadata": {},
   "outputs": [
    {
     "data": {
      "text/plain": [
       "['mobile_number', 'circle_id', 'aon', 'churn']"
      ]
     },
     "execution_count": 219,
     "metadata": {},
     "output_type": "execute_result"
    }
   ],
   "source": [
    "# Lets find the non monthly cols from high value cust\n",
    "nonmonthlycols = [col for col in high_val_cust.columns if col not in allmonthlycols]\n",
    "nonmonthlycols"
   ]
  },
  {
   "cell_type": "code",
   "execution_count": 220,
   "id": "98f3a844",
   "metadata": {},
   "outputs": [
    {
     "name": "stdout",
     "output_type": "stream",
     "text": [
      "mobile_number\n",
      "7000701601    1\n",
      "7000280683    1\n",
      "7000966912    1\n",
      "7001295155    1\n",
      "7000661819    1\n",
      "             ..\n",
      "7000433247    1\n",
      "7001373274    1\n",
      "7001360563    1\n",
      "7000889879    1\n",
      "7001905007    1\n",
      "Name: mobile_number, Length: 29895, dtype: int64\n",
      "\n",
      "circle_id\n",
      "109    29895\n",
      "Name: circle_id, dtype: int64\n",
      "\n",
      "aon\n",
      "3651    500\n",
      "2372    195\n",
      "495     110\n",
      "494      93\n",
      "492      83\n",
      "       ... \n",
      "3492      1\n",
      "3277      1\n",
      "2110      1\n",
      "3027      1\n",
      "3562      1\n",
      "Name: aon, Length: 3319, dtype: int64\n",
      "\n",
      "churn\n",
      "0    27364\n",
      "1     2531\n",
      "Name: churn, dtype: int64\n",
      "\n"
     ]
    }
   ],
   "source": [
    "# Make a function that returns value counts for each of above col\n",
    "\n",
    "def val_count(Data, ColsList):\n",
    "    for col in nonmonthlycols:\n",
    "        print(col)\n",
    "        print(high_val_cust[col].value_counts())\n",
    "        print()\n",
    "        \n",
    "val_count(high_val_cust, nonmonthlycols)"
   ]
  },
  {
   "cell_type": "markdown",
   "id": "1309ac18",
   "metadata": {},
   "source": [
    "### The column circle_id has only one value present. We will drop this column as this is not useful for further analysis."
   ]
  },
  {
   "cell_type": "code",
   "execution_count": 221,
   "id": "e2dc1ebb",
   "metadata": {},
   "outputs": [],
   "source": [
    "# Dropping the col circle_id\n",
    "high_val_cust.drop('circle_id', axis=1, inplace=True)"
   ]
  },
  {
   "cell_type": "code",
   "execution_count": 222,
   "id": "50f8509f",
   "metadata": {},
   "outputs": [
    {
     "name": "stderr",
     "output_type": "stream",
     "text": [
      "C:\\Users\\asus\\AppData\\Local\\Temp/ipykernel_5480/3362453683.py:14: UserWarning: FixedFormatter should only be used together with FixedLocator\n",
      "  ax.set_xticklabels(['Jun','Jul','Aug'])\n"
     ]
    },
    {
     "data": {
      "image/png": "[encoded data removed]",
      "text/plain": [
       "<Figure size 504x576 with 1 Axes>"
      ]
     },
     "metadata": {
      "needs_background": "light"
     },
     "output_type": "display_data"
    },
    {
     "name": "stderr",
     "output_type": "stream",
     "text": [
      "C:\\Users\\asus\\AppData\\Local\\Temp/ipykernel_5480/3362453683.py:24: UserWarning: FixedFormatter should only be used together with FixedLocator\n",
      "  ax.set_xticklabels(['Jun','Jul','Aug'])\n"
     ]
    },
    {
     "data": {
      "image/png": "[encoded data removed]",
      "text/plain": [
       "<Figure size 504x576 with 1 Axes>"
      ]
     },
     "metadata": {
      "needs_background": "light"
     },
     "output_type": "display_data"
    }
   ],
   "source": [
    "# Lets check the plot of incoming/outgoing MOU w.r.t month \n",
    "\n",
    "# First create a list of independent vars\n",
    "incoming_vars = ['total_ic_mou_6','total_ic_mou_7','total_ic_mou_8']\n",
    "outgoing_vars = ['total_og_mou_6','total_og_mou_7','total_og_mou_8']\n",
    "\n",
    "# Lets group by the data by churn and aggregate it w.r.t. independent vars\n",
    "df1 = high_val_cust.groupby(['churn'])[incoming_vars].mean().T\n",
    "df2 = high_val_cust.groupby(['churn'])[outgoing_vars].mean().T\n",
    "\n",
    "# Lets plot the graph for Avg.incoming_vars MOU V/S Month\n",
    "fig, ax = plt.subplots(figsize=(7,8))\n",
    "plt.plot(df1)\n",
    "ax.set_xticklabels(['Jun','Jul','Aug'])\n",
    "plt.legend(['Non-Churn', 'Churn'])\n",
    "plt.xlabel(\"Month\")\n",
    "plt.ylabel(\"Avg.incoming_vars MOU\")\n",
    "plt.title(\"Avg.incoming_vars MOU V/S Month\")\n",
    "plt.show()\n",
    "\n",
    "# Lets plot the graph for Avg.outgoing_vars MOU V/S Month\n",
    "fig, ax = plt.subplots(figsize=(7,8))\n",
    "plt.plot(df2)\n",
    "ax.set_xticklabels(['Jun','Jul','Aug'])\n",
    "plt.legend(['Non-Churn', 'Churn'])\n",
    "plt.xlabel(\"Month\")\n",
    "plt.ylabel(\"Avg.outgoing_vars MOU\")\n",
    "plt.title(\"Avg.outgoing_vars MOU V/S Month\")\n",
    "plt.show()"
   ]
  },
  {
   "cell_type": "markdown",
   "id": "450c96cf",
   "metadata": {},
   "source": [
    "### From the above graph we can see that for churners the avg incoming and outgoing MOU decreases drastically after 2nd month. On the other hand, for non churners it reamins stable w.r.t month. Therefore we can say that, the attribute MOU is important criteria for predicting the churners."
   ]
  },
  {
   "cell_type": "code",
   "execution_count": 223,
   "id": "c9d95722",
   "metadata": {},
   "outputs": [
    {
     "name": "stderr",
     "output_type": "stream",
     "text": [
      "C:\\Users\\asus\\AppData\\Local\\Temp/ipykernel_5480/1028842438.py:2: SettingWithCopyWarning: \n",
      "A value is trying to be set on a copy of a slice from a DataFrame.\n",
      "Try using .loc[row_indexer,col_indexer] = value instead\n",
      "\n",
      "See the caveats in the documentation: https://pandas.pydata.org/pandas-docs/stable/user_guide/indexing.html#returning-a-view-versus-a-copy\n",
      "  high_val_cust['OG_MOU_to_IC_MOU_6'] = (high_val_cust['total_og_mou_6'])/(high_val_cust['total_ic_mou_6']+1)\n",
      "C:\\Users\\asus\\AppData\\Local\\Temp/ipykernel_5480/1028842438.py:3: SettingWithCopyWarning: \n",
      "A value is trying to be set on a copy of a slice from a DataFrame.\n",
      "Try using .loc[row_indexer,col_indexer] = value instead\n",
      "\n",
      "See the caveats in the documentation: https://pandas.pydata.org/pandas-docs/stable/user_guide/indexing.html#returning-a-view-versus-a-copy\n",
      "  high_val_cust['OG_MOU_to_IC_MOU_7'] = (high_val_cust['total_og_mou_7'])/(high_val_cust['total_ic_mou_7']+1)\n",
      "C:\\Users\\asus\\AppData\\Local\\Temp/ipykernel_5480/1028842438.py:4: SettingWithCopyWarning: \n",
      "A value is trying to be set on a copy of a slice from a DataFrame.\n",
      "Try using .loc[row_indexer,col_indexer] = value instead\n",
      "\n",
      "See the caveats in the documentation: https://pandas.pydata.org/pandas-docs/stable/user_guide/indexing.html#returning-a-view-versus-a-copy\n",
      "  high_val_cust['OG_MOU_to_IC_MOU_8'] = (high_val_cust['total_og_mou_8'])/(high_val_cust['total_ic_mou_8']+1)\n"
     ]
    }
   ],
   "source": [
    "# Creating new feature 'OG_MOU_to_IC_MOU' for each month\n",
    "high_val_cust['OG_MOU_to_IC_MOU_6'] = (high_val_cust['total_og_mou_6'])/(high_val_cust['total_ic_mou_6']+1)\n",
    "high_val_cust['OG_MOU_to_IC_MOU_7'] = (high_val_cust['total_og_mou_7'])/(high_val_cust['total_ic_mou_7']+1)\n",
    "high_val_cust['OG_MOU_to_IC_MOU_8'] = (high_val_cust['total_og_mou_8'])/(high_val_cust['total_ic_mou_8']+1)"
   ]
  },
  {
   "cell_type": "markdown",
   "id": "5bbd201b",
   "metadata": {},
   "source": [
    "### The new variable created will predict the churn more accurately."
   ]
  },
  {
   "cell_type": "code",
   "execution_count": 224,
   "id": "3b03aa87",
   "metadata": {},
   "outputs": [
    {
     "name": "stderr",
     "output_type": "stream",
     "text": [
      "C:\\Users\\asus\\AppData\\Local\\Temp/ipykernel_5480/2744968733.py:9: UserWarning: FixedFormatter should only be used together with FixedLocator\n",
      "  ax.set_xticklabels(['Jun','Jul','Aug'])\n"
     ]
    },
    {
     "data": {
      "image/png": "[encoded data removed]",
      "text/plain": [
       "<Figure size 576x648 with 1 Axes>"
      ]
     },
     "metadata": {
      "needs_background": "light"
     },
     "output_type": "display_data"
    }
   ],
   "source": [
    "# Lets plot a graph of OG_MOU_to_IC_MOU w.r.t month\n",
    "\n",
    "OG_to_IC_MOU_vars = ['OG_MOU_to_IC_MOU_6', 'OG_MOU_to_IC_MOU_7', 'OG_MOU_to_IC_MOU_8']\n",
    "\n",
    "df3 = high_val_cust.groupby('churn')[OG_to_IC_MOU_vars].mean().T\n",
    "\n",
    "fig, ax = plt.subplots(figsize=(8,9))\n",
    "plt.plot(df3)\n",
    "ax.set_xticklabels(['Jun','Jul','Aug'])\n",
    "plt.legend(['Non-Churn', 'Churn'])\n",
    "plt.xlabel(\"Month\")\n",
    "plt.ylabel(\"Avg.OG_to_IC_MOU_vars\")\n",
    "plt.title(\"Avg.OG_to_IC_MOU_vars V/S Month\")\n",
    "\n",
    "plt.show()"
   ]
  },
  {
   "cell_type": "markdown",
   "id": "2194626d",
   "metadata": {},
   "source": [
    "### The ratio of outgoing to incoming minutes of usage keeps decreasing significantly for churners after july. For nonchurners the ratio remains constant almost."
   ]
  },
  {
   "cell_type": "code",
   "execution_count": 225,
   "id": "123ee0a8",
   "metadata": {},
   "outputs": [
    {
     "name": "stdout",
     "output_type": "stream",
     "text": [
      "<class 'pandas.core.frame.DataFrame'>\n",
      "Int64Index: 29895 entries, 7 to 99998\n",
      "Data columns (total 177 columns):\n",
      " #    Column                 Dtype  \n",
      "---   ------                 -----  \n",
      " 0    mobile_number          int64  \n",
      " 1    last_date_of_month_6   object \n",
      " 2    last_date_of_month_7   object \n",
      " 3    last_date_of_month_8   object \n",
      " 4    arpu_6                 float64\n",
      " 5    arpu_7                 float64\n",
      " 6    arpu_8                 float64\n",
      " 7    onnet_mou_6            float64\n",
      " 8    onnet_mou_7            float64\n",
      " 9    onnet_mou_8            float64\n",
      " 10   offnet_mou_6           float64\n",
      " 11   offnet_mou_7           float64\n",
      " 12   offnet_mou_8           float64\n",
      " 13   roam_ic_mou_6          float64\n",
      " 14   roam_ic_mou_7          float64\n",
      " 15   roam_ic_mou_8          float64\n",
      " 16   roam_og_mou_6          float64\n",
      " 17   roam_og_mou_7          float64\n",
      " 18   roam_og_mou_8          float64\n",
      " 19   loc_og_t2t_mou_6       float64\n",
      " 20   loc_og_t2t_mou_7       float64\n",
      " 21   loc_og_t2t_mou_8       float64\n",
      " 22   loc_og_t2m_mou_6       float64\n",
      " 23   loc_og_t2m_mou_7       float64\n",
      " 24   loc_og_t2m_mou_8       float64\n",
      " 25   loc_og_t2f_mou_6       float64\n",
      " 26   loc_og_t2f_mou_7       float64\n",
      " 27   loc_og_t2f_mou_8       float64\n",
      " 28   loc_og_t2c_mou_6       float64\n",
      " 29   loc_og_t2c_mou_7       float64\n",
      " 30   loc_og_t2c_mou_8       float64\n",
      " 31   loc_og_mou_6           float64\n",
      " 32   loc_og_mou_7           float64\n",
      " 33   loc_og_mou_8           float64\n",
      " 34   std_og_t2t_mou_6       float64\n",
      " 35   std_og_t2t_mou_7       float64\n",
      " 36   std_og_t2t_mou_8       float64\n",
      " 37   std_og_t2m_mou_6       float64\n",
      " 38   std_og_t2m_mou_7       float64\n",
      " 39   std_og_t2m_mou_8       float64\n",
      " 40   std_og_t2f_mou_6       float64\n",
      " 41   std_og_t2f_mou_7       float64\n",
      " 42   std_og_t2f_mou_8       float64\n",
      " 43   std_og_mou_6           float64\n",
      " 44   std_og_mou_7           float64\n",
      " 45   std_og_mou_8           float64\n",
      " 46   isd_og_mou_6           float64\n",
      " 47   isd_og_mou_7           float64\n",
      " 48   isd_og_mou_8           float64\n",
      " 49   spl_og_mou_6           float64\n",
      " 50   spl_og_mou_7           float64\n",
      " 51   spl_og_mou_8           float64\n",
      " 52   og_others_6            float64\n",
      " 53   og_others_7            float64\n",
      " 54   og_others_8            float64\n",
      " 55   total_og_mou_6         float64\n",
      " 56   total_og_mou_7         float64\n",
      " 57   total_og_mou_8         float64\n",
      " 58   loc_ic_t2t_mou_6       float64\n",
      " 59   loc_ic_t2t_mou_7       float64\n",
      " 60   loc_ic_t2t_mou_8       float64\n",
      " 61   loc_ic_t2m_mou_6       float64\n",
      " 62   loc_ic_t2m_mou_7       float64\n",
      " 63   loc_ic_t2m_mou_8       float64\n",
      " 64   loc_ic_t2f_mou_6       float64\n",
      " 65   loc_ic_t2f_mou_7       float64\n",
      " 66   loc_ic_t2f_mou_8       float64\n",
      " 67   loc_ic_mou_6           float64\n",
      " 68   loc_ic_mou_7           float64\n",
      " 69   loc_ic_mou_8           float64\n",
      " 70   std_ic_t2t_mou_6       float64\n",
      " 71   std_ic_t2t_mou_7       float64\n",
      " 72   std_ic_t2t_mou_8       float64\n",
      " 73   std_ic_t2m_mou_6       float64\n",
      " 74   std_ic_t2m_mou_7       float64\n",
      " 75   std_ic_t2m_mou_8       float64\n",
      " 76   std_ic_t2f_mou_6       float64\n",
      " 77   std_ic_t2f_mou_7       float64\n",
      " 78   std_ic_t2f_mou_8       float64\n",
      " 79   std_ic_mou_6           float64\n",
      " 80   std_ic_mou_7           float64\n",
      " 81   std_ic_mou_8           float64\n",
      " 82   total_ic_mou_6         float64\n",
      " 83   total_ic_mou_7         float64\n",
      " 84   total_ic_mou_8         float64\n",
      " 85   spl_ic_mou_6           float64\n",
      " 86   spl_ic_mou_7           float64\n",
      " 87   spl_ic_mou_8           float64\n",
      " 88   isd_ic_mou_6           float64\n",
      " 89   isd_ic_mou_7           float64\n",
      " 90   isd_ic_mou_8           float64\n",
      " 91   ic_others_6            float64\n",
      " 92   ic_others_7            float64\n",
      " 93   ic_others_8            float64\n",
      " 94   total_rech_num_6       int64  \n",
      " 95   total_rech_num_7       int64  \n",
      " 96   total_rech_num_8       int64  \n",
      " 97   total_rech_amt_6       int64  \n",
      " 98   total_rech_amt_7       int64  \n",
      " 99   total_rech_amt_8       int64  \n",
      " 100  max_rech_amt_6         int64  \n",
      " 101  max_rech_amt_7         int64  \n",
      " 102  max_rech_amt_8         int64  \n",
      " 103  date_of_last_rech_6    object \n",
      " 104  date_of_last_rech_7    object \n",
      " 105  date_of_last_rech_8    object \n",
      " 106  last_day_rch_amt_6     int64  \n",
      " 107  last_day_rch_amt_7     int64  \n",
      " 108  last_day_rch_amt_8     int64  \n",
      " 109  total_rech_data_6      float64\n",
      " 110  total_rech_data_7      float64\n",
      " 111  total_rech_data_8      float64\n",
      " 112  max_rech_data_6        float64\n",
      " 113  max_rech_data_7        float64\n",
      " 114  max_rech_data_8        float64\n",
      " 115  count_rech_2g_6        float64\n",
      " 116  count_rech_2g_7        float64\n",
      " 117  count_rech_2g_8        float64\n",
      " 118  count_rech_3g_6        float64\n",
      " 119  count_rech_3g_7        float64\n",
      " 120  count_rech_3g_8        float64\n",
      " 121  av_rech_amt_data_6     float64\n",
      " 122  av_rech_amt_data_7     float64\n",
      " 123  av_rech_amt_data_8     float64\n",
      " 124  vol_2g_mb_6            float64\n",
      " 125  vol_2g_mb_7            float64\n",
      " 126  vol_2g_mb_8            float64\n",
      " 127  vol_3g_mb_6            float64\n",
      " 128  vol_3g_mb_7            float64\n",
      " 129  vol_3g_mb_8            float64\n",
      " 130  arpu_3g_6              float64\n",
      " 131  arpu_3g_7              float64\n",
      " 132  arpu_3g_8              float64\n",
      " 133  arpu_2g_6              float64\n",
      " 134  arpu_2g_7              float64\n",
      " 135  arpu_2g_8              float64\n",
      " 136  night_pck_user_6       float64\n",
      " 137  night_pck_user_7       float64\n",
      " 138  night_pck_user_8       float64\n",
      " 139  monthly_2g_6           int64  \n",
      " 140  monthly_2g_7           int64  \n",
      " 141  monthly_2g_8           int64  \n",
      " 142  sachet_2g_6            int64  \n",
      " 143  sachet_2g_7            int64  \n",
      " 144  sachet_2g_8            int64  \n",
      " 145  monthly_3g_6           int64  \n",
      " 146  monthly_3g_7           int64  \n",
      " 147  monthly_3g_8           int64  \n",
      " 148  sachet_3g_6            int64  \n",
      " 149  sachet_3g_7            int64  \n",
      " 150  sachet_3g_8            int64  \n",
      " 151  fb_user_6              float64\n",
      " 152  fb_user_7              float64\n",
      " 153  fb_user_8              float64\n",
      " 154  aon                    int64  \n",
      " 155  vbc_3g_8               float64\n",
      " 156  vbc_3g_7               float64\n",
      " 157  vbc_3g_6               float64\n",
      " 158  Vol_data_MB_6          float64\n",
      " 159  Vol_data_MB_7          float64\n",
      " 160  Vol_data_MB_8          float64\n",
      " 161  total_avg_rech_amt_6   float64\n",
      " 162  total_avg_rech_amt_7   float64\n",
      " 163  total_avg_rech_amt_8   float64\n",
      " 164  total_rech_count_6     float64\n",
      " 165  total_rech_count_7     float64\n",
      " 166  total_rech_count_8     float64\n",
      " 167  total_rech_amt_data_6  float64\n",
      " 168  total_rech_amt_data_7  float64\n",
      " 169  total_rech_amt_data_8  float64\n",
      " 170  total_monthly_rech_6   float64\n",
      " 171  total_monthly_rech_7   float64\n",
      " 172  total_monthly_rech_8   float64\n",
      " 173  churn                  int64  \n",
      " 174  OG_MOU_to_IC_MOU_6     float64\n",
      " 175  OG_MOU_to_IC_MOU_7     float64\n",
      " 176  OG_MOU_to_IC_MOU_8     float64\n",
      "dtypes: float64(144), int64(27), object(6)\n",
      "memory usage: 40.6+ MB\n"
     ]
    }
   ],
   "source": [
    "# Lets check the general information about the data\n",
    "high_val_cust.info(all)"
   ]
  },
  {
   "cell_type": "markdown",
   "id": "15e46c59",
   "metadata": {},
   "source": [
    "### We have columns loc_ic_mou_6, loc_ic_mou_7, loc_ic_mou_8 and loc_og_mou_6, loc_og_mou_7, loc_og_mou_8. Lets create new feature 'loc_OG_to_IC_mou' which represents the ratio of outgoing to incoming minutes of usage for local calls within same telecom operator."
   ]
  },
  {
   "cell_type": "code",
   "execution_count": 226,
   "id": "f5c5eab1",
   "metadata": {},
   "outputs": [
    {
     "name": "stderr",
     "output_type": "stream",
     "text": [
      "C:\\Users\\asus\\AppData\\Local\\Temp/ipykernel_5480/3724375204.py:2: SettingWithCopyWarning: \n",
      "A value is trying to be set on a copy of a slice from a DataFrame.\n",
      "Try using .loc[row_indexer,col_indexer] = value instead\n",
      "\n",
      "See the caveats in the documentation: https://pandas.pydata.org/pandas-docs/stable/user_guide/indexing.html#returning-a-view-versus-a-copy\n",
      "  high_val_cust['loc_OG_to_IC_mou_6'] = (high_val_cust['loc_og_mou_6'])/(high_val_cust['loc_ic_mou_6']+1)\n",
      "C:\\Users\\asus\\AppData\\Local\\Temp/ipykernel_5480/3724375204.py:3: SettingWithCopyWarning: \n",
      "A value is trying to be set on a copy of a slice from a DataFrame.\n",
      "Try using .loc[row_indexer,col_indexer] = value instead\n",
      "\n",
      "See the caveats in the documentation: https://pandas.pydata.org/pandas-docs/stable/user_guide/indexing.html#returning-a-view-versus-a-copy\n",
      "  high_val_cust['loc_OG_to_IC_mou_7'] = (high_val_cust['loc_og_mou_7'])/(high_val_cust['loc_ic_mou_7']+1)\n",
      "C:\\Users\\asus\\AppData\\Local\\Temp/ipykernel_5480/3724375204.py:4: SettingWithCopyWarning: \n",
      "A value is trying to be set on a copy of a slice from a DataFrame.\n",
      "Try using .loc[row_indexer,col_indexer] = value instead\n",
      "\n",
      "See the caveats in the documentation: https://pandas.pydata.org/pandas-docs/stable/user_guide/indexing.html#returning-a-view-versus-a-copy\n",
      "  high_val_cust['loc_OG_to_IC_mou_8'] = (high_val_cust['loc_og_mou_8'])/(high_val_cust['loc_ic_mou_8']+1)\n"
     ]
    }
   ],
   "source": [
    "# Creating new feature 'loc_OG_to_IC_mou' for each month\n",
    "high_val_cust['loc_OG_to_IC_mou_6'] = (high_val_cust['loc_og_mou_6'])/(high_val_cust['loc_ic_mou_6']+1)\n",
    "high_val_cust['loc_OG_to_IC_mou_7'] = (high_val_cust['loc_og_mou_7'])/(high_val_cust['loc_ic_mou_7']+1)\n",
    "high_val_cust['loc_OG_to_IC_mou_8'] = (high_val_cust['loc_og_mou_8'])/(high_val_cust['loc_ic_mou_8']+1)"
   ]
  },
  {
   "cell_type": "code",
   "execution_count": 227,
   "id": "5bbffa8c",
   "metadata": {},
   "outputs": [
    {
     "name": "stderr",
     "output_type": "stream",
     "text": [
      "C:\\Users\\asus\\AppData\\Local\\Temp/ipykernel_5480/1812115727.py:9: UserWarning: FixedFormatter should only be used together with FixedLocator\n",
      "  ax.set_xticklabels(['Jun','Jul','Aug'])\n"
     ]
    },
    {
     "data": {
      "image/png": "[encoded data removed]",
      "text/plain": [
       "<Figure size 576x648 with 1 Axes>"
      ]
     },
     "metadata": {
      "needs_background": "light"
     },
     "output_type": "display_data"
    }
   ],
   "source": [
    "# Lets plot a graph of loc_OG_to_IC_mou w.r.t month\n",
    "\n",
    "loc_OG_to_IC_mou_vars = ['loc_OG_to_IC_mou_6', 'loc_OG_to_IC_mou_7', 'loc_OG_to_IC_mou_8']\n",
    "\n",
    "df3 = high_val_cust.groupby('churn')[loc_OG_to_IC_mou_vars].mean().T\n",
    "\n",
    "fig, ax = plt.subplots(figsize=(8,9))\n",
    "plt.plot(df3)\n",
    "ax.set_xticklabels(['Jun','Jul','Aug'])\n",
    "plt.legend(['Non-Churn', 'Churn'])\n",
    "plt.xlabel(\"Month\")\n",
    "plt.ylabel(\"Avg.loc_OG_to_IC_mou_vars\")\n",
    "plt.title(\"Avg.loc_OG_to_IC_mou_vars V/S Month\")\n",
    "\n",
    "plt.show()"
   ]
  },
  {
   "cell_type": "code",
   "execution_count": 228,
   "id": "246e5bd2",
   "metadata": {},
   "outputs": [
    {
     "name": "stderr",
     "output_type": "stream",
     "text": [
      "C:\\Users\\asus\\AppData\\Local\\Temp/ipykernel_5480/408803805.py:9: UserWarning: FixedFormatter should only be used together with FixedLocator\n",
      "  ax.set_xticklabels(['Jun','Jul','Aug'])\n"
     ]
    },
    {
     "data": {
      "image/png": "[encoded data removed]",
      "text/plain": [
       "<Figure size 576x648 with 1 Axes>"
      ]
     },
     "metadata": {
      "needs_background": "light"
     },
     "output_type": "display_data"
    }
   ],
   "source": [
    "# Now lets check the graph of total volume data w.r.t month for churners and nonchurners\n",
    "\n",
    "vol_data_MB_vars = ['Vol_data_MB_6', 'Vol_data_MB_7', 'Vol_data_MB_8']\n",
    "\n",
    "df3 = high_val_cust.groupby('churn')[vol_data_MB_vars].mean().T\n",
    "\n",
    "fig, ax = plt.subplots(figsize=(8,9))\n",
    "plt.plot(df3)\n",
    "ax.set_xticklabels(['Jun','Jul','Aug'])\n",
    "plt.legend(['Non-Churn', 'Churn'])\n",
    "plt.xlabel(\"Month\")\n",
    "plt.ylabel(\"Avg.vol_data_MB_vars\")\n",
    "plt.title(\"Avg.vol_data_MB_vars V/S Month\")\n",
    "\n",
    "plt.show()"
   ]
  },
  {
   "cell_type": "markdown",
   "id": "0a01caea",
   "metadata": {},
   "source": [
    "### The volume of the data usage drops significantly for churners after a good phase."
   ]
  },
  {
   "cell_type": "code",
   "execution_count": 229,
   "id": "aa1ca329",
   "metadata": {},
   "outputs": [
    {
     "name": "stderr",
     "output_type": "stream",
     "text": [
      "C:\\Users\\asus\\AppData\\Local\\Temp/ipykernel_5480/2436095020.py:9: UserWarning: FixedFormatter should only be used together with FixedLocator\n",
      "  ax.set_xticklabels(['Jun','Jul','Aug'])\n"
     ]
    },
    {
     "data": {
      "image/png": "[encoded data removed]",
      "text/plain": [
       "<Figure size 576x648 with 1 Axes>"
      ]
     },
     "metadata": {
      "needs_background": "light"
     },
     "output_type": "display_data"
    }
   ],
   "source": [
    "# Now lets check the graph of total monthly recharge w.r.t month for churners and nonchurners\n",
    "\n",
    "total_mon_rech_vars = ['total_monthly_rech_6', 'total_monthly_rech_7', 'total_monthly_rech_8']\n",
    "\n",
    "df3 = high_val_cust.groupby('churn')[total_mon_rech_vars].mean().T\n",
    "\n",
    "fig, ax = plt.subplots(figsize=(8,9))\n",
    "plt.plot(df3)\n",
    "ax.set_xticklabels(['Jun','Jul','Aug'])\n",
    "plt.legend(['Non-Churn', 'Churn'])\n",
    "plt.xlabel(\"Month\")\n",
    "plt.ylabel(\"Avg.total_mon_rech_vars\")\n",
    "plt.title(\"Avg.total_mon_rech_vars V/S Month\")\n",
    "\n",
    "plt.show()"
   ]
  },
  {
   "cell_type": "markdown",
   "id": "23a0c543",
   "metadata": {},
   "source": [
    "### The total monthly recharge amount paid by customer drops for churners after good phase. The customer likely to be churned lowers his expenditure on monthly recharge."
   ]
  },
  {
   "cell_type": "markdown",
   "id": "cf32d28b",
   "metadata": {},
   "source": [
    "### We have columns loc_ic_mou and loc_og_mou. Adding these two variables will give 'total_loc_mou' for both incoming and outgoing. Similarly for columns roam_ic_mou and roam_og_mou, we will create 'total_roam_mou'. The derived features 'total_loc_mou' and 'total_roam_mou' will predict the churn rate accurately."
   ]
  },
  {
   "cell_type": "code",
   "execution_count": 230,
   "id": "fee0a4d2",
   "metadata": {},
   "outputs": [
    {
     "name": "stderr",
     "output_type": "stream",
     "text": [
      "C:\\Users\\asus\\AppData\\Local\\Temp/ipykernel_5480/1308103155.py:3: SettingWithCopyWarning: \n",
      "A value is trying to be set on a copy of a slice from a DataFrame.\n",
      "Try using .loc[row_indexer,col_indexer] = value instead\n",
      "\n",
      "See the caveats in the documentation: https://pandas.pydata.org/pandas-docs/stable/user_guide/indexing.html#returning-a-view-versus-a-copy\n",
      "  high_val_cust['total_loc_mou_6'] = high_val_cust['loc_ic_mou_6'] + high_val_cust['loc_og_mou_6'].astype(int)\n",
      "C:\\Users\\asus\\AppData\\Local\\Temp/ipykernel_5480/1308103155.py:4: SettingWithCopyWarning: \n",
      "A value is trying to be set on a copy of a slice from a DataFrame.\n",
      "Try using .loc[row_indexer,col_indexer] = value instead\n",
      "\n",
      "See the caveats in the documentation: https://pandas.pydata.org/pandas-docs/stable/user_guide/indexing.html#returning-a-view-versus-a-copy\n",
      "  high_val_cust['total_loc_mou_7'] = high_val_cust['loc_ic_mou_7'] + high_val_cust['loc_og_mou_7'].astype(int)\n",
      "C:\\Users\\asus\\AppData\\Local\\Temp/ipykernel_5480/1308103155.py:5: SettingWithCopyWarning: \n",
      "A value is trying to be set on a copy of a slice from a DataFrame.\n",
      "Try using .loc[row_indexer,col_indexer] = value instead\n",
      "\n",
      "See the caveats in the documentation: https://pandas.pydata.org/pandas-docs/stable/user_guide/indexing.html#returning-a-view-versus-a-copy\n",
      "  high_val_cust['total_loc_mou_8'] = high_val_cust['loc_ic_mou_8'] + high_val_cust['loc_og_mou_8'].astype(int)\n",
      "C:\\Users\\asus\\AppData\\Local\\Temp/ipykernel_5480/1308103155.py:7: SettingWithCopyWarning: \n",
      "A value is trying to be set on a copy of a slice from a DataFrame.\n",
      "Try using .loc[row_indexer,col_indexer] = value instead\n",
      "\n",
      "See the caveats in the documentation: https://pandas.pydata.org/pandas-docs/stable/user_guide/indexing.html#returning-a-view-versus-a-copy\n",
      "  high_val_cust['total_roam_mou_6'] = high_val_cust['roam_ic_mou_6'] + high_val_cust['roam_og_mou_6'].astype(int)\n",
      "C:\\Users\\asus\\AppData\\Local\\Temp/ipykernel_5480/1308103155.py:8: SettingWithCopyWarning: \n",
      "A value is trying to be set on a copy of a slice from a DataFrame.\n",
      "Try using .loc[row_indexer,col_indexer] = value instead\n",
      "\n",
      "See the caveats in the documentation: https://pandas.pydata.org/pandas-docs/stable/user_guide/indexing.html#returning-a-view-versus-a-copy\n",
      "  high_val_cust['total_roam_mou_7'] = high_val_cust['roam_ic_mou_7'] + high_val_cust['roam_og_mou_7'].astype(int)\n",
      "C:\\Users\\asus\\AppData\\Local\\Temp/ipykernel_5480/1308103155.py:9: SettingWithCopyWarning: \n",
      "A value is trying to be set on a copy of a slice from a DataFrame.\n",
      "Try using .loc[row_indexer,col_indexer] = value instead\n",
      "\n",
      "See the caveats in the documentation: https://pandas.pydata.org/pandas-docs/stable/user_guide/indexing.html#returning-a-view-versus-a-copy\n",
      "  high_val_cust['total_roam_mou_8'] = high_val_cust['roam_ic_mou_8'] + high_val_cust['roam_og_mou_8'].astype(int)\n"
     ]
    }
   ],
   "source": [
    "# Lets create a new var 'total_loc_mou' and 'total_roam_mou'\n",
    "\n",
    "high_val_cust['total_loc_mou_6'] = high_val_cust['loc_ic_mou_6'] + high_val_cust['loc_og_mou_6'].astype(int)\n",
    "high_val_cust['total_loc_mou_7'] = high_val_cust['loc_ic_mou_7'] + high_val_cust['loc_og_mou_7'].astype(int)\n",
    "high_val_cust['total_loc_mou_8'] = high_val_cust['loc_ic_mou_8'] + high_val_cust['loc_og_mou_8'].astype(int)\n",
    "\n",
    "high_val_cust['total_roam_mou_6'] = high_val_cust['roam_ic_mou_6'] + high_val_cust['roam_og_mou_6'].astype(int)\n",
    "high_val_cust['total_roam_mou_7'] = high_val_cust['roam_ic_mou_7'] + high_val_cust['roam_og_mou_7'].astype(int)\n",
    "high_val_cust['total_roam_mou_8'] = high_val_cust['roam_ic_mou_8'] + high_val_cust['roam_og_mou_8'].astype(int)"
   ]
  },
  {
   "cell_type": "code",
   "execution_count": 231,
   "id": "d5d1e375",
   "metadata": {},
   "outputs": [
    {
     "name": "stderr",
     "output_type": "stream",
     "text": [
      "C:\\Users\\asus\\AppData\\Local\\Temp/ipykernel_5480/2264299683.py:9: UserWarning: FixedFormatter should only be used together with FixedLocator\n",
      "  ax.set_xticklabels(['Jun','Jul','Aug'])\n"
     ]
    },
    {
     "data": {
      "image/png": "[encoded data removed]",
      "text/plain": [
       "<Figure size 576x648 with 1 Axes>"
      ]
     },
     "metadata": {
      "needs_background": "light"
     },
     "output_type": "display_data"
    },
    {
     "name": "stderr",
     "output_type": "stream",
     "text": [
      "C:\\Users\\asus\\AppData\\Local\\Temp/ipykernel_5480/2264299683.py:26: UserWarning: FixedFormatter should only be used together with FixedLocator\n",
      "  ax.set_xticklabels(['Jun','Jul','Aug'])\n"
     ]
    },
    {
     "data": {
      "image/png": "[encoded data removed]",
      "text/plain": [
       "<Figure size 576x648 with 1 Axes>"
      ]
     },
     "metadata": {
      "needs_background": "light"
     },
     "output_type": "display_data"
    }
   ],
   "source": [
    "# lets check the variation of total_loc_mou w.r.t month for churners and nonchurners\n",
    "\n",
    "total_loc_mou_vars = ['total_loc_mou_6', 'total_loc_mou_7', 'total_loc_mou_8']\n",
    "\n",
    "df3 = high_val_cust.groupby('churn')[total_loc_mou_vars].mean().T\n",
    "\n",
    "fig, ax = plt.subplots(figsize=(8,9))\n",
    "plt.plot(df3)\n",
    "ax.set_xticklabels(['Jun','Jul','Aug'])\n",
    "plt.legend(['Non-Churn', 'Churn'])\n",
    "plt.xlabel(\"Month\")\n",
    "plt.ylabel(\"Avg.total_loc_mou_vars\")\n",
    "plt.title(\"Avg.total_loc_mou_vars V/S Month\")\n",
    "\n",
    "plt.show()\n",
    "\n",
    "\n",
    "# Similarly for variation of total_roam_mou w.r.t. month \n",
    "\n",
    "total_roam_mou_vars = ['total_roam_mou_6', 'total_roam_mou_7', 'total_roam_mou_8']\n",
    "\n",
    "df3 = high_val_cust.groupby('churn')[total_roam_mou_vars].mean().T\n",
    "\n",
    "fig, ax = plt.subplots(figsize=(8,9))\n",
    "plt.plot(df3)\n",
    "ax.set_xticklabels(['Jun','Jul','Aug'])\n",
    "plt.legend(['Non-Churn', 'Churn'])\n",
    "plt.xlabel(\"Month\")\n",
    "plt.ylabel(\"Avg.total_roam_mou_vars\")\n",
    "plt.title(\"Avg.total_roam_mou_vars V/S Month\")\n",
    "\n",
    "plt.show()"
   ]
  },
  {
   "cell_type": "markdown",
   "id": "2efa0b2d",
   "metadata": {},
   "source": [
    "### The customer who recievs or make a roaming call over the period of months is very likely to churn. The roaming minutes of usage of voice calls for churners is very high as compared to the non churners."
   ]
  },
  {
   "cell_type": "markdown",
   "id": "34da6733",
   "metadata": {},
   "source": [
    "## 4) MODEL BUILDING"
   ]
  },
  {
   "cell_type": "code",
   "execution_count": 232,
   "id": "2294d05e",
   "metadata": {},
   "outputs": [],
   "source": [
    "# Removing the columns that are not required for model building\n",
    "\n",
    "high_val_cust_PCA = high_val_cust.copy()\n",
    "\n",
    "high_val_cust_PCA.drop(['last_date_of_month_6', 'last_date_of_month_7', 'last_date_of_month_8', 'mobile_number',\n",
    "                       'date_of_last_rech_6', 'date_of_last_rech_7', 'date_of_last_rech_8'], axis=1, inplace=True)"
   ]
  },
  {
   "cell_type": "code",
   "execution_count": 233,
   "id": "f05f2767",
   "metadata": {},
   "outputs": [
    {
     "name": "stdout",
     "output_type": "stream",
     "text": [
      "<class 'pandas.core.frame.DataFrame'>\n",
      "Int64Index: 29895 entries, 7 to 99998\n",
      "Data columns (total 179 columns):\n",
      " #    Column                 Dtype  \n",
      "---   ------                 -----  \n",
      " 0    arpu_6                 float64\n",
      " 1    arpu_7                 float64\n",
      " 2    arpu_8                 float64\n",
      " 3    onnet_mou_6            float64\n",
      " 4    onnet_mou_7            float64\n",
      " 5    onnet_mou_8            float64\n",
      " 6    offnet_mou_6           float64\n",
      " 7    offnet_mou_7           float64\n",
      " 8    offnet_mou_8           float64\n",
      " 9    roam_ic_mou_6          float64\n",
      " 10   roam_ic_mou_7          float64\n",
      " 11   roam_ic_mou_8          float64\n",
      " 12   roam_og_mou_6          float64\n",
      " 13   roam_og_mou_7          float64\n",
      " 14   roam_og_mou_8          float64\n",
      " 15   loc_og_t2t_mou_6       float64\n",
      " 16   loc_og_t2t_mou_7       float64\n",
      " 17   loc_og_t2t_mou_8       float64\n",
      " 18   loc_og_t2m_mou_6       float64\n",
      " 19   loc_og_t2m_mou_7       float64\n",
      " 20   loc_og_t2m_mou_8       float64\n",
      " 21   loc_og_t2f_mou_6       float64\n",
      " 22   loc_og_t2f_mou_7       float64\n",
      " 23   loc_og_t2f_mou_8       float64\n",
      " 24   loc_og_t2c_mou_6       float64\n",
      " 25   loc_og_t2c_mou_7       float64\n",
      " 26   loc_og_t2c_mou_8       float64\n",
      " 27   loc_og_mou_6           float64\n",
      " 28   loc_og_mou_7           float64\n",
      " 29   loc_og_mou_8           float64\n",
      " 30   std_og_t2t_mou_6       float64\n",
      " 31   std_og_t2t_mou_7       float64\n",
      " 32   std_og_t2t_mou_8       float64\n",
      " 33   std_og_t2m_mou_6       float64\n",
      " 34   std_og_t2m_mou_7       float64\n",
      " 35   std_og_t2m_mou_8       float64\n",
      " 36   std_og_t2f_mou_6       float64\n",
      " 37   std_og_t2f_mou_7       float64\n",
      " 38   std_og_t2f_mou_8       float64\n",
      " 39   std_og_mou_6           float64\n",
      " 40   std_og_mou_7           float64\n",
      " 41   std_og_mou_8           float64\n",
      " 42   isd_og_mou_6           float64\n",
      " 43   isd_og_mou_7           float64\n",
      " 44   isd_og_mou_8           float64\n",
      " 45   spl_og_mou_6           float64\n",
      " 46   spl_og_mou_7           float64\n",
      " 47   spl_og_mou_8           float64\n",
      " 48   og_others_6            float64\n",
      " 49   og_others_7            float64\n",
      " 50   og_others_8            float64\n",
      " 51   total_og_mou_6         float64\n",
      " 52   total_og_mou_7         float64\n",
      " 53   total_og_mou_8         float64\n",
      " 54   loc_ic_t2t_mou_6       float64\n",
      " 55   loc_ic_t2t_mou_7       float64\n",
      " 56   loc_ic_t2t_mou_8       float64\n",
      " 57   loc_ic_t2m_mou_6       float64\n",
      " 58   loc_ic_t2m_mou_7       float64\n",
      " 59   loc_ic_t2m_mou_8       float64\n",
      " 60   loc_ic_t2f_mou_6       float64\n",
      " 61   loc_ic_t2f_mou_7       float64\n",
      " 62   loc_ic_t2f_mou_8       float64\n",
      " 63   loc_ic_mou_6           float64\n",
      " 64   loc_ic_mou_7           float64\n",
      " 65   loc_ic_mou_8           float64\n",
      " 66   std_ic_t2t_mou_6       float64\n",
      " 67   std_ic_t2t_mou_7       float64\n",
      " 68   std_ic_t2t_mou_8       float64\n",
      " 69   std_ic_t2m_mou_6       float64\n",
      " 70   std_ic_t2m_mou_7       float64\n",
      " 71   std_ic_t2m_mou_8       float64\n",
      " 72   std_ic_t2f_mou_6       float64\n",
      " 73   std_ic_t2f_mou_7       float64\n",
      " 74   std_ic_t2f_mou_8       float64\n",
      " 75   std_ic_mou_6           float64\n",
      " 76   std_ic_mou_7           float64\n",
      " 77   std_ic_mou_8           float64\n",
      " 78   total_ic_mou_6         float64\n",
      " 79   total_ic_mou_7         float64\n",
      " 80   total_ic_mou_8         float64\n",
      " 81   spl_ic_mou_6           float64\n",
      " 82   spl_ic_mou_7           float64\n",
      " 83   spl_ic_mou_8           float64\n",
      " 84   isd_ic_mou_6           float64\n",
      " 85   isd_ic_mou_7           float64\n",
      " 86   isd_ic_mou_8           float64\n",
      " 87   ic_others_6            float64\n",
      " 88   ic_others_7            float64\n",
      " 89   ic_others_8            float64\n",
      " 90   total_rech_num_6       int64  \n",
      " 91   total_rech_num_7       int64  \n",
      " 92   total_rech_num_8       int64  \n",
      " 93   total_rech_amt_6       int64  \n",
      " 94   total_rech_amt_7       int64  \n",
      " 95   total_rech_amt_8       int64  \n",
      " 96   max_rech_amt_6         int64  \n",
      " 97   max_rech_amt_7         int64  \n",
      " 98   max_rech_amt_8         int64  \n",
      " 99   last_day_rch_amt_6     int64  \n",
      " 100  last_day_rch_amt_7     int64  \n",
      " 101  last_day_rch_amt_8     int64  \n",
      " 102  total_rech_data_6      float64\n",
      " 103  total_rech_data_7      float64\n",
      " 104  total_rech_data_8      float64\n",
      " 105  max_rech_data_6        float64\n",
      " 106  max_rech_data_7        float64\n",
      " 107  max_rech_data_8        float64\n",
      " 108  count_rech_2g_6        float64\n",
      " 109  count_rech_2g_7        float64\n",
      " 110  count_rech_2g_8        float64\n",
      " 111  count_rech_3g_6        float64\n",
      " 112  count_rech_3g_7        float64\n",
      " 113  count_rech_3g_8        float64\n",
      " 114  av_rech_amt_data_6     float64\n",
      " 115  av_rech_amt_data_7     float64\n",
      " 116  av_rech_amt_data_8     float64\n",
      " 117  vol_2g_mb_6            float64\n",
      " 118  vol_2g_mb_7            float64\n",
      " 119  vol_2g_mb_8            float64\n",
      " 120  vol_3g_mb_6            float64\n",
      " 121  vol_3g_mb_7            float64\n",
      " 122  vol_3g_mb_8            float64\n",
      " 123  arpu_3g_6              float64\n",
      " 124  arpu_3g_7              float64\n",
      " 125  arpu_3g_8              float64\n",
      " 126  arpu_2g_6              float64\n",
      " 127  arpu_2g_7              float64\n",
      " 128  arpu_2g_8              float64\n",
      " 129  night_pck_user_6       float64\n",
      " 130  night_pck_user_7       float64\n",
      " 131  night_pck_user_8       float64\n",
      " 132  monthly_2g_6           int64  \n",
      " 133  monthly_2g_7           int64  \n",
      " 134  monthly_2g_8           int64  \n",
      " 135  sachet_2g_6            int64  \n",
      " 136  sachet_2g_7            int64  \n",
      " 137  sachet_2g_8            int64  \n",
      " 138  monthly_3g_6           int64  \n",
      " 139  monthly_3g_7           int64  \n",
      " 140  monthly_3g_8           int64  \n",
      " 141  sachet_3g_6            int64  \n",
      " 142  sachet_3g_7            int64  \n",
      " 143  sachet_3g_8            int64  \n",
      " 144  fb_user_6              float64\n",
      " 145  fb_user_7              float64\n",
      " 146  fb_user_8              float64\n",
      " 147  aon                    int64  \n",
      " 148  vbc_3g_8               float64\n",
      " 149  vbc_3g_7               float64\n",
      " 150  vbc_3g_6               float64\n",
      " 151  Vol_data_MB_6          float64\n",
      " 152  Vol_data_MB_7          float64\n",
      " 153  Vol_data_MB_8          float64\n",
      " 154  total_avg_rech_amt_6   float64\n",
      " 155  total_avg_rech_amt_7   float64\n",
      " 156  total_avg_rech_amt_8   float64\n",
      " 157  total_rech_count_6     float64\n",
      " 158  total_rech_count_7     float64\n",
      " 159  total_rech_count_8     float64\n",
      " 160  total_rech_amt_data_6  float64\n",
      " 161  total_rech_amt_data_7  float64\n",
      " 162  total_rech_amt_data_8  float64\n",
      " 163  total_monthly_rech_6   float64\n",
      " 164  total_monthly_rech_7   float64\n",
      " 165  total_monthly_rech_8   float64\n",
      " 166  churn                  int64  \n",
      " 167  OG_MOU_to_IC_MOU_6     float64\n",
      " 168  OG_MOU_to_IC_MOU_7     float64\n",
      " 169  OG_MOU_to_IC_MOU_8     float64\n",
      " 170  loc_OG_to_IC_mou_6     float64\n",
      " 171  loc_OG_to_IC_mou_7     float64\n",
      " 172  loc_OG_to_IC_mou_8     float64\n",
      " 173  total_loc_mou_6        float64\n",
      " 174  total_loc_mou_7        float64\n",
      " 175  total_loc_mou_8        float64\n",
      " 176  total_roam_mou_6       float64\n",
      " 177  total_roam_mou_7       float64\n",
      " 178  total_roam_mou_8       float64\n",
      "dtypes: float64(153), int64(26)\n",
      "memory usage: 41.1 MB\n"
     ]
    }
   ],
   "source": [
    "high_val_cust_PCA.info(all)"
   ]
  },
  {
   "cell_type": "markdown",
   "id": "36300c7c",
   "metadata": {},
   "source": [
    "### We have 179 features for model building."
   ]
  },
  {
   "cell_type": "code",
   "execution_count": 234,
   "id": "44ce9622",
   "metadata": {},
   "outputs": [
    {
     "name": "stdout",
     "output_type": "stream",
     "text": [
      "Requirement already satisfied: imblearn in c:\\users\\asus\\appdata\\roaming\\python\\python39\\site-packages (0.0)\n",
      "Requirement already satisfied: imbalanced-learn in c:\\users\\asus\\appdata\\roaming\\python\\python39\\site-packages (from imblearn) (0.10.1)\n",
      "Requirement already satisfied: joblib>=1.1.1 in c:\\users\\asus\\anaconda3\\lib\\site-packages (from imbalanced-learn->imblearn) (1.2.0)\n",
      "Requirement already satisfied: numpy>=1.17.3 in c:\\users\\asus\\anaconda3\\lib\\site-packages (from imbalanced-learn->imblearn) (1.21.4)\n",
      "Requirement already satisfied: threadpoolctl>=2.0.0 in c:\\users\\asus\\anaconda3\\lib\\site-packages (from imbalanced-learn->imblearn) (3.1.0)\n",
      "Requirement already satisfied: scipy>=1.3.2 in c:\\users\\asus\\anaconda3\\lib\\site-packages (from imbalanced-learn->imblearn) (1.7.1)\n",
      "Requirement already satisfied: scikit-learn>=1.0.2 in c:\\users\\asus\\anaconda3\\lib\\site-packages (from imbalanced-learn->imblearn) (1.2.2)\n"
     ]
    }
   ],
   "source": [
    "!pip install imblearn --user"
   ]
  },
  {
   "cell_type": "code",
   "execution_count": 235,
   "id": "2c36e768",
   "metadata": {},
   "outputs": [],
   "source": [
    "# Importing required libraries \n",
    "from sklearn import metrics\n",
    "from sklearn.metrics import classification_report,confusion_matrix\n",
    "from sklearn.model_selection import KFold\n",
    "from sklearn.model_selection import cross_val_score\n",
    "from sklearn.model_selection import GridSearchCV\n",
    "from sklearn.model_selection import train_test_split\n",
    "from sklearn.preprocessing import MinMaxScaler\n",
    "\n",
    "from sklearn.tree import DecisionTreeClassifier\n",
    "from sklearn.ensemble import RandomForestClassifier\n",
    "from sklearn.svm import SVC\n",
    "from imblearn.over_sampling import SMOTE\n",
    "from sklearn.decomposition import PCA\n",
    "from sklearn.decomposition import IncrementalPCA\n",
    "\n",
    "from sklearn.linear_model import LogisticRegression"
   ]
  },
  {
   "cell_type": "code",
   "execution_count": 236,
   "id": "22e63011",
   "metadata": {},
   "outputs": [],
   "source": [
    "# X variables\n",
    "X = high_val_cust_PCA.drop(['churn'], axis=1)"
   ]
  },
  {
   "cell_type": "code",
   "execution_count": 237,
   "id": "dce90af7",
   "metadata": {},
   "outputs": [],
   "source": [
    "# Y variables\n",
    "y = high_val_cust_PCA['churn']  "
   ]
  },
  {
   "cell_type": "code",
   "execution_count": 238,
   "id": "4b24e8d8",
   "metadata": {},
   "outputs": [],
   "source": [
    "# Spiltting data into train and test \n",
    "X_train, X_test, y_train, y_test = train_test_split(X, y, train_size=0.7,test_size=0.3,random_state=100)"
   ]
  },
  {
   "cell_type": "code",
   "execution_count": 239,
   "id": "bd213393",
   "metadata": {},
   "outputs": [],
   "source": [
    "# Making a copy of train dataset\n",
    "X_train1 = X_train.copy()\n",
    "X_test1 = X_test.copy()"
   ]
  },
  {
   "cell_type": "code",
   "execution_count": 240,
   "id": "8b6666a6",
   "metadata": {},
   "outputs": [],
   "source": [
    "# Scaling features using MinMaxScaler\n",
    "scaler = MinMaxScaler()"
   ]
  },
  {
   "cell_type": "code",
   "execution_count": 241,
   "id": "1aa2c522",
   "metadata": {},
   "outputs": [],
   "source": [
    "# Fit and transform the scaler on train data\n",
    "X_train1 = scaler.fit_transform(X_train.values)\n",
    "\n",
    "# transforming the test using the already fit scaler\n",
    "X_test1 = scaler.transform(X_test.values)"
   ]
  },
  {
   "cell_type": "code",
   "execution_count": 242,
   "id": "6236c664",
   "metadata": {},
   "outputs": [],
   "source": [
    "# Making data frame of independent training and testing variables \n",
    "X_train_df = pd.DataFrame(X_train1, index=X_train.index, columns=X_train.columns)\n",
    "X_test_df = pd.DataFrame(X_test1, index=X_test.index, columns=X_test.columns)"
   ]
  },
  {
   "cell_type": "code",
   "execution_count": 243,
   "id": "1a329e5a",
   "metadata": {},
   "outputs": [
    {
     "name": "stdout",
     "output_type": "stream",
     "text": [
      "Before over_sampling the count of label 1: 1796\n",
      "Before over_sampling the count of label 0: 19130\n",
      "Before over_sampling the rate of churning in %: 8.582624486285004\n"
     ]
    }
   ],
   "source": [
    "# Lets check the imbalance present in target variable\n",
    "print('Before over_sampling the count of label 1:', sum(y_train==1))\n",
    "print('Before over_sampling the count of label 0:', sum(y_train==0))\n",
    "print('Before over_sampling the rate of churning in %:', sum(y_train==1)/len(y_train)*100)"
   ]
  },
  {
   "cell_type": "code",
   "execution_count": 244,
   "id": "af28f33a",
   "metadata": {},
   "outputs": [
    {
     "name": "stdout",
     "output_type": "stream",
     "text": [
      "Requirement already satisfied: threadpoolctl==3.1.0 in c:\\users\\asus\\anaconda3\\lib\\site-packages (3.1.0)\n"
     ]
    }
   ],
   "source": [
    "!pip install threadpoolctl==3.1.0"
   ]
  },
  {
   "cell_type": "code",
   "execution_count": 245,
   "id": "87168ffd",
   "metadata": {},
   "outputs": [
    {
     "name": "stdout",
     "output_type": "stream",
     "text": [
      "Requirement already satisfied: numpy==1.21.4 in c:\\users\\asus\\anaconda3\\lib\\site-packages (1.21.4)\n"
     ]
    }
   ],
   "source": [
    "!pip install numpy==1.21.4 --user"
   ]
  },
  {
   "cell_type": "code",
   "execution_count": 246,
   "id": "04b20653",
   "metadata": {},
   "outputs": [],
   "source": [
    "# Handling class imbalance using SMOTE \n",
    "sm = SMOTE(random_state=45)\n",
    "\n",
    "X_train_resampled, y_train_resampled = sm.fit_resample(X_train_df, y_train)"
   ]
  },
  {
   "cell_type": "code",
   "execution_count": 247,
   "id": "b1095256",
   "metadata": {},
   "outputs": [
    {
     "name": "stdout",
     "output_type": "stream",
     "text": [
      "After over_sampling the count of label 1: 19130\n",
      "After over_sampling the count of label 0: 19130\n",
      "After over_sampling the rate of churning in %: 50.0\n",
      "\n",
      "After over_sampling, the shape of X_train_resampled: (38260, 178)\n",
      "After over_sampling, the shape of y_train_resampled: (38260,)\n"
     ]
    }
   ],
   "source": [
    "# Lets check the data after resampling\n",
    "print('After over_sampling the count of label 1:', sum(y_train_resampled==1))\n",
    "print('After over_sampling the count of label 0:', sum(y_train_resampled==0))\n",
    "print('After over_sampling the rate of churning in %:', sum(y_train_resampled==1)/len(y_train_resampled)*100)\n",
    "\n",
    "print()\n",
    "\n",
    "# Checking the shape of training data set\n",
    "print('After over_sampling, the shape of X_train_resampled:', (X_train_resampled.shape))\n",
    "print('After over_sampling, the shape of y_train_resampled:', (y_train_resampled.shape))"
   ]
  },
  {
   "cell_type": "markdown",
   "id": "d7c4483b",
   "metadata": {},
   "source": [
    "### After over sampling we get the equally balanced values in target variable."
   ]
  },
  {
   "cell_type": "code",
   "execution_count": 248,
   "id": "8d855779",
   "metadata": {},
   "outputs": [
    {
     "data": {
      "text/plain": [
       "array([5.23432803e-01, 1.04281022e-01, 7.47287334e-02, 5.15877908e-02,\n",
       "       3.06810256e-02, 2.34444063e-02, 2.01447150e-02, 1.61682303e-02,\n",
       "       1.57218573e-02, 1.34827138e-02, 1.04818154e-02, 1.00501706e-02,\n",
       "       8.42156997e-03, 6.37548360e-03, 6.14132592e-03, 5.70434932e-03,\n",
       "       4.00097192e-03, 3.91335109e-03, 3.56503488e-03, 3.49645886e-03,\n",
       "       3.40880119e-03, 3.23220765e-03, 3.11481534e-03, 2.89954250e-03,\n",
       "       2.85946463e-03, 2.57213449e-03, 2.46858017e-03, 2.34824747e-03,\n",
       "       2.16214777e-03, 2.06803156e-03, 1.95612767e-03, 1.74745517e-03,\n",
       "       1.58014888e-03, 1.52733963e-03, 1.46341869e-03, 1.38308028e-03,\n",
       "       1.30548525e-03, 1.25526527e-03, 1.20802927e-03, 1.01778255e-03,\n",
       "       9.79870151e-04, 9.12848354e-04, 8.92777284e-04, 8.33230874e-04,\n",
       "       8.12356900e-04, 7.62591238e-04, 7.47117887e-04, 6.42982187e-04,\n",
       "       6.19247998e-04, 5.99447092e-04, 5.72836009e-04, 5.62110579e-04,\n",
       "       5.52246440e-04, 5.44156113e-04, 5.05565857e-04, 4.93833115e-04,\n",
       "       4.53219383e-04, 4.41704494e-04, 4.20479246e-04, 4.07868454e-04])"
      ]
     },
     "execution_count": 248,
     "metadata": {},
     "output_type": "execute_result"
    }
   ],
   "source": [
    "# Doing PCA to get the most informative features of the data\n",
    "pca = PCA(random_state=42)\n",
    "\n",
    "# Fitting the algorithm onto the data\n",
    "pca.fit(X_train_resampled)\n",
    "\n",
    "# Checking the variance explained by each PC\n",
    "pca.explained_variance_ratio_[:60]"
   ]
  },
  {
   "cell_type": "code",
   "execution_count": 249,
   "id": "4ceb0444",
   "metadata": {},
   "outputs": [
    {
     "data": {
      "image/png": "[encoded data removed]",
      "text/plain": [
       "<Figure size 576x504 with 1 Axes>"
      ]
     },
     "metadata": {
      "needs_background": "light"
     },
     "output_type": "display_data"
    }
   ],
   "source": [
    "# Ploting the Scree Plot to check how much varience need to explain\n",
    "cumsum_evr = np.cumsum(pca.explained_variance_ratio_)\n",
    "\n",
    "plt.figure(figsize=(8,7))\n",
    "plt.plot(range(1,len(cumsum_evr)+1), cumsum_evr)\n",
    "plt.axvline(x=50, color= 'r')\n",
    "plt.axhline(y=0.985, color= 'r')\n",
    "plt.xlabel('number of components')\n",
    "plt.ylabel('cumulative explained variance')\n",
    "\n",
    "plt.show()"
   ]
  },
  {
   "cell_type": "markdown",
   "id": "7ed6c272",
   "metadata": {},
   "source": [
    "### From above scree plot we can see that, 98% information is explained by fist 50 principal components. Therefore selecting 50 components for modelling."
   ]
  },
  {
   "cell_type": "code",
   "execution_count": 250,
   "id": "2efa5ca5",
   "metadata": {},
   "outputs": [],
   "source": [
    "#Using incremental PCA for efficiency\n",
    "pca_final = IncrementalPCA(n_components=50)"
   ]
  },
  {
   "cell_type": "code",
   "execution_count": 251,
   "id": "062dc9cf",
   "metadata": {},
   "outputs": [
    {
     "name": "stdout",
     "output_type": "stream",
     "text": [
      "(38260, 50)\n",
      "(8969, 50)\n"
     ]
    }
   ],
   "source": [
    "# Fitting the new PCs onto the resampled training data\n",
    "X_train_res_pca = pca_final.fit_transform(X_train_resampled)\n",
    "print(X_train_res_pca.shape)\n",
    "\n",
    "#Applying selected 50 components to the test data\n",
    "X_test_df_pca = pca_final.transform(X_test_df)\n",
    "print(X_test_df_pca.shape)"
   ]
  },
  {
   "cell_type": "markdown",
   "id": "4af3ebf4",
   "metadata": {},
   "source": [
    "### 1) LOGISTIC REGRESSION"
   ]
  },
  {
   "cell_type": "code",
   "execution_count": 252,
   "id": "acde42ac",
   "metadata": {},
   "outputs": [],
   "source": [
    "#Training the model on the train data\n",
    "lr0 = LogisticRegression()"
   ]
  },
  {
   "cell_type": "code",
   "execution_count": 253,
   "id": "fab52b2d",
   "metadata": {},
   "outputs": [
    {
     "data": {
      "text/html": [
       "<style>#sk-container-id-3 {color: black;background-color: white;}#sk-container-id-3 pre{padding: 0;}#sk-container-id-3 div.sk-toggleable {background-color: white;}#sk-container-id-3 label.sk-toggleable__label {cursor: pointer;display: block;width: 100%;margin-bottom: 0;padding: 0.3em;box-sizing: border-box;text-align: center;}#sk-container-id-3 label.sk-toggleable__label-arrow:before {content: \"▸\";float: left;margin-right: 0.25em;color: #696969;}#sk-container-id-3 label.sk-toggleable__label-arrow:hover:before {color: black;}#sk-container-id-3 div.sk-estimator:hover label.sk-toggleable__label-arrow:before {color: black;}#sk-container-id-3 div.sk-toggleable__content {max-height: 0;max-width: 0;overflow: hidden;text-align: left;background-color: #f0f8ff;}#sk-container-id-3 div.sk-toggleable__content pre {margin: 0.2em;color: black;border-radius: 0.25em;background-color: #f0f8ff;}#sk-container-id-3 input.sk-toggleable__control:checked~div.sk-toggleable__content {max-height: 200px;max-width: 100%;overflow: auto;}#sk-container-id-3 input.sk-toggleable__control:checked~label.sk-toggleable__label-arrow:before {content: \"▾\";}#sk-container-id-3 div.sk-estimator input.sk-toggleable__control:checked~label.sk-toggleable__label {background-color: #d4ebff;}#sk-container-id-3 div.sk-label input.sk-toggleable__control:checked~label.sk-toggleable__label {background-color: #d4ebff;}#sk-container-id-3 input.sk-hidden--visually {border: 0;clip: rect(1px 1px 1px 1px);clip: rect(1px, 1px, 1px, 1px);height: 1px;margin: -1px;overflow: hidden;padding: 0;position: absolute;width: 1px;}#sk-container-id-3 div.sk-estimator {font-family: monospace;background-color: #f0f8ff;border: 1px dotted black;border-radius: 0.25em;box-sizing: border-box;margin-bottom: 0.5em;}#sk-container-id-3 div.sk-estimator:hover {background-color: #d4ebff;}#sk-container-id-3 div.sk-parallel-item::after {content: \"\";width: 100%;border-bottom: 1px solid gray;flex-grow: 1;}#sk-container-id-3 div.sk-label:hover label.sk-toggleable__label {background-color: #d4ebff;}#sk-container-id-3 div.sk-serial::before {content: \"\";position: absolute;border-left: 1px solid gray;box-sizing: border-box;top: 0;bottom: 0;left: 50%;z-index: 0;}#sk-container-id-3 div.sk-serial {display: flex;flex-direction: column;align-items: center;background-color: white;padding-right: 0.2em;padding-left: 0.2em;position: relative;}#sk-container-id-3 div.sk-item {position: relative;z-index: 1;}#sk-container-id-3 div.sk-parallel {display: flex;align-items: stretch;justify-content: center;background-color: white;position: relative;}#sk-container-id-3 div.sk-item::before, #sk-container-id-3 div.sk-parallel-item::before {content: \"\";position: absolute;border-left: 1px solid gray;box-sizing: border-box;top: 0;bottom: 0;left: 50%;z-index: -1;}#sk-container-id-3 div.sk-parallel-item {display: flex;flex-direction: column;z-index: 1;position: relative;background-color: white;}#sk-container-id-3 div.sk-parallel-item:first-child::after {align-self: flex-end;width: 50%;}#sk-container-id-3 div.sk-parallel-item:last-child::after {align-self: flex-start;width: 50%;}#sk-container-id-3 div.sk-parallel-item:only-child::after {width: 0;}#sk-container-id-3 div.sk-dashed-wrapped {border: 1px dashed gray;margin: 0 0.4em 0.5em 0.4em;box-sizing: border-box;padding-bottom: 0.4em;background-color: white;}#sk-container-id-3 div.sk-label label {font-family: monospace;font-weight: bold;display: inline-block;line-height: 1.2em;}#sk-container-id-3 div.sk-label-container {text-align: center;}#sk-container-id-3 div.sk-container {/* jupyter's `normalize.less` sets `[hidden] { display: none; }` but bootstrap.min.css set `[hidden] { display: none !important; }` so we also need the `!important` here to be able to override the default hidden behavior on the sphinx rendered scikit-learn.org. See: https://github.com/scikit-learn/scikit-learn/issues/21755 */display: inline-block !important;position: relative;}#sk-container-id-3 div.sk-text-repr-fallback {display: none;}</style><div id=\"sk-container-id-3\" class=\"sk-top-container\"><div class=\"sk-text-repr-fallback\"><pre>LogisticRegression()</pre><b>In a Jupyter environment, please rerun this cell to show the HTML representation or trust the notebook. <br />On GitHub, the HTML representation is unable to render, please try loading this page with nbviewer.org.</b></div><div class=\"sk-container\" hidden><div class=\"sk-item\"><div class=\"sk-estimator sk-toggleable\"><input class=\"sk-toggleable__control sk-hidden--visually\" id=\"sk-estimator-id-3\" type=\"checkbox\" checked><label for=\"sk-estimator-id-3\" class=\"sk-toggleable__label sk-toggleable__label-arrow\">LogisticRegression</label><div class=\"sk-toggleable__content\"><pre>LogisticRegression()</pre></div></div></div></div></div>"
      ],
      "text/plain": [
       "LogisticRegression()"
      ]
     },
     "execution_count": 253,
     "metadata": {},
     "output_type": "execute_result"
    }
   ],
   "source": [
    "lr0.fit(X_train_res_pca, y_train_resampled)"
   ]
  },
  {
   "cell_type": "code",
   "execution_count": 254,
   "id": "13a49670",
   "metadata": {},
   "outputs": [
    {
     "data": {
      "text/plain": [
       "array([0, 0, 0, ..., 1, 1, 1], dtype=int64)"
      ]
     },
     "execution_count": 254,
     "metadata": {},
     "output_type": "execute_result"
    }
   ],
   "source": [
    "# Predicting the target var of training data\n",
    "y_train_pred = lr0.predict(X_train_res_pca)\n",
    "y_train_pred"
   ]
  },
  {
   "cell_type": "code",
   "execution_count": 255,
   "id": "0493f9ba",
   "metadata": {},
   "outputs": [
    {
     "data": {
      "text/plain": [
       "array([0.00492971, 0.13980064, 0.00772093, ..., 0.82252306, 0.90803548,\n",
       "       0.8259348 ])"
      ]
     },
     "execution_count": 255,
     "metadata": {},
     "output_type": "execute_result"
    }
   ],
   "source": [
    "# Predicting the probability of target var of training data\n",
    "y_train_prob_pred = lr0.predict_proba(X_train_res_pca)\n",
    "y_train_prob_pred[:,1]"
   ]
  },
  {
   "cell_type": "code",
   "execution_count": 256,
   "id": "22f46c2e",
   "metadata": {},
   "outputs": [
    {
     "name": "stdout",
     "output_type": "stream",
     "text": [
      "Accuracy: 0.8323314166231051\n",
      "Recall-Sensitivity: 0.8444851019341348\n",
      "AUC Score: 0.9035197669452331\n"
     ]
    }
   ],
   "source": [
    "# Obtain Accuracy, Recall-Sensitivity and AUC curve\n",
    "print('Accuracy:', metrics.accuracy_score(y_train_resampled, y_train_pred))\n",
    "print('Recall-Sensitivity:', metrics.recall_score(y_train_resampled, y_train_pred))\n",
    "print('AUC Score:', metrics.roc_auc_score(y_train_resampled, y_train_prob_pred[:,1]))"
   ]
  },
  {
   "cell_type": "code",
   "execution_count": 257,
   "id": "b105c515",
   "metadata": {},
   "outputs": [
    {
     "data": {
      "text/plain": [
       "array([0, 0, 0, ..., 0, 1, 0], dtype=int64)"
      ]
     },
     "execution_count": 257,
     "metadata": {},
     "output_type": "execute_result"
    }
   ],
   "source": [
    "# Making predictions on test data\n",
    "y_test_pred = lr0.predict(X_test_df_pca)\n",
    "y_test_pred"
   ]
  },
  {
   "cell_type": "code",
   "execution_count": 258,
   "id": "58e61550",
   "metadata": {},
   "outputs": [
    {
     "name": "stdout",
     "output_type": "stream",
     "text": [
      "Accuracy : 0.8200468279629836\n",
      "Sensitivity/Recall : 0.8204081632653061\n",
      "Specificity: 0.8200145737187272\n",
      "False Positive Rate: 0.17998542628127276\n",
      "Positive predictive value: 0.2892086330935252\n",
      "Negative Predictive value: 0.9808251016850669\n",
      "sklearn precision score value: 0.2892086330935252\n"
     ]
    }
   ],
   "source": [
    "# Validating the predictions with confusion matrics\n",
    "confusion = metrics.confusion_matrix(y_test, y_test_pred)\n",
    "TP = confusion[1,1] # true positive \n",
    "TN = confusion[0,0] # true negatives\n",
    "FP = confusion[0,1] # false positives\n",
    "FN = confusion[1,0] # false negatives\n",
    "\n",
    "print('Accuracy :', (metrics.accuracy_score(y_test,y_test_pred)))\n",
    "print('Sensitivity/Recall :', (TP / float(TP+FN)))\n",
    "print('Specificity:', (TN / float(TN+FP)))\n",
    "print('False Positive Rate:', (FP/ float(TN+FP)))\n",
    "print('Positive predictive value:', (TP / float(TP+FP)))\n",
    "print('Negative Predictive value:', (TN / float(TN+ FN)))\n",
    "print('sklearn precision score value:', (metrics.precision_score(y_test, y_test_pred )))    "
   ]
  },
  {
   "cell_type": "code",
   "execution_count": 259,
   "id": "8663cc6d",
   "metadata": {},
   "outputs": [
    {
     "name": "stdout",
     "output_type": "stream",
     "text": [
      "Accuracy : 0.817694720334553\n",
      "Sensitivity/Recall : 0.8934134866701516\n",
      "Specificity: 0.7419759539989546\n",
      "False Positive Rate: 0.2580240460010455\n",
      "Positive predictive value: 0.7759113814863576\n",
      "Negative Predictive value: 0.8743916712868848\n",
      "sklearn precision score value: 0.7759113814863576\n"
     ]
    }
   ],
   "source": [
    "# Lets take a random cutoff point 0.4\n",
    "y_train_prob_pred1 = lr0.predict_proba(X_train_res_pca)[:,1]\n",
    "\n",
    "y_df = pd.DataFrame({'churn': y_train_resampled, 'churn_prob': y_train_prob_pred1})\n",
    "\n",
    "y_df['churn_pred'] = y_df.churn_prob.map(lambda x: 1 if x> 0.4 else 0)\n",
    "\n",
    "confusion = metrics.confusion_matrix(y_df.churn, y_df.churn_pred)\n",
    "TP = confusion[1,1] # true positive \n",
    "TN = confusion[0,0] # true negatives\n",
    "FP = confusion[0,1] # false positives\n",
    "FN = confusion[1,0] # false negatives\n",
    "\n",
    "print('Accuracy :', (metrics.accuracy_score(y_df.churn,y_df.churn_pred)))\n",
    "print('Sensitivity/Recall :', (TP / float(TP+FN)))\n",
    "print('Specificity:', (TN / float(TN+FP)))\n",
    "print('False Positive Rate:', (FP/ float(TN+FP)))\n",
    "print('Positive predictive value:', (TP / float(TP+FP)))\n",
    "print('Negative Predictive value:', (TN / float(TN+ FN)))\n",
    "print('sklearn precision score value:', (metrics.precision_score(y_df.churn, y_df.churn_pred )))    "
   ]
  },
  {
   "cell_type": "code",
   "execution_count": 260,
   "id": "9d888119",
   "metadata": {},
   "outputs": [],
   "source": [
    "# Plotting the ROC Curve\n",
    "def draw_roc( actual_churn, prob_churn ):\n",
    "    fpr, tpr, thresholds = metrics.roc_curve( actual_churn, prob_churn)\n",
    "    auc_score = metrics.roc_auc_score( actual_churn, prob_churn)\n",
    "    plt.figure(figsize=(6, 6))\n",
    "    plt.plot( fpr, tpr, label='ROC curve (area = %0.2f)' % auc_score )\n",
    "    plt.plot([0, 1], [0, 1], 'k--')\n",
    "    plt.xlim([0.0, 1.0])\n",
    "    plt.ylim([0.0, 1.05])\n",
    "    plt.xlabel('False Positive Rate or [1 - True Negative Rate]')\n",
    "    plt.ylabel('True Positive Rate')\n",
    "    plt.title('Receiver operating characteristic example')\n",
    "    plt.legend(loc=\"lower right\")\n",
    "    plt.show()\n",
    "    return fpr, tpr, thresholds"
   ]
  },
  {
   "cell_type": "code",
   "execution_count": 261,
   "id": "632d6e33",
   "metadata": {
    "scrolled": true
   },
   "outputs": [
    {
     "data": {
      "image/png": "[encoded data removed]",
      "text/plain": [
       "<Figure size 432x432 with 1 Axes>"
      ]
     },
     "metadata": {
      "needs_background": "light"
     },
     "output_type": "display_data"
    },
    {
     "data": {
      "text/plain": [
       "(array([0.        , 0.        , 0.        , ..., 0.98912703, 0.98912703,\n",
       "        1.        ]),\n",
       " array([0.00000000e+00, 5.22739153e-05, 1.04547831e-03, ...,\n",
       "        9.99947726e-01, 1.00000000e+00, 1.00000000e+00]),\n",
       " array([1.99976585e+00, 9.99765852e-01, 9.97976791e-01, ...,\n",
       "        8.42297375e-05, 7.99400862e-05, 6.91355730e-11]))"
      ]
     },
     "execution_count": 261,
     "metadata": {},
     "output_type": "execute_result"
    }
   ],
   "source": [
    "draw_roc(y_train_resampled, y_train_prob_pred1)"
   ]
  },
  {
   "cell_type": "code",
   "execution_count": 262,
   "id": "9e014b2c",
   "metadata": {},
   "outputs": [
    {
     "data": {
      "text/html": [
       "<div>\n",
       "<style scoped>\n",
       "    .dataframe tbody tr th:only-of-type {\n",
       "        vertical-align: middle;\n",
       "    }\n",
       "\n",
       "    .dataframe tbody tr th {\n",
       "        vertical-align: top;\n",
       "    }\n",
       "\n",
       "    .dataframe thead th {\n",
       "        text-align: right;\n",
       "    }\n",
       "</style>\n",
       "<table border=\"1\" class=\"dataframe\">\n",
       "  <thead>\n",
       "    <tr style=\"text-align: right;\">\n",
       "      <th></th>\n",
       "      <th>churn</th>\n",
       "      <th>churn_prob</th>\n",
       "      <th>churn_pred</th>\n",
       "    </tr>\n",
       "  </thead>\n",
       "  <tbody>\n",
       "    <tr>\n",
       "      <th>0</th>\n",
       "      <td>0</td>\n",
       "      <td>0.004930</td>\n",
       "      <td>0</td>\n",
       "    </tr>\n",
       "    <tr>\n",
       "      <th>1</th>\n",
       "      <td>1</td>\n",
       "      <td>0.139801</td>\n",
       "      <td>0</td>\n",
       "    </tr>\n",
       "    <tr>\n",
       "      <th>2</th>\n",
       "      <td>0</td>\n",
       "      <td>0.007721</td>\n",
       "      <td>0</td>\n",
       "    </tr>\n",
       "    <tr>\n",
       "      <th>3</th>\n",
       "      <td>0</td>\n",
       "      <td>0.636809</td>\n",
       "      <td>1</td>\n",
       "    </tr>\n",
       "    <tr>\n",
       "      <th>4</th>\n",
       "      <td>0</td>\n",
       "      <td>0.269050</td>\n",
       "      <td>0</td>\n",
       "    </tr>\n",
       "  </tbody>\n",
       "</table>\n",
       "</div>"
      ],
      "text/plain": [
       "   churn  churn_prob  churn_pred\n",
       "0      0    0.004930           0\n",
       "1      1    0.139801           0\n",
       "2      0    0.007721           0\n",
       "3      0    0.636809           1\n",
       "4      0    0.269050           0"
      ]
     },
     "execution_count": 262,
     "metadata": {},
     "output_type": "execute_result"
    }
   ],
   "source": [
    "y_df.head()"
   ]
  },
  {
   "cell_type": "code",
   "execution_count": 263,
   "id": "9908278e",
   "metadata": {},
   "outputs": [],
   "source": [
    "# Lets find the optimal cutoff point by creating a function optimal_cutoff\n",
    "def optimal_cutoff(df):\n",
    "    num = [float(x/10) for x in range(10)] # list of numbers 0.0 to 0.9\n",
    "    \n",
    "    cutoff_df = pd.DataFrame(columns=['Prob', 'Acc', 'Sens', 'Spec'])\n",
    "    \n",
    "    for i in num:\n",
    "        df[i] = df.churn_prob.map(lambda x: 1 if x>i else 0) \n",
    "    \n",
    "        cm = metrics.confusion_matrix(df.churn, df[i])\n",
    "        total = sum(sum(cm))\n",
    "    \n",
    "        acc = (cm[0,0] + cm[1,1])/total\n",
    "        sens = cm[1,1]/(cm[1,1] + cm[1,0])\n",
    "        spec = cm[0,0]/(cm[0,0] + cm[0,1])\n",
    "    \n",
    "        \n",
    "        cutoff_df.loc[i] = [i, acc, sens, spec]\n",
    "    \n",
    "    print(cutoff_df)\n",
    "    cutoff_df.plot.line(x='Prob', y=['Acc','Sens','Spec'])\n",
    "    plt.show()"
   ]
  },
  {
   "cell_type": "code",
   "execution_count": 264,
   "id": "3d0d04d2",
   "metadata": {},
   "outputs": [
    {
     "name": "stdout",
     "output_type": "stream",
     "text": [
      "     Prob       Acc      Sens      Spec\n",
      "0.0   0.0  0.500000  1.000000  0.000000\n",
      "0.1   0.1  0.675274  0.980450  0.370099\n",
      "0.2   0.2  0.744956  0.956822  0.533089\n",
      "0.3   0.3  0.790329  0.929378  0.651281\n",
      "0.4   0.4  0.817695  0.893413  0.741976\n",
      "0.5   0.5  0.832331  0.844485  0.820178\n",
      "0.6   0.6  0.834945  0.792473  0.877418\n",
      "0.7   0.7  0.815787  0.713121  0.918453\n",
      "0.8   0.8  0.773549  0.596445  0.950653\n",
      "0.9   0.9  0.595060  0.204914  0.985206\n"
     ]
    },
    {
     "data": {
      "image/png": "[encoded data removed]",
      "text/plain": [
       "<Figure size 432x288 with 1 Axes>"
      ]
     },
     "metadata": {
      "needs_background": "light"
     },
     "output_type": "display_data"
    }
   ],
   "source": [
    "# Checking the optimal cutoff point \n",
    "optimal_cutoff(y_df)"
   ]
  },
  {
   "cell_type": "code",
   "execution_count": 265,
   "id": "12f56b8e",
   "metadata": {},
   "outputs": [
    {
     "name": "stdout",
     "output_type": "stream",
     "text": [
      "Accuracy : 0.8323314166231051\n",
      "Sensitivity/Recall : 0.8444851019341348\n",
      "Specificity: 0.8201777313120753\n",
      "False Positive Rate: 0.17982226868792472\n",
      "Positive predictive value: 0.824445011482521\n",
      "Negative Predictive value: 0.8406107688186445\n",
      "sklearn precision score value: 0.824445011482521\n"
     ]
    }
   ],
   "source": [
    "# Lets take a final cutoff point 0.5 and make prediction on train data\n",
    "y_df2 = pd.DataFrame({'churn': y_train_resampled, 'churn_prob': y_train_prob_pred1})\n",
    "\n",
    "y_df2['churn_pred'] = y_df2.churn_prob.map(lambda x: 1 if x> 0.5 else 0)\n",
    "\n",
    "confusion = metrics.confusion_matrix(y_df2.churn, y_df2.churn_pred)\n",
    "TP = confusion[1,1] # true positive \n",
    "TN = confusion[0,0] # true negatives\n",
    "FP = confusion[0,1] # false positives\n",
    "FN = confusion[1,0] # false negatives\n",
    "\n",
    "print('Accuracy :', (metrics.accuracy_score(y_df2.churn,y_df2.churn_pred)))\n",
    "print('Sensitivity/Recall :', (TP / float(TP+FN)))\n",
    "print('Specificity:', (TN / float(TN+FP)))\n",
    "print('False Positive Rate:', (FP/ float(TN+FP)))\n",
    "print('Positive predictive value:', (TP / float(TP+FP)))\n",
    "print('Negative Predictive value:', (TN / float(TN+ FN)))\n",
    "print('sklearn precision score value:', (metrics.precision_score(y_df2.churn, y_df2.churn_pred )))   "
   ]
  },
  {
   "cell_type": "code",
   "execution_count": 266,
   "id": "a2150997",
   "metadata": {},
   "outputs": [
    {
     "name": "stdout",
     "output_type": "stream",
     "text": [
      "Accuracy : 0.8200468279629836\n",
      "Sensitivity/Recall : 0.8204081632653061\n",
      "Specificity: 0.8200145737187272\n",
      "False Positive Rate: 0.17998542628127276\n",
      "Positive predictive value: 0.2892086330935252\n",
      "Negative Predictive value: 0.9808251016850669\n",
      "sklearn precision score value: 0.2892086330935252\n"
     ]
    },
    {
     "data": {
      "text/html": [
       "<div>\n",
       "<style scoped>\n",
       "    .dataframe tbody tr th:only-of-type {\n",
       "        vertical-align: middle;\n",
       "    }\n",
       "\n",
       "    .dataframe tbody tr th {\n",
       "        vertical-align: top;\n",
       "    }\n",
       "\n",
       "    .dataframe thead th {\n",
       "        text-align: right;\n",
       "    }\n",
       "</style>\n",
       "<table border=\"1\" class=\"dataframe\">\n",
       "  <thead>\n",
       "    <tr style=\"text-align: right;\">\n",
       "      <th></th>\n",
       "      <th>churn</th>\n",
       "      <th>churn_prob_test</th>\n",
       "      <th>churn_pred_test</th>\n",
       "    </tr>\n",
       "  </thead>\n",
       "  <tbody>\n",
       "    <tr>\n",
       "      <th>13986</th>\n",
       "      <td>0</td>\n",
       "      <td>0.109526</td>\n",
       "      <td>0</td>\n",
       "    </tr>\n",
       "    <tr>\n",
       "      <th>97709</th>\n",
       "      <td>0</td>\n",
       "      <td>0.117839</td>\n",
       "      <td>0</td>\n",
       "    </tr>\n",
       "    <tr>\n",
       "      <th>3202</th>\n",
       "      <td>0</td>\n",
       "      <td>0.045129</td>\n",
       "      <td>0</td>\n",
       "    </tr>\n",
       "    <tr>\n",
       "      <th>5235</th>\n",
       "      <td>0</td>\n",
       "      <td>0.017431</td>\n",
       "      <td>0</td>\n",
       "    </tr>\n",
       "    <tr>\n",
       "      <th>34681</th>\n",
       "      <td>0</td>\n",
       "      <td>0.039379</td>\n",
       "      <td>0</td>\n",
       "    </tr>\n",
       "  </tbody>\n",
       "</table>\n",
       "</div>"
      ],
      "text/plain": [
       "       churn  churn_prob_test  churn_pred_test\n",
       "13986      0         0.109526                0\n",
       "97709      0         0.117839                0\n",
       "3202       0         0.045129                0\n",
       "5235       0         0.017431                0\n",
       "34681      0         0.039379                0"
      ]
     },
     "execution_count": 266,
     "metadata": {},
     "output_type": "execute_result"
    }
   ],
   "source": [
    "# Lets take a final cutoff point 0.5 and make prediction on test data\n",
    "y_test_prob_pred1 = lr0.predict_proba(X_test_df_pca)[:,1]\n",
    "\n",
    "y_df3 = pd.DataFrame({'churn': y_test, 'churn_prob_test': y_test_prob_pred1})\n",
    "\n",
    "y_df3['churn_pred_test'] = y_df3.churn_prob_test.map(lambda x: 1 if x> 0.5 else 0)\n",
    "\n",
    "confusion = metrics.confusion_matrix(y_df3.churn, y_df3.churn_pred_test)\n",
    "TP = confusion[1,1] # true positive \n",
    "TN = confusion[0,0] # true negatives\n",
    "FP = confusion[0,1] # false positives\n",
    "FN = confusion[1,0] # false negatives\n",
    "\n",
    "print('Accuracy :', (metrics.accuracy_score(y_df3.churn, y_df3.churn_pred_test)))\n",
    "print('Sensitivity/Recall :', (TP / float(TP+FN)))\n",
    "print('Specificity:', (TN / float(TN+FP)))\n",
    "print('False Positive Rate:', (FP/ float(TN+FP)))\n",
    "print('Positive predictive value:', (TP / float(TP+FP)))\n",
    "print('Negative Predictive value:', (TN / float(TN+ FN)))\n",
    "print('sklearn precision score value:', (metrics.precision_score(y_df3.churn, y_df3.churn_pred_test)))   \n",
    "\n",
    "y_df3.head()"
   ]
  },
  {
   "cell_type": "markdown",
   "id": "ad9751e8",
   "metadata": {},
   "source": [
    "### 2) RANDOM FOREST CLASSIFIER"
   ]
  },
  {
   "cell_type": "code",
   "execution_count": 267,
   "id": "640414ac",
   "metadata": {},
   "outputs": [
    {
     "name": "stdout",
     "output_type": "stream",
     "text": [
      "Fitting 4 folds for each of 108 candidates, totalling 432 fits\n",
      "Total Time for Tuning : 0:49:26.594917 s\n",
      "\n"
     ]
    },
    {
     "data": {
      "text/html": [
       "<style>#sk-container-id-4 {color: black;background-color: white;}#sk-container-id-4 pre{padding: 0;}#sk-container-id-4 div.sk-toggleable {background-color: white;}#sk-container-id-4 label.sk-toggleable__label {cursor: pointer;display: block;width: 100%;margin-bottom: 0;padding: 0.3em;box-sizing: border-box;text-align: center;}#sk-container-id-4 label.sk-toggleable__label-arrow:before {content: \"▸\";float: left;margin-right: 0.25em;color: #696969;}#sk-container-id-4 label.sk-toggleable__label-arrow:hover:before {color: black;}#sk-container-id-4 div.sk-estimator:hover label.sk-toggleable__label-arrow:before {color: black;}#sk-container-id-4 div.sk-toggleable__content {max-height: 0;max-width: 0;overflow: hidden;text-align: left;background-color: #f0f8ff;}#sk-container-id-4 div.sk-toggleable__content pre {margin: 0.2em;color: black;border-radius: 0.25em;background-color: #f0f8ff;}#sk-container-id-4 input.sk-toggleable__control:checked~div.sk-toggleable__content {max-height: 200px;max-width: 100%;overflow: auto;}#sk-container-id-4 input.sk-toggleable__control:checked~label.sk-toggleable__label-arrow:before {content: \"▾\";}#sk-container-id-4 div.sk-estimator input.sk-toggleable__control:checked~label.sk-toggleable__label {background-color: #d4ebff;}#sk-container-id-4 div.sk-label input.sk-toggleable__control:checked~label.sk-toggleable__label {background-color: #d4ebff;}#sk-container-id-4 input.sk-hidden--visually {border: 0;clip: rect(1px 1px 1px 1px);clip: rect(1px, 1px, 1px, 1px);height: 1px;margin: -1px;overflow: hidden;padding: 0;position: absolute;width: 1px;}#sk-container-id-4 div.sk-estimator {font-family: monospace;background-color: #f0f8ff;border: 1px dotted black;border-radius: 0.25em;box-sizing: border-box;margin-bottom: 0.5em;}#sk-container-id-4 div.sk-estimator:hover {background-color: #d4ebff;}#sk-container-id-4 div.sk-parallel-item::after {content: \"\";width: 100%;border-bottom: 1px solid gray;flex-grow: 1;}#sk-container-id-4 div.sk-label:hover label.sk-toggleable__label {background-color: #d4ebff;}#sk-container-id-4 div.sk-serial::before {content: \"\";position: absolute;border-left: 1px solid gray;box-sizing: border-box;top: 0;bottom: 0;left: 50%;z-index: 0;}#sk-container-id-4 div.sk-serial {display: flex;flex-direction: column;align-items: center;background-color: white;padding-right: 0.2em;padding-left: 0.2em;position: relative;}#sk-container-id-4 div.sk-item {position: relative;z-index: 1;}#sk-container-id-4 div.sk-parallel {display: flex;align-items: stretch;justify-content: center;background-color: white;position: relative;}#sk-container-id-4 div.sk-item::before, #sk-container-id-4 div.sk-parallel-item::before {content: \"\";position: absolute;border-left: 1px solid gray;box-sizing: border-box;top: 0;bottom: 0;left: 50%;z-index: -1;}#sk-container-id-4 div.sk-parallel-item {display: flex;flex-direction: column;z-index: 1;position: relative;background-color: white;}#sk-container-id-4 div.sk-parallel-item:first-child::after {align-self: flex-end;width: 50%;}#sk-container-id-4 div.sk-parallel-item:last-child::after {align-self: flex-start;width: 50%;}#sk-container-id-4 div.sk-parallel-item:only-child::after {width: 0;}#sk-container-id-4 div.sk-dashed-wrapped {border: 1px dashed gray;margin: 0 0.4em 0.5em 0.4em;box-sizing: border-box;padding-bottom: 0.4em;background-color: white;}#sk-container-id-4 div.sk-label label {font-family: monospace;font-weight: bold;display: inline-block;line-height: 1.2em;}#sk-container-id-4 div.sk-label-container {text-align: center;}#sk-container-id-4 div.sk-container {/* jupyter's `normalize.less` sets `[hidden] { display: none; }` but bootstrap.min.css set `[hidden] { display: none !important; }` so we also need the `!important` here to be able to override the default hidden behavior on the sphinx rendered scikit-learn.org. See: https://github.com/scikit-learn/scikit-learn/issues/21755 */display: inline-block !important;position: relative;}#sk-container-id-4 div.sk-text-repr-fallback {display: none;}</style><div id=\"sk-container-id-4\" class=\"sk-top-container\"><div class=\"sk-text-repr-fallback\"><pre>RandomForestClassifier(max_depth=15, max_features=14, min_samples_leaf=50,\n",
       "                       n_jobs=-1, random_state=42)</pre><b>In a Jupyter environment, please rerun this cell to show the HTML representation or trust the notebook. <br />On GitHub, the HTML representation is unable to render, please try loading this page with nbviewer.org.</b></div><div class=\"sk-container\" hidden><div class=\"sk-item\"><div class=\"sk-estimator sk-toggleable\"><input class=\"sk-toggleable__control sk-hidden--visually\" id=\"sk-estimator-id-4\" type=\"checkbox\" checked><label for=\"sk-estimator-id-4\" class=\"sk-toggleable__label sk-toggleable__label-arrow\">RandomForestClassifier</label><div class=\"sk-toggleable__content\"><pre>RandomForestClassifier(max_depth=15, max_features=14, min_samples_leaf=50,\n",
       "                       n_jobs=-1, random_state=42)</pre></div></div></div></div></div>"
      ],
      "text/plain": [
       "RandomForestClassifier(max_depth=15, max_features=14, min_samples_leaf=50,\n",
       "                       n_jobs=-1, random_state=42)"
      ]
     },
     "execution_count": 267,
     "metadata": {},
     "output_type": "execute_result"
    }
   ],
   "source": [
    "# Importing required library\n",
    "from sklearn.ensemble import RandomForestClassifier\n",
    "\n",
    "# Instatiate the classifier\n",
    "rf_model = RandomForestClassifier(random_state=42, n_jobs=-1)\n",
    "\n",
    "# Importing Grid search for hyperparameter tuning\n",
    "from sklearn.model_selection import GridSearchCV\n",
    "\n",
    "param = {'max_depth': [5,10,15],\n",
    "         'min_samples_leaf': [50,100,200],\n",
    "         'max_features': [4,8,14,20],\n",
    "         'n_estimators': [10,50,100]\n",
    "}\n",
    "\n",
    "grid_search = GridSearchCV(estimator=rf_model, param_grid=param, cv=4, n_jobs=-1, verbose=1, scoring='accuracy')\n",
    "\n",
    "# Importing time to check the time required for tuning \n",
    "import datetime\n",
    "\n",
    "start_time = datetime.datetime.now()\n",
    "\n",
    "grid_search.fit(X_train_res_pca, y_train_resampled)\n",
    "\n",
    "end_time = datetime.datetime.now()\n",
    "total_time = end_time - start_time\n",
    "print(f'Total Time for Tuning : {total_time} s')\n",
    "\n",
    "print()\n",
    "\n",
    "grid_search.best_estimator_"
   ]
  },
  {
   "cell_type": "code",
   "execution_count": 274,
   "id": "2efa2564",
   "metadata": {},
   "outputs": [
    {
     "name": "stdout",
     "output_type": "stream",
     "text": [
      "Predictions on train data/n\n",
      "Accuracy : 0.8954783063251438\n",
      "Sensitivity/Recall : 0.8970726607422896\n",
      "Specificity: 0.893883951907998\n",
      "False Positive Rate: 0.10611604809200209\n",
      "Positive predictive value: 0.8942212495440571\n",
      "Negative Predictive value: 0.8967434055272956\n",
      "sklearn precision score value: 0.8942212495440571\n",
      "ROC-AUC Score: 0.8954783063251438\n",
      "*********************************************\n",
      "Performance of the model/n\n",
      "Accuracy : 0.8954783063251438\n",
      "Sensitivity/Recall : 0.8970726607422896\n",
      "Specificity: 0.893883951907998\n",
      "False Positive Rate: 0.10611604809200209\n",
      "Positive predictive value: 0.8942212495440571\n",
      "Negative Predictive value: 0.8967434055272956\n",
      "sklearn precision score value: 0.8942212495440571\n",
      "ROC-AUC Score: 0.8954783063251438\n"
     ]
    },
    {
     "data": {
      "text/html": [
       "<div>\n",
       "<style scoped>\n",
       "    .dataframe tbody tr th:only-of-type {\n",
       "        vertical-align: middle;\n",
       "    }\n",
       "\n",
       "    .dataframe tbody tr th {\n",
       "        vertical-align: top;\n",
       "    }\n",
       "\n",
       "    .dataframe thead th {\n",
       "        text-align: right;\n",
       "    }\n",
       "</style>\n",
       "<table border=\"1\" class=\"dataframe\">\n",
       "  <thead>\n",
       "    <tr style=\"text-align: right;\">\n",
       "      <th></th>\n",
       "      <th>churn_rf</th>\n",
       "      <th>churn_prob_rf</th>\n",
       "      <th>churn_pred_rf</th>\n",
       "    </tr>\n",
       "  </thead>\n",
       "  <tbody>\n",
       "    <tr>\n",
       "      <th>0</th>\n",
       "      <td>0</td>\n",
       "      <td>0.019614</td>\n",
       "      <td>0</td>\n",
       "    </tr>\n",
       "    <tr>\n",
       "      <th>1</th>\n",
       "      <td>1</td>\n",
       "      <td>0.368254</td>\n",
       "      <td>0</td>\n",
       "    </tr>\n",
       "    <tr>\n",
       "      <th>2</th>\n",
       "      <td>0</td>\n",
       "      <td>0.072599</td>\n",
       "      <td>0</td>\n",
       "    </tr>\n",
       "    <tr>\n",
       "      <th>3</th>\n",
       "      <td>0</td>\n",
       "      <td>0.720288</td>\n",
       "      <td>1</td>\n",
       "    </tr>\n",
       "    <tr>\n",
       "      <th>4</th>\n",
       "      <td>0</td>\n",
       "      <td>0.186669</td>\n",
       "      <td>0</td>\n",
       "    </tr>\n",
       "  </tbody>\n",
       "</table>\n",
       "</div>"
      ],
      "text/plain": [
       "   churn_rf  churn_prob_rf  churn_pred_rf\n",
       "0         0       0.019614              0\n",
       "1         1       0.368254              0\n",
       "2         0       0.072599              0\n",
       "3         0       0.720288              1\n",
       "4         0       0.186669              0"
      ]
     },
     "execution_count": 274,
     "metadata": {},
     "output_type": "execute_result"
    }
   ],
   "source": [
    "# Using the best estimator make prediction on train data\n",
    "rf_model1 = RandomForestClassifier(max_depth=15, max_features=14, min_samples_leaf=50,\n",
    "                       n_jobs=-1, random_state=42)\n",
    "\n",
    "# Fitting the data into the model\n",
    "rf_model1.fit(X_train_res_pca, y_train_resampled)\n",
    "\n",
    "# Make prediction on train data\n",
    "y_train_pred_rf = rf_model1.predict(X_train_res_pca)\n",
    "\n",
    "# Get train proabilities\n",
    "y_train_prob_pred2 = rf_model1.predict_proba(X_train_res_pca)[:,1]\n",
    "\n",
    "# Get test proabilities\n",
    "y_test_prob_pred2 = rf_model1.predict_proba(X_test_df_pca)[:,1]\n",
    "\n",
    "# Lets take a final cutoff point 0.5 and make prediction on train data\n",
    "y_df4 = pd.DataFrame({'churn_rf': y_train_resampled, 'churn_prob_rf': y_train_prob_pred2})\n",
    "\n",
    "y_df4['churn_pred_rf'] = y_df4.churn_prob_rf.map(lambda x: 1 if x> 0.5 else 0)\n",
    "\n",
    "confusion = metrics.confusion_matrix(y_df4.churn_rf, y_df4.churn_pred_rf)\n",
    "TP = confusion[1,1] # true positive \n",
    "TN = confusion[0,0] # true negatives\n",
    "FP = confusion[0,1] # false positives\n",
    "FN = confusion[1,0] # false negatives\n",
    "\n",
    "print('Predictions on train data/n')\n",
    "print('Accuracy :', (metrics.accuracy_score(y_df4.churn_rf, y_df4.churn_pred_rf)))\n",
    "print('Sensitivity/Recall :', (TP / float(TP+FN)))\n",
    "print('Specificity:', (TN / float(TN+FP)))\n",
    "print('False Positive Rate:', (FP/ float(TN+FP)))\n",
    "print('Positive predictive value:', (TP / float(TP+FP)))\n",
    "print('Negative Predictive value:', (TN / float(TN+ FN)))\n",
    "print('sklearn precision score value:', (metrics.precision_score(y_df4.churn_rf, y_df4.churn_pred_rf))) \n",
    "print(f'ROC-AUC Score: {metrics.roc_auc_score(y_df4.churn_rf, y_df4.churn_pred_rf)}')\n",
    "\n",
    "print('*********************************************')\n",
    "\n",
    "# Check the performance of model on train data\n",
    "confusion2 = metrics.confusion_matrix(y_df4.churn_rf, y_train_pred_rf)\n",
    "TP2 = confusion2[1,1] # true positive \n",
    "TN2 = confusion2[0,0] # true negatives\n",
    "FP2 = confusion2[0,1] # false positives\n",
    "FN2 = confusion2[1,0] # false negatives\n",
    "\n",
    "print('Performance of the model/n')\n",
    "print('Accuracy :', (metrics.accuracy_score(y_df4.churn_rf, y_train_pred_rf)))\n",
    "print('Sensitivity/Recall :', (TP2 / float(TP2+FN2)))\n",
    "print('Specificity:', (TN2 / float(TN2+FP2)))\n",
    "print('False Positive Rate:', (FP2/ float(TN2+FP2)))\n",
    "print('Positive predictive value:', (TP2 / float(TP2+FP2)))\n",
    "print('Negative Predictive value:', (TN2 / float(TN2+ FN2)))\n",
    "print('sklearn precision score value:', (metrics.precision_score(y_df4.churn_rf, y_train_pred_rf))) \n",
    "print(f'ROC-AUC Score: {metrics.roc_auc_score(y_df4.churn_rf, y_train_pred_rf)}')\n",
    "\n",
    "\n",
    "y_df4.head()"
   ]
  },
  {
   "cell_type": "code",
   "execution_count": 275,
   "id": "d25741e1",
   "metadata": {},
   "outputs": [
    {
     "name": "stdout",
     "output_type": "stream",
     "text": [
      "Accuracy : 0.8725610435946036\n",
      "Sensitivity/Recall : 0.7646258503401361\n",
      "Specificity: 0.8821957736215691\n",
      "False Positive Rate: 0.1178042263784309\n",
      "Positive predictive value: 0.3668407310704961\n",
      "Negative Predictive value: 0.9767379319618126\n",
      "sklearn precision score value: 0.3668407310704961\n",
      "ROC-AUC Score: 0.8234108119808525\n",
      "*********************************************\n",
      "Performance of the model/n\n",
      "Accuracy : 0.8725610435946036\n",
      "Sensitivity/Recall : 0.7646258503401361\n",
      "Specificity: 0.8821957736215691\n",
      "False Positive Rate: 0.1178042263784309\n",
      "Positive predictive value: 0.3668407310704961\n",
      "Negative Predictive value: 0.9767379319618126\n",
      "sklearn precision score value: 0.3668407310704961\n",
      "ROC-AUC Score: 0.8234108119808525\n"
     ]
    },
    {
     "data": {
      "text/html": [
       "<div>\n",
       "<style scoped>\n",
       "    .dataframe tbody tr th:only-of-type {\n",
       "        vertical-align: middle;\n",
       "    }\n",
       "\n",
       "    .dataframe tbody tr th {\n",
       "        vertical-align: top;\n",
       "    }\n",
       "\n",
       "    .dataframe thead th {\n",
       "        text-align: right;\n",
       "    }\n",
       "</style>\n",
       "<table border=\"1\" class=\"dataframe\">\n",
       "  <thead>\n",
       "    <tr style=\"text-align: right;\">\n",
       "      <th></th>\n",
       "      <th>churn_rf</th>\n",
       "      <th>churn_prob_rf</th>\n",
       "      <th>churn_pred_rf</th>\n",
       "    </tr>\n",
       "  </thead>\n",
       "  <tbody>\n",
       "    <tr>\n",
       "      <th>13986</th>\n",
       "      <td>0</td>\n",
       "      <td>0.031462</td>\n",
       "      <td>0</td>\n",
       "    </tr>\n",
       "    <tr>\n",
       "      <th>97709</th>\n",
       "      <td>0</td>\n",
       "      <td>0.104476</td>\n",
       "      <td>0</td>\n",
       "    </tr>\n",
       "    <tr>\n",
       "      <th>3202</th>\n",
       "      <td>0</td>\n",
       "      <td>0.020368</td>\n",
       "      <td>0</td>\n",
       "    </tr>\n",
       "    <tr>\n",
       "      <th>5235</th>\n",
       "      <td>0</td>\n",
       "      <td>0.118476</td>\n",
       "      <td>0</td>\n",
       "    </tr>\n",
       "    <tr>\n",
       "      <th>34681</th>\n",
       "      <td>0</td>\n",
       "      <td>0.079345</td>\n",
       "      <td>0</td>\n",
       "    </tr>\n",
       "  </tbody>\n",
       "</table>\n",
       "</div>"
      ],
      "text/plain": [
       "       churn_rf  churn_prob_rf  churn_pred_rf\n",
       "13986         0       0.031462              0\n",
       "97709         0       0.104476              0\n",
       "3202          0       0.020368              0\n",
       "5235          0       0.118476              0\n",
       "34681         0       0.079345              0"
      ]
     },
     "execution_count": 275,
     "metadata": {},
     "output_type": "execute_result"
    }
   ],
   "source": [
    "# Lets take a final cutoff point 0.5 and make prediction on test data\n",
    "y_df5 = pd.DataFrame({'churn_rf': y_test, 'churn_prob_rf': y_test_prob_pred2})\n",
    "\n",
    "y_df5['churn_pred_rf'] = y_df5.churn_prob_rf.map(lambda x: 1 if x> 0.5 else 0)\n",
    "\n",
    "confusion = metrics.confusion_matrix(y_df5.churn_rf, y_df5.churn_pred_rf)\n",
    "TP = confusion[1,1] # true positive \n",
    "TN = confusion[0,0] # true negatives\n",
    "FP = confusion[0,1] # false positives\n",
    "FN = confusion[1,0] # false negatives\n",
    "\n",
    "print('Accuracy :', (metrics.accuracy_score(y_df5.churn_rf, y_df5.churn_pred_rf)))\n",
    "print('Sensitivity/Recall :', (TP / float(TP+FN)))\n",
    "print('Specificity:', (TN / float(TN+FP)))\n",
    "print('False Positive Rate:', (FP/ float(TN+FP)))\n",
    "print('Positive predictive value:', (TP / float(TP+FP)))\n",
    "print('Negative Predictive value:', (TN / float(TN+ FN)))\n",
    "print('sklearn precision score value:', (metrics.precision_score(y_df5.churn_rf, y_df5.churn_pred_rf))) \n",
    "print(f'ROC-AUC Score: {metrics.roc_auc_score(y_df5.churn_rf, y_df5.churn_pred_rf)}')\n",
    "\n",
    "print('*********************************************')\n",
    "\n",
    "# Check the performance of model on test data\n",
    "\n",
    "# Make test Predictions\n",
    "y_test_pred_rf = rf_model1.predict(X_test_df_pca)\n",
    "\n",
    "confusion2 = metrics.confusion_matrix(y_df5.churn_rf, y_test_pred_rf)\n",
    "TP2 = confusion2[1,1] # true positive \n",
    "TN2 = confusion2[0,0] # true negatives\n",
    "FP2 = confusion2[0,1] # false positives\n",
    "FN2 = confusion2[1,0] # false negatives\n",
    "\n",
    "print('Performance of the model/n')\n",
    "print('Accuracy :', (metrics.accuracy_score(y_df5.churn_rf, y_test_pred_rf)))\n",
    "print('Sensitivity/Recall :', (TP2 / float(TP2+FN2)))\n",
    "print('Specificity:', (TN2 / float(TN2+FP2)))\n",
    "print('False Positive Rate:', (FP2/ float(TN2+FP2)))\n",
    "print('Positive predictive value:', (TP2 / float(TP2+FP2)))\n",
    "print('Negative Predictive value:', (TN2 / float(TN2+ FN2)))\n",
    "print('sklearn precision score value:', (metrics.precision_score(y_df5.churn_rf, y_test_pred_rf))) \n",
    "print(f'ROC-AUC Score: {metrics.roc_auc_score(y_df5.churn_rf, y_test_pred_rf)}')\n",
    "\n",
    "y_df5.head()"
   ]
  },
  {
   "cell_type": "markdown",
   "id": "efd353c7",
   "metadata": {},
   "source": [
    "### 3) DECISION TREE CLASSIFIER"
   ]
  },
  {
   "cell_type": "code",
   "execution_count": 280,
   "id": "0d5db850",
   "metadata": {},
   "outputs": [
    {
     "name": "stdout",
     "output_type": "stream",
     "text": [
      "Model Performance on test data\n",
      "Accuracy: 0.7366484557921731%\n",
      "ROC-AUC Score: 0.7196501481330935\n",
      "Recall/Sensitivity: 0.6993197278911565\n"
     ]
    }
   ],
   "source": [
    "# Importing required Libraries\n",
    "from sklearn.tree import DecisionTreeClassifier\n",
    "\n",
    "# Instantiate the classifier\n",
    "dt_model = DecisionTreeClassifier(class_weight='balanced', max_features='sqrt', min_samples_leaf=100, max_depth=5,\n",
    "                                 random_state=42)\n",
    "# Fitting the data into the model\n",
    "dt_model.fit(X_train_res_pca, y_train_resampled)\n",
    "\n",
    "# Make predictions on test data\n",
    "y_test_pred_dt1 = dt_model.predict(X_test_df_pca)\n",
    "\n",
    "print('Model Performance on test data')\n",
    "print(f'Accuracy: {metrics.accuracy_score(y_test, y_test_pred_dt1)}%')\n",
    "print(f'ROC-AUC Score: {metrics.roc_auc_score(y_test, y_test_pred_dt1)}')\n",
    "print(f'Recall/Sensitivity: {metrics.recall_score(y_test, y_test_pred_dt1)}')"
   ]
  },
  {
   "cell_type": "code",
   "execution_count": 281,
   "id": "5c6b888e",
   "metadata": {},
   "outputs": [
    {
     "name": "stdout",
     "output_type": "stream",
     "text": [
      "Fitting 5 folds for each of 81 candidates, totalling 405 fits\n",
      "DecisionTreeClassifier(class_weight='balanced', max_depth=15, max_features=30,\n",
      "                       min_samples_leaf=50, min_samples_split=100,\n",
      "                       random_state=100)\n",
      "0.833141662310507\n"
     ]
    }
   ],
   "source": [
    "# Create parameter grid to tune the hyper parameters\n",
    "param2 = {'max_depth': [5,10,15],\n",
    "         'min_samples_leaf': [50,100,200],\n",
    "         'min_samples_split': [100,200,400],\n",
    "         'max_features': [10,15,30]}\n",
    "\n",
    "# Instantiate the classifier\n",
    "dt_model2 = DecisionTreeClassifier(class_weight='balanced', random_state=100)\n",
    "\n",
    "# Initialize the grid search with above parameter grid\n",
    "grid_search2 = GridSearchCV(estimator=dt_model2, param_grid=param2, n_jobs=4, verbose=1, scoring='accuracy')\n",
    "\n",
    "# Fitting the data into gridsearch for cross validation \n",
    "grid_search2.fit(X_train_res_pca, y_train_resampled)\n",
    "\n",
    "print(grid_search2.best_estimator_)\n",
    "print(grid_search2.best_score_)"
   ]
  },
  {
   "cell_type": "code",
   "execution_count": 282,
   "id": "785d6ed5",
   "metadata": {},
   "outputs": [
    {
     "data": {
      "text/html": [
       "<style>#sk-container-id-5 {color: black;background-color: white;}#sk-container-id-5 pre{padding: 0;}#sk-container-id-5 div.sk-toggleable {background-color: white;}#sk-container-id-5 label.sk-toggleable__label {cursor: pointer;display: block;width: 100%;margin-bottom: 0;padding: 0.3em;box-sizing: border-box;text-align: center;}#sk-container-id-5 label.sk-toggleable__label-arrow:before {content: \"▸\";float: left;margin-right: 0.25em;color: #696969;}#sk-container-id-5 label.sk-toggleable__label-arrow:hover:before {color: black;}#sk-container-id-5 div.sk-estimator:hover label.sk-toggleable__label-arrow:before {color: black;}#sk-container-id-5 div.sk-toggleable__content {max-height: 0;max-width: 0;overflow: hidden;text-align: left;background-color: #f0f8ff;}#sk-container-id-5 div.sk-toggleable__content pre {margin: 0.2em;color: black;border-radius: 0.25em;background-color: #f0f8ff;}#sk-container-id-5 input.sk-toggleable__control:checked~div.sk-toggleable__content {max-height: 200px;max-width: 100%;overflow: auto;}#sk-container-id-5 input.sk-toggleable__control:checked~label.sk-toggleable__label-arrow:before {content: \"▾\";}#sk-container-id-5 div.sk-estimator input.sk-toggleable__control:checked~label.sk-toggleable__label {background-color: #d4ebff;}#sk-container-id-5 div.sk-label input.sk-toggleable__control:checked~label.sk-toggleable__label {background-color: #d4ebff;}#sk-container-id-5 input.sk-hidden--visually {border: 0;clip: rect(1px 1px 1px 1px);clip: rect(1px, 1px, 1px, 1px);height: 1px;margin: -1px;overflow: hidden;padding: 0;position: absolute;width: 1px;}#sk-container-id-5 div.sk-estimator {font-family: monospace;background-color: #f0f8ff;border: 1px dotted black;border-radius: 0.25em;box-sizing: border-box;margin-bottom: 0.5em;}#sk-container-id-5 div.sk-estimator:hover {background-color: #d4ebff;}#sk-container-id-5 div.sk-parallel-item::after {content: \"\";width: 100%;border-bottom: 1px solid gray;flex-grow: 1;}#sk-container-id-5 div.sk-label:hover label.sk-toggleable__label {background-color: #d4ebff;}#sk-container-id-5 div.sk-serial::before {content: \"\";position: absolute;border-left: 1px solid gray;box-sizing: border-box;top: 0;bottom: 0;left: 50%;z-index: 0;}#sk-container-id-5 div.sk-serial {display: flex;flex-direction: column;align-items: center;background-color: white;padding-right: 0.2em;padding-left: 0.2em;position: relative;}#sk-container-id-5 div.sk-item {position: relative;z-index: 1;}#sk-container-id-5 div.sk-parallel {display: flex;align-items: stretch;justify-content: center;background-color: white;position: relative;}#sk-container-id-5 div.sk-item::before, #sk-container-id-5 div.sk-parallel-item::before {content: \"\";position: absolute;border-left: 1px solid gray;box-sizing: border-box;top: 0;bottom: 0;left: 50%;z-index: -1;}#sk-container-id-5 div.sk-parallel-item {display: flex;flex-direction: column;z-index: 1;position: relative;background-color: white;}#sk-container-id-5 div.sk-parallel-item:first-child::after {align-self: flex-end;width: 50%;}#sk-container-id-5 div.sk-parallel-item:last-child::after {align-self: flex-start;width: 50%;}#sk-container-id-5 div.sk-parallel-item:only-child::after {width: 0;}#sk-container-id-5 div.sk-dashed-wrapped {border: 1px dashed gray;margin: 0 0.4em 0.5em 0.4em;box-sizing: border-box;padding-bottom: 0.4em;background-color: white;}#sk-container-id-5 div.sk-label label {font-family: monospace;font-weight: bold;display: inline-block;line-height: 1.2em;}#sk-container-id-5 div.sk-label-container {text-align: center;}#sk-container-id-5 div.sk-container {/* jupyter's `normalize.less` sets `[hidden] { display: none; }` but bootstrap.min.css set `[hidden] { display: none !important; }` so we also need the `!important` here to be able to override the default hidden behavior on the sphinx rendered scikit-learn.org. See: https://github.com/scikit-learn/scikit-learn/issues/21755 */display: inline-block !important;position: relative;}#sk-container-id-5 div.sk-text-repr-fallback {display: none;}</style><div id=\"sk-container-id-5\" class=\"sk-top-container\"><div class=\"sk-text-repr-fallback\"><pre>DecisionTreeClassifier(class_weight=&#x27;balanced&#x27;, max_depth=15, max_features=30,\n",
       "                       min_samples_leaf=50, min_samples_split=100,\n",
       "                       random_state=100)</pre><b>In a Jupyter environment, please rerun this cell to show the HTML representation or trust the notebook. <br />On GitHub, the HTML representation is unable to render, please try loading this page with nbviewer.org.</b></div><div class=\"sk-container\" hidden><div class=\"sk-item\"><div class=\"sk-estimator sk-toggleable\"><input class=\"sk-toggleable__control sk-hidden--visually\" id=\"sk-estimator-id-5\" type=\"checkbox\" checked><label for=\"sk-estimator-id-5\" class=\"sk-toggleable__label sk-toggleable__label-arrow\">DecisionTreeClassifier</label><div class=\"sk-toggleable__content\"><pre>DecisionTreeClassifier(class_weight=&#x27;balanced&#x27;, max_depth=15, max_features=30,\n",
       "                       min_samples_leaf=50, min_samples_split=100,\n",
       "                       random_state=100)</pre></div></div></div></div></div>"
      ],
      "text/plain": [
       "DecisionTreeClassifier(class_weight='balanced', max_depth=15, max_features=30,\n",
       "                       min_samples_leaf=50, min_samples_split=100,\n",
       "                       random_state=100)"
      ]
     },
     "execution_count": 282,
     "metadata": {},
     "output_type": "execute_result"
    }
   ],
   "source": [
    "# Using the best estimator fit the data into the DT model\n",
    "dt_model3 = DecisionTreeClassifier(class_weight='balanced', max_depth=15, max_features=30,\n",
    "                       min_samples_leaf=50, min_samples_split=100,\n",
    "                       random_state=100) \n",
    "# Fit the data\n",
    "dt_model3.fit(X_train_res_pca, y_train_resampled)"
   ]
  },
  {
   "cell_type": "code",
   "execution_count": 284,
   "id": "a52dcebf",
   "metadata": {},
   "outputs": [
    {
     "name": "stdout",
     "output_type": "stream",
     "text": [
      "Predictions on train data/n\n",
      "Accuracy : 0.8633298484056455\n",
      "Sensitivity/Recall : 0.8675901725039206\n",
      "Specificity: 0.8590695243073706\n",
      "False Positive Rate: 0.14093047569262937\n",
      "Positive predictive value: 0.8602601979992743\n",
      "Negative Predictive value: 0.866452259187009\n",
      "sklearn precision score value: 0.8602601979992743\n",
      "ROC-AUC Score: 0.8633298484056455\n",
      "*********************************************\n",
      "Performance of the model\n",
      "Accuracy : 0.8633298484056455\n",
      "Sensitivity/Recall : 0.8675901725039206\n",
      "Specificity: 0.8590695243073706\n",
      "False Positive Rate: 0.14093047569262937\n",
      "Positive predictive value: 0.8602601979992743\n",
      "Negative Predictive value: 0.866452259187009\n",
      "sklearn precision score value: 0.8602601979992743\n",
      "ROC-AUC Score: 0.8633298484056455\n"
     ]
    },
    {
     "data": {
      "text/html": [
       "<div>\n",
       "<style scoped>\n",
       "    .dataframe tbody tr th:only-of-type {\n",
       "        vertical-align: middle;\n",
       "    }\n",
       "\n",
       "    .dataframe tbody tr th {\n",
       "        vertical-align: top;\n",
       "    }\n",
       "\n",
       "    .dataframe thead th {\n",
       "        text-align: right;\n",
       "    }\n",
       "</style>\n",
       "<table border=\"1\" class=\"dataframe\">\n",
       "  <thead>\n",
       "    <tr style=\"text-align: right;\">\n",
       "      <th></th>\n",
       "      <th>churn_dt</th>\n",
       "      <th>churn_prob_dt</th>\n",
       "      <th>churn_pred_dt</th>\n",
       "    </tr>\n",
       "  </thead>\n",
       "  <tbody>\n",
       "    <tr>\n",
       "      <th>0</th>\n",
       "      <td>0</td>\n",
       "      <td>0.000000</td>\n",
       "      <td>0</td>\n",
       "    </tr>\n",
       "    <tr>\n",
       "      <th>1</th>\n",
       "      <td>1</td>\n",
       "      <td>0.137255</td>\n",
       "      <td>0</td>\n",
       "    </tr>\n",
       "    <tr>\n",
       "      <th>2</th>\n",
       "      <td>0</td>\n",
       "      <td>0.000000</td>\n",
       "      <td>0</td>\n",
       "    </tr>\n",
       "    <tr>\n",
       "      <th>3</th>\n",
       "      <td>0</td>\n",
       "      <td>0.120000</td>\n",
       "      <td>0</td>\n",
       "    </tr>\n",
       "    <tr>\n",
       "      <th>4</th>\n",
       "      <td>0</td>\n",
       "      <td>0.000000</td>\n",
       "      <td>0</td>\n",
       "    </tr>\n",
       "  </tbody>\n",
       "</table>\n",
       "</div>"
      ],
      "text/plain": [
       "   churn_dt  churn_prob_dt  churn_pred_dt\n",
       "0         0       0.000000              0\n",
       "1         1       0.137255              0\n",
       "2         0       0.000000              0\n",
       "3         0       0.120000              0\n",
       "4         0       0.000000              0"
      ]
     },
     "execution_count": 284,
     "metadata": {},
     "output_type": "execute_result"
    }
   ],
   "source": [
    "# Make predictions on train data\n",
    "y_train_pred_dt = dt_model3.predict(X_train_res_pca)\n",
    "\n",
    "# Get probability prediction for train data\n",
    "y_train_prob_pred3 = dt_model3.predict_proba(X_train_res_pca)[:,1]\n",
    " \n",
    "# Lets take a final cutoff point 0.5 and make prediction on train data\n",
    "y_df6 = pd.DataFrame({'churn_dt': y_train_resampled, 'churn_prob_dt': y_train_prob_pred3})\n",
    "\n",
    "y_df6['churn_pred_dt'] = y_df6.churn_prob_dt.map(lambda x: 1 if x> 0.5 else 0)\n",
    "\n",
    "confusion = metrics.confusion_matrix(y_df6.churn_dt, y_df6.churn_pred_dt)\n",
    "TP = confusion[1,1] # true positive \n",
    "TN = confusion[0,0] # true negatives\n",
    "FP = confusion[0,1] # false positives\n",
    "FN = confusion[1,0] # false negatives\n",
    "\n",
    "print('Predictions on train data/n')\n",
    "print('Accuracy :', (metrics.accuracy_score(y_df6.churn_dt, y_df6.churn_pred_dt)))\n",
    "print('Sensitivity/Recall :', (TP / float(TP+FN)))\n",
    "print('Specificity:', (TN / float(TN+FP)))\n",
    "print('False Positive Rate:', (FP/ float(TN+FP)))\n",
    "print('Positive predictive value:', (TP / float(TP+FP)))\n",
    "print('Negative Predictive value:', (TN / float(TN+ FN)))\n",
    "print('sklearn precision score value:', (metrics.precision_score(y_df6.churn_dt, y_df6.churn_pred_dt))) \n",
    "print(f'ROC-AUC Score: {metrics.roc_auc_score(y_df6.churn_dt, y_df6.churn_pred_dt)}')\n",
    "\n",
    "print('*********************************************')\n",
    "\n",
    "# Check the performance of model on train data\n",
    "confusion2 = metrics.confusion_matrix(y_df6.churn_dt, y_train_pred_dt)\n",
    "TP2 = confusion2[1,1] # true positive \n",
    "TN2 = confusion2[0,0] # true negatives\n",
    "FP2 = confusion2[0,1] # false positives\n",
    "FN2 = confusion2[1,0] # false negatives\n",
    "\n",
    "print('Performance of the model')\n",
    "print('Accuracy :', (metrics.accuracy_score(y_df6.churn_dt, y_train_pred_dt)))\n",
    "print('Sensitivity/Recall :', (TP2 / float(TP2+FN2)))\n",
    "print('Specificity:', (TN2 / float(TN2+FP2)))\n",
    "print('False Positive Rate:', (FP2/ float(TN2+FP2)))\n",
    "print('Positive predictive value:', (TP2 / float(TP2+FP2)))\n",
    "print('Negative Predictive value:', (TN2 / float(TN2+ FN2)))\n",
    "print('sklearn precision score value:', (metrics.precision_score(y_df6.churn_dt, y_train_pred_dt))) \n",
    "print(f'ROC-AUC Score: {metrics.roc_auc_score(y_df6.churn_dt, y_train_pred_dt)}')\n",
    "\n",
    "\n",
    "y_df6.head()"
   ]
  },
  {
   "cell_type": "code",
   "execution_count": 285,
   "id": "878386ab",
   "metadata": {},
   "outputs": [
    {
     "name": "stdout",
     "output_type": "stream",
     "text": [
      "Predictions on test data\n",
      "Accuracy : 0.8199353328130227\n",
      "Sensitivity/Recall : 0.6925170068027211\n",
      "Specificity: 0.8313092057323294\n",
      "False Positive Rate: 0.16869079426767064\n",
      "Positive predictive value: 0.26817702845100105\n",
      "Negative Predictive value: 0.9680384669777966\n",
      "sklearn precision score value: 0.26817702845100105\n",
      "ROC-AUC Score: 0.7619131062675253\n",
      "*********************************************\n",
      "Performance of the model on test data\n",
      "Accuracy : 0.8199353328130227\n",
      "Sensitivity/Recall : 0.6925170068027211\n",
      "Specificity: 0.8313092057323294\n",
      "False Positive Rate: 0.16869079426767064\n",
      "Positive predictive value: 0.26817702845100105\n",
      "Negative Predictive value: 0.9680384669777966\n",
      "sklearn precision score value: 0.26817702845100105\n",
      "ROC-AUC Score: 0.7619131062675253\n"
     ]
    },
    {
     "data": {
      "text/html": [
       "<div>\n",
       "<style scoped>\n",
       "    .dataframe tbody tr th:only-of-type {\n",
       "        vertical-align: middle;\n",
       "    }\n",
       "\n",
       "    .dataframe tbody tr th {\n",
       "        vertical-align: top;\n",
       "    }\n",
       "\n",
       "    .dataframe thead th {\n",
       "        text-align: right;\n",
       "    }\n",
       "</style>\n",
       "<table border=\"1\" class=\"dataframe\">\n",
       "  <thead>\n",
       "    <tr style=\"text-align: right;\">\n",
       "      <th></th>\n",
       "      <th>churn_dt</th>\n",
       "      <th>churn_prob_dt</th>\n",
       "      <th>churn_pred_dt</th>\n",
       "    </tr>\n",
       "  </thead>\n",
       "  <tbody>\n",
       "    <tr>\n",
       "      <th>13986</th>\n",
       "      <td>0</td>\n",
       "      <td>0.000000</td>\n",
       "      <td>0</td>\n",
       "    </tr>\n",
       "    <tr>\n",
       "      <th>97709</th>\n",
       "      <td>0</td>\n",
       "      <td>0.000000</td>\n",
       "      <td>0</td>\n",
       "    </tr>\n",
       "    <tr>\n",
       "      <th>3202</th>\n",
       "      <td>0</td>\n",
       "      <td>0.000000</td>\n",
       "      <td>0</td>\n",
       "    </tr>\n",
       "    <tr>\n",
       "      <th>5235</th>\n",
       "      <td>0</td>\n",
       "      <td>0.193548</td>\n",
       "      <td>0</td>\n",
       "    </tr>\n",
       "    <tr>\n",
       "      <th>34681</th>\n",
       "      <td>0</td>\n",
       "      <td>0.000000</td>\n",
       "      <td>0</td>\n",
       "    </tr>\n",
       "  </tbody>\n",
       "</table>\n",
       "</div>"
      ],
      "text/plain": [
       "       churn_dt  churn_prob_dt  churn_pred_dt\n",
       "13986         0       0.000000              0\n",
       "97709         0       0.000000              0\n",
       "3202          0       0.000000              0\n",
       "5235          0       0.193548              0\n",
       "34681         0       0.000000              0"
      ]
     },
     "execution_count": 285,
     "metadata": {},
     "output_type": "execute_result"
    }
   ],
   "source": [
    "# Make predictions on test data\n",
    "y_test_pred_dt = dt_model3.predict(X_test_df_pca)\n",
    "\n",
    "# Get probability prediction for test data\n",
    "y_test_prob_pred3 = dt_model3.predict_proba(X_test_df_pca)[:,1]\n",
    " \n",
    "# Lets take a final cutoff point 0.5 and make prediction on test data\n",
    "y_df7 = pd.DataFrame({'churn_dt': y_test, 'churn_prob_dt': y_test_prob_pred3})\n",
    "\n",
    "y_df7['churn_pred_dt'] = y_df7.churn_prob_dt.map(lambda x: 1 if x> 0.5 else 0)\n",
    "\n",
    "confusion = metrics.confusion_matrix(y_df7.churn_dt, y_df7.churn_pred_dt)\n",
    "TP = confusion[1,1] # true positive \n",
    "TN = confusion[0,0] # true negatives\n",
    "FP = confusion[0,1] # false positives\n",
    "FN = confusion[1,0] # false negatives\n",
    "\n",
    "print('Predictions on test data')\n",
    "print('Accuracy :', (metrics.accuracy_score(y_df7.churn_dt, y_df7.churn_pred_dt)))\n",
    "print('Sensitivity/Recall :', (TP / float(TP+FN)))\n",
    "print('Specificity:', (TN / float(TN+FP)))\n",
    "print('False Positive Rate:', (FP/ float(TN+FP)))\n",
    "print('Positive predictive value:', (TP / float(TP+FP)))\n",
    "print('Negative Predictive value:', (TN / float(TN+ FN)))\n",
    "print('sklearn precision score value:', (metrics.precision_score(y_df7.churn_dt, y_df7.churn_pred_dt))) \n",
    "print(f'ROC-AUC Score: {metrics.roc_auc_score(y_df7.churn_dt, y_df7.churn_pred_dt)}')\n",
    "\n",
    "print('*********************************************')\n",
    "\n",
    "# Check the performance of model on test data\n",
    "confusion2 = metrics.confusion_matrix(y_df7.churn_dt, y_test_pred_dt)\n",
    "TP2 = confusion2[1,1] # true positive \n",
    "TN2 = confusion2[0,0] # true negatives\n",
    "FP2 = confusion2[0,1] # false positives\n",
    "FN2 = confusion2[1,0] # false negatives\n",
    "\n",
    "print('Performance of the model on test data')\n",
    "print('Accuracy :', (metrics.accuracy_score(y_df7.churn_dt, y_test_pred_dt)))\n",
    "print('Sensitivity/Recall :', (TP2 / float(TP2+FN2)))\n",
    "print('Specificity:', (TN2 / float(TN2+FP2)))\n",
    "print('False Positive Rate:', (FP2/ float(TN2+FP2)))\n",
    "print('Positive predictive value:', (TP2 / float(TP2+FP2)))\n",
    "print('Negative Predictive value:', (TN2 / float(TN2+ FN2)))\n",
    "print('sklearn precision score value:', (metrics.precision_score(y_df7.churn_dt, y_test_pred_dt))) \n",
    "print(f'ROC-AUC Score: {metrics.roc_auc_score(y_df7.churn_dt, y_test_pred_dt)}')\n",
    "\n",
    "\n",
    "y_df7.head()"
   ]
  },
  {
   "cell_type": "markdown",
   "id": "cd679076",
   "metadata": {},
   "source": [
    "## FOR TEST DATA\n",
    "## 1) LOGISTIC REGRESSION: RECALL SCORE = 82%\n",
    "## 2) RF MODEL: RECALL SCORE = 76.46%\n",
    "## 3) DT MODEL: RECALL SCORE = 69.25%"
   ]
  },
  {
   "cell_type": "markdown",
   "id": "af5c752b",
   "metadata": {},
   "source": [
    "### THE LOGISTIC REGRESSION MODEL IS PERFORMING BETTER THAN TREE MODELS. DT MODEL AND RF MODEL SLIGHTLY OVERFITTED THE DATA. MORE NUMBER OF HYPERPARAMETERES NEED TO PROVIDE FOR TUNING. THIS WILL INCREASE THE PERFORMANCE OF TREE MODEL."
   ]
  },
  {
   "cell_type": "code",
   "execution_count": 307,
   "id": "4821d93d",
   "metadata": {},
   "outputs": [
    {
     "data": {
      "text/plain": [
       "<AxesSubplot:>"
      ]
     },
     "execution_count": 307,
     "metadata": {},
     "output_type": "execute_result"
    },
    {
     "data": {
      "image/png": "[encoded data removed]",
      "text/plain": [
       "<Figure size 576x864 with 1 Axes>"
      ]
     },
     "metadata": {
      "needs_background": "light"
     },
     "output_type": "display_data"
    }
   ],
   "source": [
    "# Lets view the important features\n",
    "plt.figure(figsize=[8,12])\n",
    "feat_imp = pd.Series(rf_model1.feature_importances_, index=X.columns[:50])\n",
    "feat_imp.sort_values().plot(kind='barh')"
   ]
  },
  {
   "cell_type": "code",
   "execution_count": null,
   "id": "bb3bec80",
   "metadata": {},
   "outputs": [],
   "source": []
  }
 ],
 "metadata": {
  "kernelspec": {
   "display_name": "Python 3 (ipykernel)",
   "language": "python",
   "name": "python3"
  },
  "language_info": {
   "codemirror_mode": {
    "name": "ipython",
    "version": 3
   },
   "file_extension": ".py",
   "mimetype": "text/x-python",
   "name": "python",
   "nbconvert_exporter": "python",
   "pygments_lexer": "ipython3",
   "version": "3.9.7"
  }
 },
 "nbformat": 4,
 "nbformat_minor": 5
}
